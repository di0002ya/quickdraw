{
 "cells": [
  {
   "cell_type": "markdown",
   "metadata": {},
   "source": [
    "# LSTM-CNN Outline\n",
    "Author: Ding Shuya\n",
    "1. Motivation\n",
    "2. Data Loading \n",
    "3. Data Preprocessing \n",
    "\n",
    ">1. Data Analysis \n",
    ">2. Balanced Data Filter\n",
    ">3. Padding Data\n",
    ">4. Data Normalization\n",
    ">5. Categorical\n",
    "\n",
    "4. Model Structures\n",
    ">1. Hyperparameter Tuning\n",
    "5. Training \n",
    ">1. Training\n",
    ">2. Performance Improvment\n",
    "7. Evaluation \n"
   ]
  },
  {
   "cell_type": "markdown",
   "metadata": {},
   "source": [
    "## 1. Motivation"
   ]
  },
  {
   "cell_type": "markdown",
   "metadata": {},
   "source": [
    "Encoder-Decoder structures are widely used in seq2seq model and other applications.\n",
    "\n",
    "Beyond that, CNN has the most outstanding results in image classifications\n",
    "\n",
    "We hypothesis that RNN-CNN network can deal with incomplete sketches better as this structure take consider the stroke sequence of sketches. Meanwhile, CNN is used for predicting the labels using hidden feature vectors provided by RNN encoder."
   ]
  },
  {
   "cell_type": "markdown",
   "metadata": {},
   "source": [
    "## 2. Data Loading"
   ]
  },
  {
   "cell_type": "code",
   "execution_count": 3,
   "metadata": {},
   "outputs": [],
   "source": [
    "if 'session' in locals() and session is not None:\n",
    "    print('Close interactive session')\n",
    "    session.close()"
   ]
  },
  {
   "cell_type": "code",
   "execution_count": 4,
   "metadata": {},
   "outputs": [
    {
     "name": "stdout",
     "output_type": "stream",
     "text": [
      "/home/di0002ya/miniconda3/envs/quickdraw/bin/python\n"
     ]
    }
   ],
   "source": [
    "import sys \n",
    "print(sys.executable)"
   ]
  },
  {
   "cell_type": "code",
   "execution_count": 5,
   "metadata": {},
   "outputs": [],
   "source": [
    "import os\n",
    "os.environ[\"CUDA_VISIBLE_DEVICES\"] = '1'"
   ]
  },
  {
   "cell_type": "code",
   "execution_count": 6,
   "metadata": {},
   "outputs": [
    {
     "name": "stderr",
     "output_type": "stream",
     "text": [
      "Using TensorFlow backend.\n"
     ]
    }
   ],
   "source": [
    "from keras.models import Sequential\n",
    "from keras.layers import Dense, Dropout, Activation, Flatten, GRU, LSTM\n",
    "from keras.layers import Conv2D, MaxPooling2D, Input, Reshape\n",
    "from keras.layers.convolutional import ZeroPadding2D\n",
    "from keras.models import load_model\n",
    "import glob\n",
    "import os.path as path\n",
    "import ndjson\n",
    "import random\n",
    "import pickle\n",
    "import numpy as np\n",
    "import time\n",
    "import math"
   ]
  },
  {
   "cell_type": "markdown",
   "metadata": {},
   "source": [
    "Our team will use one preprocessed data raw files for modelling in order to compare results."
   ]
  },
  {
   "cell_type": "code",
   "execution_count": 7,
   "metadata": {},
   "outputs": [],
   "source": [
    "import os\n",
    "import pickle\n",
    "\n",
    "def _cut_stroke(x,ratio=1):\n",
    "    if ratio==1:\n",
    "        return x\n",
    "    return [i[:int(len(i)*ratio)] for i in x]\n",
    "def get_dataset(dataset_path='',dataset_name='1102_05b633244.dms',train_r=1.0,test_r=1.0):\n",
    "    (train_Recognized, train_X, train_Y, test_Recognized, test_X, test_Y)=pickle.load(open(os.path.join(dataset_path,dataset_name),'rb'))\n",
    "    train_X=_cut_stroke(train_X,train_r)\n",
    "    test_X=_cut_stroke(test_X,test_r)\n",
    "    return train_Recognized,train_X,train_Y,test_Recognized,test_X,test_Y"
   ]
  },
  {
   "cell_type": "code",
   "execution_count": 8,
   "metadata": {},
   "outputs": [],
   "source": [
    "dataset_path='/home/di0002ya/quickdraw/dsy'"
   ]
  },
  {
   "cell_type": "code",
   "execution_count": 40,
   "metadata": {},
   "outputs": [],
   "source": [
    "train_Recognized,train_X,train_Y,test_Recognized,test_X,test_Y=get_dataset(dataset_path = dataset_path, dataset_name = '1102_05b633244.dms',train_r=1.0,test_r=1.0)"
   ]
  },
  {
   "cell_type": "code",
   "execution_count": 41,
   "metadata": {},
   "outputs": [],
   "source": [
    "import pandas as pd\n",
    "df_trainX = pd.DataFrame({'drawing':train_X})\n",
    "df_testX = pd.DataFrame({'drawing':test_X})\n",
    "# Calculate Stroke Number of Each Image\n",
    "df_trainX['stroke_number'] = df_trainX['drawing'].str.len()\n",
    "df_testX['stroke_number'] = df_testX['drawing'].str.len()"
   ]
  },
  {
   "cell_type": "markdown",
   "metadata": {},
   "source": [
    "## 3. Data Preprocessing"
   ]
  },
  {
   "cell_type": "markdown",
   "metadata": {},
   "source": [
    "We will use datasets format which proposed in sketch RNN. Each example in the dataset is stored as list of coordinate offsets: ∆x, ∆y, and a binary value representing whether the pen is lifted away from the paper. \n",
    "\n",
    "\n"
   ]
  },
  {
   "cell_type": "markdown",
   "metadata": {},
   "source": [
    "### 3.1 Data Analysis"
   ]
  },
  {
   "cell_type": "markdown",
   "metadata": {},
   "source": [
    "1st Structure: Dimension = (samples) * (3* max points of each strokes of all drawings) * (max strokes of all drawings)\n",
    "\n",
    "2nd Structure: Dimension = (samples) * 3* max points of all drawings\n"
   ]
  },
  {
   "cell_type": "markdown",
   "metadata": {},
   "source": [
    "#### 1. 1st Structure"
   ]
  },
  {
   "cell_type": "code",
   "execution_count": 15,
   "metadata": {},
   "outputs": [],
   "source": [
    "import itertools\n",
    "def create_stroke(df):\n",
    "    final = []\n",
    "    # Image\n",
    "    for i in range(df.shape[0]):\n",
    "        num = df.loc[i,'stroke_number']\n",
    "        # Strokes \n",
    "        stroke_ls = []\n",
    "        for stroke in range(num):\n",
    "            X = df.loc[i,'drawing'][stroke][0] #points of stroke \n",
    "            Y = df.loc[i,'drawing'][stroke][1] #points of stroke\n",
    "            X_offset = np.diff(np.array(X)) # points of stroke \n",
    "            Y_offset = np.diff(np.array(Y)) # points of stroke\n",
    "            binary = [0]*(X_offset.shape[0]-1)\n",
    "            binary.append(1) # points of stroke \n",
    "            binary = np.array(binary)\n",
    "            stroke_ar = np.vstack((X_offset,Y_offset,binary)).reshape(-1) \n",
    "            stroke_ls.append(stroke_ar)\n",
    "        final.append(stroke_ls)\n",
    "    return final"
   ]
  },
  {
   "cell_type": "code",
   "execution_count": 16,
   "metadata": {},
   "outputs": [],
   "source": [
    "trainX_final = create_stroke(df_trainX)"
   ]
  },
  {
   "cell_type": "code",
   "execution_count": 17,
   "metadata": {},
   "outputs": [
    {
     "name": "stdout",
     "output_type": "stream",
     "text": [
      "Max stroke is:  stroke_number    30\n",
      "dtype: int64\n",
      "Min stroke is:  stroke_number    1\n",
      "dtype: int64\n"
     ]
    }
   ],
   "source": [
    "print('Max stroke is: ', df_trainX[['stroke_number']].max())\n",
    "print('Min stroke is: ', df_trainX[['stroke_number']].min())"
   ]
  },
  {
   "cell_type": "code",
   "execution_count": 18,
   "metadata": {},
   "outputs": [
    {
     "name": "stdout",
     "output_type": "stream",
     "text": [
      "Max dimensions *3 of overall stroke 597\n",
      "Min dimensions *3 of overall stroke 3\n"
     ]
    }
   ],
   "source": [
    "max_stroke = 0 \n",
    "min_stroke = 500\n",
    "for i in range(len(trainX_final)):\n",
    "    for j in range(len(trainX_final[i])):\n",
    "        temp = trainX_final[i][j].shape[0]\n",
    "        if temp < min_stroke:\n",
    "            min_stroke = temp\n",
    "        elif temp > max_stroke:\n",
    "            max_stroke = temp\n",
    "print('Max dimensions *3 of overall stroke', max_stroke) \n",
    "print('Min dimensions *3 of overall stroke', min_stroke)  "
   ]
  },
  {
   "cell_type": "markdown",
   "metadata": {},
   "source": [
    "As what mentioned above, I will preprocess trainX_final into following dimensions \n",
    "\n",
    "1. 1st Structure: **N\\*597\\*30**\n",
    "\n",
    "Before this, as our computational resources is limited, only part of training data will be used. In order to eliminate imbalanced data effect, I will use following functions to select balanced data."
   ]
  },
  {
   "cell_type": "markdown",
   "metadata": {},
   "source": [
    "### 3.2 Balanced Data filtering"
   ]
  },
  {
   "cell_type": "code",
   "execution_count": 19,
   "metadata": {},
   "outputs": [],
   "source": [
    "from random import shuffle\n",
    "def balance_filter(ls, label_list, name, SL, EL):   \n",
    "    # Get indices list that have balance labels \n",
    "    label_ar = np.array(label_list)\n",
    "    label1_indices = np.array(np.where(label_ar == 0)).reshape(-1)[SL:EL].tolist()\n",
    "    label2_indices = np.array(np.where(label_ar == 1)).reshape(-1)[SL:EL].tolist()\n",
    "    label3_indices = np.array(np.where(label_ar == 2)).reshape(-1)[SL:EL].tolist()\n",
    "    label4_indices = np.array(np.where(label_ar == 3)).reshape(-1)[SL:EL].tolist()\n",
    "    label5_indices = np.array(np.where(label_ar == 4)).reshape(-1)[SL:EL].tolist()\n",
    "    train_indices = []\n",
    "    temp = [label1_indices, label2_indices, label3_indices, label4_indices, label5_indices]\n",
    "    for i in range(5):\n",
    "        target = temp[i]\n",
    "        for item in range(len(target)):\n",
    "            train_indices.append(target[item])\n",
    "#     print(train_indices)\n",
    "    # Shuffle indices\n",
    "    shuffle(train_indices)\n",
    "    # Select X & Y\n",
    "    final_X_ls = []\n",
    "    final_label_ls = []\n",
    "    for i in range(len(train_indices)):\n",
    "#         print('i')\n",
    "#         print(i)\n",
    "        indice = train_indices[i]\n",
    "        #print('indice')\n",
    "        #print(indice)\n",
    "        final_X_ls.append(ls[indice])\n",
    "        final_label_ls.append(label_list[indice])\n",
    "\n",
    "    final_label_ar = np.array(final_label_ls)\n",
    "    print(name +'label 0 has', sum(final_label_ar==0))\n",
    "    print(name +'label 1 has', sum(final_label_ar==1))\n",
    "    print(name +'label 2 has', sum(final_label_ar==2))\n",
    "    print(name +'label 3 has', sum(final_label_ar==3))\n",
    "    print(name + 'label 4 has', sum(final_label_ar==4))\n",
    "\n",
    "    return final_X_ls, final_label_ar"
   ]
  },
  {
   "cell_type": "code",
   "execution_count": 20,
   "metadata": {},
   "outputs": [
    {
     "name": "stdout",
     "output_type": "stream",
     "text": [
      "trainlabel 0 has 3000\n",
      "trainlabel 1 has 3000\n",
      "trainlabel 2 has 3000\n",
      "trainlabel 3 has 3000\n",
      "trainlabel 4 has 3000\n"
     ]
    }
   ],
   "source": [
    "train_X_balance, train_Y_balance = balance_filter(trainX_final, train_Y, 'train', 0, 3000)"
   ]
  },
  {
   "cell_type": "code",
   "execution_count": 28,
   "metadata": {},
   "outputs": [
    {
     "name": "stdout",
     "output_type": "stream",
     "text": [
      "trainlabel 0 has 30000\n",
      "trainlabel 1 has 30000\n",
      "trainlabel 2 has 30000\n",
      "trainlabel 3 has 30000\n",
      "trainlabel 4 has 30000\n"
     ]
    }
   ],
   "source": [
    "train_X_balance_full, train_Y_balance_full = balance_filter(trainX_final, train_Y, 'train', 0, 30000)"
   ]
  },
  {
   "cell_type": "markdown",
   "metadata": {},
   "source": [
    "### 3.3 Padding Data"
   ]
  },
  {
   "cell_type": "markdown",
   "metadata": {},
   "source": [
    "In order simplifying the RNN training process, we will padding our training data into same time steps length and same dimensions. \n",
    "\n",
    "It means that two operations will be done. One is padding points of each stroke of all samples to 597 and padding strokes of each images to 30"
   ]
  },
  {
   "cell_type": "code",
   "execution_count": 29,
   "metadata": {},
   "outputs": [],
   "source": [
    "def pad_points(data_stroke, max_pts = 597):\n",
    "    final = []\n",
    "    for i in range(len(data_stroke)):\n",
    "        # ith image \n",
    "        for j in range(len(data_stroke[i])):\n",
    "            # jth strokes \n",
    "            orig = len(data_stroke[i][j])\n",
    "            # pts*3 of jth stroke \n",
    "            #print(orig)\n",
    "            if orig < max_pts:\n",
    "                pad = np.array([0]*(max_pts-orig))\n",
    "                data_stroke[i][j] = np.hstack((data_stroke[i][j],pad))\n",
    "            else:\n",
    "                data_stroke[i][j] = data_stroke[i][j][:max_pts]\n",
    "            #print(pad.shape)\n",
    "            #print(data_stroke[i][j].shape)\n",
    "\n",
    "        final.append(np.array(data_stroke[i]))\n",
    "            #print(data_stroke[i][j].shape)\n",
    "    return final"
   ]
  },
  {
   "cell_type": "code",
   "execution_count": 30,
   "metadata": {},
   "outputs": [],
   "source": [
    "trainX_input = pad_points(train_X_balance)"
   ]
  },
  {
   "cell_type": "code",
   "execution_count": 31,
   "metadata": {},
   "outputs": [],
   "source": [
    "trainX_full = pad_points(train_X_balance_full)"
   ]
  },
  {
   "cell_type": "code",
   "execution_count": 32,
   "metadata": {},
   "outputs": [],
   "source": [
    "def pad_stroke(data_stroke, max_stroke, max_pts):\n",
    "    for i in range(len(data_stroke)):\n",
    "        # ith image \n",
    "        # get No.stroke for this image\n",
    "        orig = data_stroke[i].shape[0]\n",
    "        #print(orig)\n",
    "        pad = np.zeros(((max_stroke-orig),max_pts))\n",
    "        #print(pad.shape)\n",
    "        #print(data_stroke[i].shape)\n",
    "        data_stroke[i] = np.vstack((data_stroke[i],pad))\n",
    "        #print(data_stroke[i].shape)\n",
    "    return data_stroke"
   ]
  },
  {
   "cell_type": "code",
   "execution_count": 33,
   "metadata": {},
   "outputs": [],
   "source": [
    "import numpy as np\n",
    "trainX_ar = np.array(pad_stroke(trainX_input, max_stroke=30, max_pts=597))"
   ]
  },
  {
   "cell_type": "code",
   "execution_count": 34,
   "metadata": {},
   "outputs": [],
   "source": [
    "trainX_ar_full = np.array(pad_stroke(trainX_full, max_stroke=30, max_pts=597))"
   ]
  },
  {
   "cell_type": "markdown",
   "metadata": {},
   "source": [
    "### 3.4 Data Normalization"
   ]
  },
  {
   "cell_type": "code",
   "execution_count": 35,
   "metadata": {},
   "outputs": [],
   "source": [
    "from sklearn import preprocessing\n",
    "from keras.utils.np_utils import to_categorical\n",
    "\n",
    "min_value = trainX_ar.min()\n",
    "max_value = trainX_ar.max()\n",
    "X_std = (trainX_ar - min_value) / (max_value - min_value)\n",
    "X_scaled= X_std * (max_value - min_value) + min_value\n",
    "categorical_labels = to_categorical(train_Y_balance, num_classes=5)\n",
    "np.save(dataset_path+'/X_train.npy',X_scaled)\n",
    "np.save(dataset_path+'/Y_train.npy',categorical_labels)"
   ]
  },
  {
   "cell_type": "code",
   "execution_count": 36,
   "metadata": {},
   "outputs": [],
   "source": [
    "from sklearn import preprocessing\n",
    "from keras.utils.np_utils import to_categorical\n",
    "\n",
    "min_value = trainX_ar_full.min()\n",
    "max_value = trainX_ar_full.max()\n",
    "X_std = (trainX_ar_full - min_value) / (max_value - min_value)\n",
    "X_scaled_full = X_std * (max_value - min_value) + min_value\n",
    "categorical_labels_full = to_categorical(train_Y_balance_full, num_classes=5)\n",
    "np.save(dataset_path+'/X_train_full.npy',X_scaled_full)\n",
    "np.save(dataset_path+'/Y_train_full.npy',categorical_labels_full)"
   ]
  },
  {
   "cell_type": "code",
   "execution_count": 45,
   "metadata": {},
   "outputs": [],
   "source": [
    "np.save(dataset_path+'/X_train_full.npy',X_scaled_full)"
   ]
  },
  {
   "cell_type": "markdown",
   "metadata": {},
   "source": [
    "## 4. Model Structure N = 15000"
   ]
  },
  {
   "cell_type": "markdown",
   "metadata": {},
   "source": [
    "Firstly, we will use only 15000 training data for hyperparameter tuning. Following parameters will be tuned.\n",
    "1. LSTMUnits\n",
    "2. Batch\n",
    "3. Dropout\n",
    "4. Enc_Dense\n",
    "5. Num_filters\n",
    "6. KernelS\n",
    "7. Dec_dense\n",
    "\n",
    "We firstly build a simple model. Moreover, dropout layer, maxpooling layer will also be used. Order of these layers will be based on the following rules. \n",
    "1. Dropout \n",
    "2. Linear/Dense/Conv\n",
    "3. Batch Normalization\n",
    "4. Activations\n",
    "5. Maxpooling\n",
    "\n",
    "'Relu' will be used after convolutional layer and dense layer. \n",
    "\n",
    "Output activation function will be 'softmax' as this is a classification problems. \n",
    "\n",
    "Adam is the selected optimizer as Adam is the best optimizer currently. \n",
    "\n",
    "Loss function will be 'cross-entropy'. "
   ]
  },
  {
   "cell_type": "markdown",
   "metadata": {},
   "source": [
    "#### 4.1 LSTM Units "
   ]
  },
  {
   "cell_type": "code",
   "execution_count": 30,
   "metadata": {},
   "outputs": [],
   "source": [
    "LSTM_ls = [10,50,100,300,500]"
   ]
  },
  {
   "cell_type": "code",
   "execution_count": 25,
   "metadata": {},
   "outputs": [],
   "source": [
    "args = {}\n",
    "args['LSTMUnits'] = 100\n",
    "args['batch'] = 256\n",
    "args['epochs'] = 1\n",
    "args['dropout'] = 0.2\n",
    "args['len_category'] = 5\n",
    "args['enc_dense'] = 256\n",
    "args['num_filters'] = 1\n",
    "args['kernelS'] = 3\n",
    "args['stride'] = 2\n",
    "args['poolS'] = 2 \n",
    "args['dec_dense'] = 32"
   ]
  },
  {
   "cell_type": "code",
   "execution_count": null,
   "metadata": {},
   "outputs": [],
   "source": [
    "model_list = []\n",
    "for i in range(len(LSTM_ls)):\n",
    "    print(i,'---hyper tuning--')\n",
    "    #args['LSTMUnits'] = LSTM[i]\n",
    "    units = LSTM_ls[i]\n",
    "    print(units)\n",
    "    model = Sequential()\n",
    "    model.add(LSTM(units, return_sequences=False, input_dim=597, input_length=30))\n",
    "    model.add(Dense(args['enc_dense'], activation='relu'))\n",
    "    model.add(Reshape((16,16,1)))\n",
    "    model.add(Conv2D(args['num_filters'],args['kernelS'],strides=(args['stride'],args['stride']), activation ='relu'))\n",
    "    #model.add(MaxPooling2D(pool_size=(args['poolS'],args['poolS'])))\n",
    "    model.add(Flatten())\n",
    "    model.add(Dense(args['dec_dense'], activation='relu'))\n",
    "    model.add(Dropout(args['dropout']))\n",
    "    model.add(Dense(args['len_category'], activation='softmax'))\n",
    "\n",
    "    model.compile(loss='categorical_crossentropy',\n",
    "              optimizer='adam',\n",
    "              metrics=['accuracy'])\n",
    "    model.fit(X_train, categorical_labels,\n",
    "          batch_size = args['batch'], nb_epoch= args['epochs'], \n",
    "          verbose=1,validation_split=0.2)\n",
    "    model_list.append(model)"
   ]
  },
  {
   "cell_type": "markdown",
   "metadata": {},
   "source": [
    "Based on above results, we will select **LSTMUnits = 300** "
   ]
  },
  {
   "cell_type": "markdown",
   "metadata": {},
   "source": [
    "#### 4.2 Batch"
   ]
  },
  {
   "cell_type": "code",
   "execution_count": 43,
   "metadata": {},
   "outputs": [],
   "source": [
    "batch_ls = [16,32,64,128,256]"
   ]
  },
  {
   "cell_type": "code",
   "execution_count": 44,
   "metadata": {},
   "outputs": [],
   "source": [
    "args = {}\n",
    "args['LSTMUnits'] = 300\n",
    "args['batch'] = 256\n",
    "args['epochs'] = 1\n",
    "args['dropout'] = 0.2\n",
    "args['len_category'] = 5\n",
    "args['enc_dense'] = 256\n",
    "args['num_filters'] = 1\n",
    "args['kernelS'] = 3\n",
    "args['stride'] = 2\n",
    "args['poolS'] = 2 \n",
    "args['dec_dense'] = 32"
   ]
  },
  {
   "cell_type": "code",
   "execution_count": 45,
   "metadata": {},
   "outputs": [
    {
     "name": "stdout",
     "output_type": "stream",
     "text": [
      "0 ---hyper tuning--\n",
      "16\n"
     ]
    },
    {
     "name": "stderr",
     "output_type": "stream",
     "text": [
      "/home/di0002ya/miniconda3/envs/quickdraw/lib/python3.6/site-packages/ipykernel_launcher.py:8: UserWarning: The `input_dim` and `input_length` arguments in recurrent layers are deprecated. Use `input_shape` instead.\n",
      "  \n",
      "/home/di0002ya/miniconda3/envs/quickdraw/lib/python3.6/site-packages/ipykernel_launcher.py:8: UserWarning: Update your `LSTM` call to the Keras 2 API: `LSTM(300, return_sequences=False, input_shape=(30, 597))`\n",
      "  \n",
      "/home/di0002ya/miniconda3/envs/quickdraw/lib/python3.6/site-packages/ipykernel_launcher.py:23: UserWarning: The `nb_epoch` argument in `fit` has been renamed `epochs`.\n"
     ]
    },
    {
     "name": "stdout",
     "output_type": "stream",
     "text": [
      "Train on 12000 samples, validate on 3000 samples\n",
      "Epoch 1/1\n",
      "12000/12000 [==============================] - 44s 4ms/step - loss: 1.3895 - acc: 0.3435 - val_loss: 1.3579 - val_acc: 0.3523\n",
      "1 ---hyper tuning--\n",
      "32\n",
      "Train on 12000 samples, validate on 3000 samples\n",
      "Epoch 1/1\n",
      "12000/12000 [==============================] - 28s 2ms/step - loss: 1.3099 - acc: 0.4237 - val_loss: 1.0563 - val_acc: 0.5883\n",
      "2 ---hyper tuning--\n",
      "64\n",
      "Train on 12000 samples, validate on 3000 samples\n",
      "Epoch 1/1\n",
      "12000/12000 [==============================] - 20s 2ms/step - loss: 1.2991 - acc: 0.4220 - val_loss: 1.1296 - val_acc: 0.5157\n",
      "3 ---hyper tuning--\n",
      "128\n",
      "Train on 12000 samples, validate on 3000 samples\n",
      "Epoch 1/1\n",
      "12000/12000 [==============================] - 17s 1ms/step - loss: 1.5304 - acc: 0.2946 - val_loss: 1.5288 - val_acc: 0.2873\n",
      "4 ---hyper tuning--\n",
      "256\n",
      "Train on 12000 samples, validate on 3000 samples\n",
      "Epoch 1/1\n",
      "12000/12000 [==============================] - 16s 1ms/step - loss: 1.4147 - acc: 0.3369 - val_loss: 1.3212 - val_acc: 0.3903\n"
     ]
    }
   ],
   "source": [
    "for i in range(len(batch_ls)):\n",
    "    print(i,'---hyper tuning--')\n",
    "    #args['LSTMUnits'] = LSTM[i]\n",
    "    units = batch_ls[i]\n",
    "    print(units)\n",
    "    model = Sequential()\n",
    "    model.add(LSTM(args['LSTMUnits'], return_sequences=False, input_dim=597, input_length=30))\n",
    "    model.add(Dense(args['enc_dense'], activation='relu'))\n",
    "    model.add(Reshape((16,16,1)))\n",
    "    model.add(Conv2D(args['num_filters'],args['kernelS'],strides=(args['stride'],args['stride']), activation ='relu'))\n",
    "    #model.add(MaxPooling2D(pool_size=(args['poolS'],args['poolS'])))\n",
    "    model.add(Flatten())\n",
    "    model.add(Dense(args['dec_dense'], activation='relu'))\n",
    "    model.add(Dropout(args['dropout']))\n",
    "    model.add(Dense(args['len_category'], activation='softmax'))\n",
    "\n",
    "    model.compile(loss='categorical_crossentropy',\n",
    "              optimizer='adam',\n",
    "              metrics=['accuracy'])\n",
    "    model.fit(X_train, categorical_labels,\n",
    "          batch_size = units, nb_epoch= args['epochs'], \n",
    "          verbose=1,validation_split=0.2)\n"
   ]
  },
  {
   "cell_type": "markdown",
   "metadata": {},
   "source": [
    "Based on above results, we will select **Batch = 32**"
   ]
  },
  {
   "cell_type": "markdown",
   "metadata": {},
   "source": [
    "#### 4.3 Dropout"
   ]
  },
  {
   "cell_type": "code",
   "execution_count": 47,
   "metadata": {},
   "outputs": [],
   "source": [
    "dropout_ls = [0.2,0.4,0.6]\n",
    "args = {}\n",
    "args['LSTMUnits'] = 300\n",
    "args['batch'] = 32\n",
    "args['epochs'] = 1\n",
    "args['len_category'] = 5\n",
    "args['enc_dense'] = 256\n",
    "args['num_filters'] = 1\n",
    "args['kernelS'] = 3\n",
    "args['stride'] = 2\n",
    "args['poolS'] = 2 \n",
    "args['dec_dense'] = 32"
   ]
  },
  {
   "cell_type": "code",
   "execution_count": 48,
   "metadata": {},
   "outputs": [
    {
     "name": "stdout",
     "output_type": "stream",
     "text": [
      "0 ---hyper tuning--\n",
      "0.2\n"
     ]
    },
    {
     "name": "stderr",
     "output_type": "stream",
     "text": [
      "/home/di0002ya/miniconda3/envs/quickdraw/lib/python3.6/site-packages/ipykernel_launcher.py:9: UserWarning: The `input_dim` and `input_length` arguments in recurrent layers are deprecated. Use `input_shape` instead.\n",
      "  if __name__ == '__main__':\n",
      "/home/di0002ya/miniconda3/envs/quickdraw/lib/python3.6/site-packages/ipykernel_launcher.py:9: UserWarning: Update your `LSTM` call to the Keras 2 API: `LSTM(300, return_sequences=False, input_shape=(30, 597))`\n",
      "  if __name__ == '__main__':\n",
      "/home/di0002ya/miniconda3/envs/quickdraw/lib/python3.6/site-packages/ipykernel_launcher.py:24: UserWarning: The `nb_epoch` argument in `fit` has been renamed `epochs`.\n"
     ]
    },
    {
     "name": "stdout",
     "output_type": "stream",
     "text": [
      "Train on 12000 samples, validate on 3000 samples\n",
      "Epoch 1/1\n",
      "12000/12000 [==============================] - 28s 2ms/step - loss: 1.3549 - acc: 0.3813 - val_loss: 1.2819 - val_acc: 0.4343\n",
      "1 ---hyper tuning--\n",
      "0.4\n",
      "Train on 12000 samples, validate on 3000 samples\n",
      "Epoch 1/1\n",
      "12000/12000 [==============================] - 29s 2ms/step - loss: 1.3896 - acc: 0.3465 - val_loss: 1.3084 - val_acc: 0.4323\n",
      "2 ---hyper tuning--\n",
      "0.6\n",
      "Train on 12000 samples, validate on 3000 samples\n",
      "Epoch 1/1\n",
      "12000/12000 [==============================] - 29s 2ms/step - loss: 1.4925 - acc: 0.3061 - val_loss: 1.4063 - val_acc: 0.3530\n"
     ]
    }
   ],
   "source": [
    "\n",
    "for i in range(len(dropout_ls)):\n",
    "    print(i,'---hyper tuning--')\n",
    "    #args['LSTMUnits'] = LSTM[i]\n",
    "    units = dropout_ls[i]\n",
    "    print(units)\n",
    "    args['dropout'] = units\n",
    "    model = Sequential()\n",
    "    model.add(LSTM(args['LSTMUnits'], return_sequences=False, input_dim=597, input_length=30))\n",
    "    model.add(Dense(args['enc_dense'], activation='relu'))\n",
    "    model.add(Reshape((16,16,1)))\n",
    "    model.add(Conv2D(args['num_filters'],args['kernelS'],strides=(args['stride'],args['stride']), activation ='relu'))\n",
    "    #model.add(MaxPooling2D(pool_size=(args['poolS'],args['poolS'])))\n",
    "    model.add(Flatten())\n",
    "    model.add(Dense(args['dec_dense'], activation='relu'))\n",
    "    model.add(Dropout(args['dropout']))\n",
    "    model.add(Dense(args['len_category'], activation='softmax'))\n",
    "\n",
    "    model.compile(loss='categorical_crossentropy',\n",
    "              optimizer='adam',\n",
    "              metrics=['accuracy'])\n",
    "    model.fit(X_train, categorical_labels,\n",
    "          batch_size = args['batch'], nb_epoch= args['epochs'], \n",
    "          verbose=1,validation_split=0.2)"
   ]
  },
  {
   "cell_type": "markdown",
   "metadata": {},
   "source": [
    "Based on above results, we will select **Dropout = 0.2**"
   ]
  },
  {
   "cell_type": "markdown",
   "metadata": {},
   "source": [
    "#### 4.4 Encoder Dense Units"
   ]
  },
  {
   "cell_type": "code",
   "execution_count": 50,
   "metadata": {},
   "outputs": [],
   "source": [
    "encdense_ls = [64, 256, 324, 1024 ]\n",
    "args = {}\n",
    "args['LSTMUnits'] = 300\n",
    "args['batch'] = 32\n",
    "args['epochs'] = 1\n",
    "args['len_category'] = 5\n",
    "args['num_filters'] = 1\n",
    "args['kernelS'] = 3\n",
    "args['stride'] = 2\n",
    "args['poolS'] = 2 \n",
    "args['dec_dense'] = 32\n",
    "args['dropout'] = 0.2 "
   ]
  },
  {
   "cell_type": "code",
   "execution_count": 52,
   "metadata": {},
   "outputs": [
    {
     "name": "stdout",
     "output_type": "stream",
     "text": [
      "0 ---hyper tuning--\n",
      "64\n"
     ]
    },
    {
     "name": "stderr",
     "output_type": "stream",
     "text": [
      "/home/di0002ya/miniconda3/envs/quickdraw/lib/python3.6/site-packages/ipykernel_launcher.py:10: UserWarning: The `input_dim` and `input_length` arguments in recurrent layers are deprecated. Use `input_shape` instead.\n",
      "  # Remove the CWD from sys.path while we load stuff.\n",
      "/home/di0002ya/miniconda3/envs/quickdraw/lib/python3.6/site-packages/ipykernel_launcher.py:10: UserWarning: Update your `LSTM` call to the Keras 2 API: `LSTM(300, return_sequences=False, input_shape=(30, 597))`\n",
      "  # Remove the CWD from sys.path while we load stuff.\n",
      "/home/di0002ya/miniconda3/envs/quickdraw/lib/python3.6/site-packages/ipykernel_launcher.py:25: UserWarning: The `nb_epoch` argument in `fit` has been renamed `epochs`.\n"
     ]
    },
    {
     "name": "stdout",
     "output_type": "stream",
     "text": [
      "Train on 12000 samples, validate on 3000 samples\n",
      "Epoch 1/1\n",
      "12000/12000 [==============================] - 29s 2ms/step - loss: 1.3662 - acc: 0.3889 - val_loss: 1.2704 - val_acc: 0.4237\n",
      "1 ---hyper tuning--\n",
      "256\n",
      "Train on 12000 samples, validate on 3000 samples\n",
      "Epoch 1/1\n",
      "12000/12000 [==============================] - 30s 2ms/step - loss: 1.3427 - acc: 0.3822 - val_loss: 1.1955 - val_acc: 0.4923\n",
      "2 ---hyper tuning--\n",
      "324\n",
      "Train on 12000 samples, validate on 3000 samples\n",
      "Epoch 1/1\n",
      "12000/12000 [==============================] - 30s 2ms/step - loss: 1.3754 - acc: 0.3483 - val_loss: 1.3568 - val_acc: 0.3573\n",
      "3 ---hyper tuning--\n",
      "1024\n",
      "Train on 12000 samples, validate on 3000 samples\n",
      "Epoch 1/1\n",
      "12000/12000 [==============================] - 31s 3ms/step - loss: 1.3662 - acc: 0.3532 - val_loss: 1.3402 - val_acc: 0.3463\n"
     ]
    }
   ],
   "source": [
    "\n",
    "for i in range(len(encdense_ls)):\n",
    "    print(i,'---hyper tuning--')\n",
    "    #args['LSTMUnits'] = LSTM[i]\n",
    "    units = encdense_ls[i]\n",
    "    print(units)\n",
    "    args['enc_dense'] = units\n",
    "    args['sqrt_enc_dense'] = int(math.sqrt(units))\n",
    "    model = Sequential()\n",
    "    model.add(LSTM(args['LSTMUnits'], return_sequences=False, input_dim=597, input_length=30))\n",
    "    model.add(Dense(args['enc_dense'], activation='relu'))\n",
    "    model.add(Reshape((args['sqrt_enc_dense'] ,args['sqrt_enc_dense'],1)))\n",
    "    model.add(Conv2D(args['num_filters'],args['kernelS'],strides=(args['stride'],args['stride']), activation ='relu'))\n",
    "    #model.add(MaxPooling2D(pool_size=(args['poolS'],args['poolS'])))\n",
    "    model.add(Flatten())\n",
    "    model.add(Dense(args['dec_dense'], activation='relu'))\n",
    "    model.add(Dropout(args['dropout']))\n",
    "    model.add(Dense(args['len_category'], activation='softmax'))\n",
    "\n",
    "    model.compile(loss='categorical_crossentropy',\n",
    "              optimizer='adam',\n",
    "              metrics=['accuracy'])\n",
    "    model.fit(X_train, categorical_labels,\n",
    "          batch_size = args['batch'], nb_epoch= args['epochs'], \n",
    "          verbose=1,validation_split=0.2)"
   ]
  },
  {
   "cell_type": "markdown",
   "metadata": {},
   "source": [
    "Based on above results, we will select **Encoder Dense Units = 256**"
   ]
  },
  {
   "cell_type": "markdown",
   "metadata": {},
   "source": [
    "#### 4.5  Num_filters"
   ]
  },
  {
   "cell_type": "code",
   "execution_count": 54,
   "metadata": {},
   "outputs": [],
   "source": [
    "filter_ls = [8,16,32,64]\n",
    "args = {}\n",
    "args['LSTMUnits'] = 300\n",
    "args['batch'] = 32\n",
    "args['enc_dense']= 256\n",
    "args['sqrt_enc_dense'] = 16\n",
    "args['epochs'] = 1\n",
    "args['len_category'] = 5\n",
    "args['kernelS'] = 3\n",
    "args['stride'] = 2\n",
    "args['poolS'] = 2 \n",
    "args['dec_dense'] = 32\n",
    "args['dropout'] = 0.2 "
   ]
  },
  {
   "cell_type": "code",
   "execution_count": 56,
   "metadata": {},
   "outputs": [
    {
     "name": "stdout",
     "output_type": "stream",
     "text": [
      "0 ---hyper tuning--\n",
      "8\n"
     ]
    },
    {
     "name": "stderr",
     "output_type": "stream",
     "text": [
      "/home/di0002ya/miniconda3/envs/quickdraw/lib/python3.6/site-packages/ipykernel_launcher.py:8: UserWarning: The `input_dim` and `input_length` arguments in recurrent layers are deprecated. Use `input_shape` instead.\n",
      "  \n",
      "/home/di0002ya/miniconda3/envs/quickdraw/lib/python3.6/site-packages/ipykernel_launcher.py:8: UserWarning: Update your `LSTM` call to the Keras 2 API: `LSTM(300, return_sequences=False, input_shape=(30, 597))`\n",
      "  \n",
      "/home/di0002ya/miniconda3/envs/quickdraw/lib/python3.6/site-packages/ipykernel_launcher.py:23: UserWarning: The `nb_epoch` argument in `fit` has been renamed `epochs`.\n"
     ]
    },
    {
     "name": "stdout",
     "output_type": "stream",
     "text": [
      "Train on 12000 samples, validate on 3000 samples\n",
      "Epoch 1/1\n",
      "12000/12000 [==============================] - 30s 2ms/step - loss: 1.3624 - acc: 0.3682 - val_loss: 1.2423 - val_acc: 0.4873\n",
      "1 ---hyper tuning--\n",
      "16\n",
      "Train on 12000 samples, validate on 3000 samples\n",
      "Epoch 1/1\n",
      "12000/12000 [==============================] - 31s 3ms/step - loss: 1.3629 - acc: 0.3808 - val_loss: 1.3291 - val_acc: 0.4273\n",
      "2 ---hyper tuning--\n",
      "32\n",
      "Train on 12000 samples, validate on 3000 samples\n",
      "Epoch 1/1\n",
      "12000/12000 [==============================] - 31s 3ms/step - loss: 1.3378 - acc: 0.4024 - val_loss: 1.1866 - val_acc: 0.5207\n",
      "3 ---hyper tuning--\n",
      "64\n",
      "Train on 12000 samples, validate on 3000 samples\n",
      "Epoch 1/1\n",
      "12000/12000 [==============================] - 32s 3ms/step - loss: 1.3511 - acc: 0.3838 - val_loss: 1.2226 - val_acc: 0.4843\n"
     ]
    }
   ],
   "source": [
    "for i in range(len(filter_ls)):\n",
    "    print(i,'---hyper tuning--')\n",
    "    #args['LSTMUnits'] = LSTM[i]\n",
    "    units = filter_ls[i]\n",
    "    print(units)\n",
    "    args['num_filters'] = units\n",
    "    model = Sequential()\n",
    "    model.add(LSTM(args['LSTMUnits'], return_sequences=False, input_dim=597, input_length=30))\n",
    "    model.add(Dense(args['enc_dense'], activation='relu'))\n",
    "    model.add(Reshape((args['sqrt_enc_dense'] ,args['sqrt_enc_dense'],1)))\n",
    "    model.add(Conv2D(args['num_filters'],args['kernelS'],strides=(args['stride'],args['stride']), activation ='relu'))\n",
    "    #model.add(MaxPooling2D(pool_size=(args['poolS'],args['poolS'])))\n",
    "    model.add(Flatten())\n",
    "    model.add(Dense(args['dec_dense'], activation='relu'))\n",
    "    model.add(Dropout(args['dropout']))\n",
    "    model.add(Dense(args['len_category'], activation='softmax'))\n",
    "\n",
    "    model.compile(loss='categorical_crossentropy',\n",
    "              optimizer='adam',\n",
    "              metrics=['accuracy'])\n",
    "    model.fit(X_train, categorical_labels,\n",
    "          batch_size = args['batch'], nb_epoch= args['epochs'], \n",
    "          verbose=1,validation_split=0.2)"
   ]
  },
  {
   "cell_type": "markdown",
   "metadata": {},
   "source": [
    "Based on above results, we will select **Number of filters = 32**"
   ]
  },
  {
   "cell_type": "markdown",
   "metadata": {},
   "source": [
    "#### 4.6  Filter Size"
   ]
  },
  {
   "cell_type": "code",
   "execution_count": 58,
   "metadata": {},
   "outputs": [],
   "source": [
    "filter_ls = [3,5,7]\n",
    "args = {}\n",
    "args['LSTMUnits'] = 300\n",
    "args['batch'] = 32\n",
    "args['enc_dense']= 256\n",
    "args['sqrt_enc_dense'] = 16\n",
    "args['epochs'] = 1\n",
    "args['len_category'] = 5\n",
    "args['kernelS'] = 3\n",
    "args['stride'] = 2\n",
    "args['poolS'] = 2 \n",
    "args['num_filters'] = 32\n",
    "args['dec_dense'] = 32\n",
    "args['dropout'] = 0.2 "
   ]
  },
  {
   "cell_type": "code",
   "execution_count": 59,
   "metadata": {},
   "outputs": [
    {
     "name": "stdout",
     "output_type": "stream",
     "text": [
      "0 ---hyper tuning--\n",
      "3\n"
     ]
    },
    {
     "name": "stderr",
     "output_type": "stream",
     "text": [
      "/home/di0002ya/miniconda3/envs/quickdraw/lib/python3.6/site-packages/ipykernel_launcher.py:8: UserWarning: The `input_dim` and `input_length` arguments in recurrent layers are deprecated. Use `input_shape` instead.\n",
      "  \n",
      "/home/di0002ya/miniconda3/envs/quickdraw/lib/python3.6/site-packages/ipykernel_launcher.py:8: UserWarning: Update your `LSTM` call to the Keras 2 API: `LSTM(300, return_sequences=False, input_shape=(30, 597))`\n",
      "  \n",
      "/home/di0002ya/miniconda3/envs/quickdraw/lib/python3.6/site-packages/ipykernel_launcher.py:23: UserWarning: The `nb_epoch` argument in `fit` has been renamed `epochs`.\n"
     ]
    },
    {
     "name": "stdout",
     "output_type": "stream",
     "text": [
      "Train on 12000 samples, validate on 3000 samples\n",
      "Epoch 1/1\n",
      "12000/12000 [==============================] - 32s 3ms/step - loss: 1.3550 - acc: 0.3935 - val_loss: 1.2636 - val_acc: 0.4673\n",
      "1 ---hyper tuning--\n",
      "5\n",
      "Train on 12000 samples, validate on 3000 samples\n",
      "Epoch 1/1\n",
      "12000/12000 [==============================] - 32s 3ms/step - loss: 1.3907 - acc: 0.3573 - val_loss: 1.2868 - val_acc: 0.4157\n",
      "2 ---hyper tuning--\n",
      "7\n",
      "Train on 12000 samples, validate on 3000 samples\n",
      "Epoch 1/1\n",
      "12000/12000 [==============================] - 32s 3ms/step - loss: 1.3636 - acc: 0.3741 - val_loss: 1.1641 - val_acc: 0.5100\n"
     ]
    }
   ],
   "source": [
    "for i in range(len(filter_ls)):\n",
    "    print(i,'---hyper tuning--')\n",
    "    #args['LSTMUnits'] = LSTM[i]\n",
    "    units = filter_ls[i]\n",
    "    print(units)\n",
    "    args['kernelS'] = units\n",
    "    model = Sequential()\n",
    "    model.add(LSTM(args['LSTMUnits'], return_sequences=False, input_dim=597, input_length=30))\n",
    "    model.add(Dense(args['enc_dense'], activation='relu'))\n",
    "    model.add(Reshape((args['sqrt_enc_dense'] ,args['sqrt_enc_dense'],1)))\n",
    "    model.add(Conv2D(args['num_filters'],args['kernelS'],strides=(args['stride'],args['stride']), activation ='relu'))\n",
    "    #model.add(MaxPooling2D(pool_size=(args['poolS'],args['poolS'])))\n",
    "    model.add(Flatten())\n",
    "    model.add(Dense(args['dec_dense'], activation='relu'))\n",
    "    model.add(Dropout(args['dropout']))\n",
    "    model.add(Dense(args['len_category'], activation='softmax'))\n",
    "\n",
    "    model.compile(loss='categorical_crossentropy',\n",
    "              optimizer='adam',\n",
    "              metrics=['accuracy'])\n",
    "    model.fit(X_train, categorical_labels,\n",
    "          batch_size = args['batch'], nb_epoch= args['epochs'], \n",
    "          verbose=1,validation_split=0.2)"
   ]
  },
  {
   "cell_type": "markdown",
   "metadata": {},
   "source": [
    "Based on above results, we will select **Filter Size = 7**"
   ]
  },
  {
   "cell_type": "markdown",
   "metadata": {},
   "source": [
    "#### 4.7  Decoder Dense Units"
   ]
  },
  {
   "cell_type": "code",
   "execution_count": 61,
   "metadata": {},
   "outputs": [],
   "source": [
    "filter_ls = [16,32,64,128]\n",
    "args = {}\n",
    "args['LSTMUnits'] = 300\n",
    "args['batch'] = 32\n",
    "args['enc_dense']= 256\n",
    "args['sqrt_enc_dense'] = 16\n",
    "args['epochs'] = 1\n",
    "args['len_category'] = 5\n",
    "args['kernelS'] = 7\n",
    "args['stride'] = 2\n",
    "args['poolS'] = 2 \n",
    "args['num_filters'] = 32\n",
    "args['dec_dense'] = 32\n",
    "args['dropout'] = 0.2 "
   ]
  },
  {
   "cell_type": "code",
   "execution_count": 62,
   "metadata": {},
   "outputs": [
    {
     "name": "stdout",
     "output_type": "stream",
     "text": [
      "0 ---hyper tuning--\n",
      "16\n"
     ]
    },
    {
     "name": "stderr",
     "output_type": "stream",
     "text": [
      "/home/di0002ya/miniconda3/envs/quickdraw/lib/python3.6/site-packages/ipykernel_launcher.py:8: UserWarning: The `input_dim` and `input_length` arguments in recurrent layers are deprecated. Use `input_shape` instead.\n",
      "  \n",
      "/home/di0002ya/miniconda3/envs/quickdraw/lib/python3.6/site-packages/ipykernel_launcher.py:8: UserWarning: Update your `LSTM` call to the Keras 2 API: `LSTM(300, return_sequences=False, input_shape=(30, 597))`\n",
      "  \n",
      "/home/di0002ya/miniconda3/envs/quickdraw/lib/python3.6/site-packages/ipykernel_launcher.py:23: UserWarning: The `nb_epoch` argument in `fit` has been renamed `epochs`.\n"
     ]
    },
    {
     "name": "stdout",
     "output_type": "stream",
     "text": [
      "Train on 12000 samples, validate on 3000 samples\n",
      "Epoch 1/1\n",
      "12000/12000 [==============================] - 34s 3ms/step - loss: 1.3916 - acc: 0.3515 - val_loss: 1.3378 - val_acc: 0.3693\n",
      "1 ---hyper tuning--\n",
      "32\n",
      "Train on 12000 samples, validate on 3000 samples\n",
      "Epoch 1/1\n",
      "12000/12000 [==============================] - 33s 3ms/step - loss: 1.3550 - acc: 0.3977 - val_loss: 1.2319 - val_acc: 0.4727\n",
      "2 ---hyper tuning--\n",
      "64\n",
      "Train on 12000 samples, validate on 3000 samples\n",
      "Epoch 1/1\n",
      "12000/12000 [==============================] - 34s 3ms/step - loss: 1.3473 - acc: 0.3882 - val_loss: 1.3192 - val_acc: 0.4407\n",
      "3 ---hyper tuning--\n",
      "128\n",
      "Train on 12000 samples, validate on 3000 samples\n",
      "Epoch 1/1\n",
      "12000/12000 [==============================] - 35s 3ms/step - loss: 1.3588 - acc: 0.3633 - val_loss: 1.3548 - val_acc: 0.3793\n"
     ]
    }
   ],
   "source": [
    "for i in range(len(filter_ls)):\n",
    "    print(i,'---hyper tuning--')\n",
    "    #args['LSTMUnits'] = LSTM[i]\n",
    "    units = filter_ls[i]\n",
    "    print(units)\n",
    "    args['dec_dense'] = units\n",
    "    model = Sequential()\n",
    "    model.add(LSTM(args['LSTMUnits'], return_sequences=False, input_dim=597, input_length=30))\n",
    "    model.add(Dense(args['enc_dense'], activation='relu'))\n",
    "    model.add(Reshape((args['sqrt_enc_dense'] ,args['sqrt_enc_dense'],1)))\n",
    "    model.add(Conv2D(args['num_filters'],args['kernelS'],strides=(args['stride'],args['stride']), activation ='relu'))\n",
    "    #model.add(MaxPooling2D(pool_size=(args['poolS'],args['poolS'])))\n",
    "    model.add(Flatten())\n",
    "    model.add(Dense(args['dec_dense'], activation='relu'))\n",
    "    model.add(Dropout(args['dropout']))\n",
    "    model.add(Dense(args['len_category'], activation='softmax'))\n",
    "\n",
    "    model.compile(loss='categorical_crossentropy',\n",
    "              optimizer='adam',\n",
    "              metrics=['accuracy'])\n",
    "    model.fit(X_train, categorical_labels,\n",
    "          batch_size = args['batch'], nb_epoch= args['epochs'], \n",
    "          verbose=1,validation_split=0.2)"
   ]
  },
  {
   "cell_type": "markdown",
   "metadata": {},
   "source": [
    "Based on above results, we will select **Decoder Dense Units = 32**"
   ]
  },
  {
   "cell_type": "markdown",
   "metadata": {},
   "source": [
    "## 5. Training"
   ]
  },
  {
   "cell_type": "markdown",
   "metadata": {},
   "source": [
    "### 5.1 Training: N = 150000"
   ]
  },
  {
   "cell_type": "code",
   "execution_count": 8,
   "metadata": {},
   "outputs": [],
   "source": [
    "TrainX = np.load(dataset_path+'/X_train_full.npy')\n",
    "TrainY = np.load(dataset_path+'/Y_train_full.npy')"
   ]
  },
  {
   "cell_type": "code",
   "execution_count": 16,
   "metadata": {},
   "outputs": [],
   "source": [
    "args = {}\n",
    "args['LSTMUnits'] = 300\n",
    "args['batch'] = 128\n",
    "args['enc_dense']= 256\n",
    "args['sqrt_enc_dense'] = 16\n",
    "args['epochs'] = 20\n",
    "args['len_category'] = 5\n",
    "args['kernelS'] = 7\n",
    "args['stride'] = 2\n",
    "args['poolS'] = 2 \n",
    "args['num_filters'] = 32\n",
    "args['dec_dense'] = 32\n",
    "args['dropout'] = 0.2 "
   ]
  },
  {
   "cell_type": "code",
   "execution_count": 17,
   "metadata": {},
   "outputs": [
    {
     "name": "stderr",
     "output_type": "stream",
     "text": [
      "/home/di0002ya/miniconda3/envs/quickdraw/lib/python3.6/site-packages/ipykernel_launcher.py:3: UserWarning: The `input_dim` and `input_length` arguments in recurrent layers are deprecated. Use `input_shape` instead.\n",
      "  This is separate from the ipykernel package so we can avoid doing imports until\n",
      "/home/di0002ya/miniconda3/envs/quickdraw/lib/python3.6/site-packages/ipykernel_launcher.py:3: UserWarning: Update your `LSTM` call to the Keras 2 API: `LSTM(300, return_sequences=False, input_shape=(30, 597))`\n",
      "  This is separate from the ipykernel package so we can avoid doing imports until\n",
      "/home/di0002ya/miniconda3/envs/quickdraw/lib/python3.6/site-packages/ipykernel_launcher.py:18: UserWarning: The `nb_epoch` argument in `fit` has been renamed `epochs`.\n"
     ]
    },
    {
     "name": "stdout",
     "output_type": "stream",
     "text": [
      "Train on 120000 samples, validate on 30000 samples\n",
      "Epoch 1/20\n",
      " - 105s - loss: 0.7115 - acc: 0.7450 - val_loss: 0.4736 - val_acc: 0.8427\n",
      "Epoch 2/20\n",
      " - 104s - loss: 0.4323 - acc: 0.8598 - val_loss: 0.4206 - val_acc: 0.8580\n",
      "Epoch 3/20\n",
      " - 104s - loss: 0.3576 - acc: 0.8851 - val_loss: 0.4225 - val_acc: 0.8628\n",
      "Epoch 4/20\n",
      " - 104s - loss: 0.3135 - acc: 0.8997 - val_loss: 0.4063 - val_acc: 0.8677\n",
      "Epoch 5/20\n",
      " - 103s - loss: 0.2816 - acc: 0.9095 - val_loss: 0.4016 - val_acc: 0.8690\n",
      "Epoch 6/20\n",
      " - 104s - loss: 0.2538 - acc: 0.9201 - val_loss: 0.4349 - val_acc: 0.8729\n",
      "Epoch 7/20\n",
      " - 104s - loss: 0.2323 - acc: 0.9259 - val_loss: 0.4153 - val_acc: 0.8769\n",
      "Epoch 8/20\n",
      " - 105s - loss: 0.2126 - acc: 0.9330 - val_loss: 0.4208 - val_acc: 0.8708\n",
      "Epoch 9/20\n",
      " - 104s - loss: 0.1987 - acc: 0.9365 - val_loss: 0.4200 - val_acc: 0.8746\n",
      "Epoch 10/20\n",
      " - 105s - loss: 0.1845 - acc: 0.9408 - val_loss: 0.4845 - val_acc: 0.8715\n",
      "Epoch 11/20\n",
      " - 105s - loss: 0.1694 - acc: 0.9460 - val_loss: 0.4658 - val_acc: 0.8743\n",
      "Epoch 12/20\n",
      " - 104s - loss: 0.1566 - acc: 0.9497 - val_loss: 0.4553 - val_acc: 0.8719\n",
      "Epoch 13/20\n",
      " - 105s - loss: 0.1469 - acc: 0.9531 - val_loss: 0.4951 - val_acc: 0.8697\n",
      "Epoch 14/20\n",
      " - 104s - loss: 0.1373 - acc: 0.9561 - val_loss: 0.4939 - val_acc: 0.8719\n",
      "Epoch 15/20\n",
      " - 104s - loss: 0.1298 - acc: 0.9587 - val_loss: 0.5193 - val_acc: 0.8713\n",
      "Epoch 16/20\n",
      " - 106s - loss: 0.1246 - acc: 0.9598 - val_loss: 0.5061 - val_acc: 0.8694\n",
      "Epoch 17/20\n",
      " - 108s - loss: 0.1176 - acc: 0.9631 - val_loss: 0.5145 - val_acc: 0.8686\n",
      "Epoch 18/20\n",
      " - 108s - loss: 0.1133 - acc: 0.9641 - val_loss: 0.5294 - val_acc: 0.8713\n",
      "Epoch 19/20\n",
      " - 105s - loss: 0.1081 - acc: 0.9653 - val_loss: 0.5544 - val_acc: 0.8726\n",
      "Epoch 20/20\n",
      " - 103s - loss: 0.1037 - acc: 0.9676 - val_loss: 0.5364 - val_acc: 0.8705\n"
     ]
    },
    {
     "data": {
      "text/plain": [
       "<keras.callbacks.History at 0x154f364d4ac8>"
      ]
     },
     "execution_count": 17,
     "metadata": {},
     "output_type": "execute_result"
    }
   ],
   "source": [
    "import keras\n",
    "model = Sequential()\n",
    "model.add(LSTM(args['LSTMUnits'], return_sequences=False, input_dim=597, input_length=30))\n",
    "model.add(Dense(args['enc_dense'], activation='relu'))\n",
    "model.add(Reshape((args['sqrt_enc_dense'],args['sqrt_enc_dense'],1)))\n",
    "model.add(Conv2D(args['num_filters'],args['kernelS'],strides=(args['stride'],args['stride']), activation ='relu'))\n",
    "#model.add(MaxPooling2D(pool_size=(args['poolS'],args['poolS'])))\n",
    "model.add(Flatten())\n",
    "model.add(Dense(args['dec_dense'], activation='relu'))\n",
    "model.add(Dropout(args['dropout']))\n",
    "model.add(Dense(args['len_category'], activation='softmax'))\n",
    "earlyStopping=keras.callbacks.EarlyStopping(monitor='val_loss', min_delta=0, patience=5, verbose=0, mode='auto')\n",
    "model.compile(loss='categorical_crossentropy',\n",
    "          optimizer='adam',\n",
    "          metrics=['accuracy'])\n",
    "model.fit(TrainX, TrainY,\n",
    "      batch_size = args['batch'], nb_epoch= args['epochs'], \n",
    "      verbose=2,validation_split=0.2)"
   ]
  },
  {
   "cell_type": "code",
   "execution_count": 22,
   "metadata": {},
   "outputs": [],
   "source": [
    "model.save(dataset_path+'/lstm_cnn_full1.h5')"
   ]
  },
  {
   "cell_type": "code",
   "execution_count": 23,
   "metadata": {},
   "outputs": [
    {
     "name": "stdout",
     "output_type": "stream",
     "text": [
      "_________________________________________________________________\n",
      "Layer (type)                 Output Shape              Param #   \n",
      "=================================================================\n",
      "lstm_3 (LSTM)                (None, 300)               1077600   \n",
      "_________________________________________________________________\n",
      "dense_7 (Dense)              (None, 256)               77056     \n",
      "_________________________________________________________________\n",
      "reshape_3 (Reshape)          (None, 16, 16, 1)         0         \n",
      "_________________________________________________________________\n",
      "conv2d_3 (Conv2D)            (None, 5, 5, 32)          1600      \n",
      "_________________________________________________________________\n",
      "flatten_3 (Flatten)          (None, 800)               0         \n",
      "_________________________________________________________________\n",
      "dense_8 (Dense)              (None, 32)                25632     \n",
      "_________________________________________________________________\n",
      "dropout_3 (Dropout)          (None, 32)                0         \n",
      "_________________________________________________________________\n",
      "dense_9 (Dense)              (None, 5)                 165       \n",
      "=================================================================\n",
      "Total params: 1,182,053\n",
      "Trainable params: 1,182,053\n",
      "Non-trainable params: 0\n",
      "_________________________________________________________________\n"
     ]
    }
   ],
   "source": [
    "model.summary()"
   ]
  },
  {
   "cell_type": "code",
   "execution_count": 24,
   "metadata": {},
   "outputs": [
    {
     "data": {
      "image/png": "[encoded data removed]",
      "text/plain": [
       "<Figure size 432x288 with 1 Axes>"
      ]
     },
     "metadata": {
      "needs_background": "light"
     },
     "output_type": "display_data"
    }
   ],
   "source": [
    "import matplotlib.pyplot as plt\n",
    "plt.plot(model.history.history['acc'])\n",
    "plt.plot(model.history.history['val_acc'])\n",
    "plt.title('model accuracy')\n",
    "plt.ylabel('accuracy')\n",
    "plt.xlabel('epoch')\n",
    "plt.legend(['train', 'test'], loc='upper left') \n",
    "plt.show()"
   ]
  },
  {
   "cell_type": "code",
   "execution_count": 25,
   "metadata": {},
   "outputs": [
    {
     "data": {
      "image/png": "[encoded data removed]",
      "text/plain": [
       "<Figure size 432x288 with 1 Axes>"
      ]
     },
     "metadata": {
      "needs_background": "light"
     },
     "output_type": "display_data"
    }
   ],
   "source": [
    "plt.plot(model.history.history['loss'])\n",
    "plt.plot(model.history.history['val_loss'])\n",
    "plt.ylabel('loss')\n",
    "plt.xlabel('epoch')\n",
    "plt.legend(['train', 'test'], loc='upper left') \n",
    "plt.show()"
   ]
  },
  {
   "cell_type": "markdown",
   "metadata": {},
   "source": [
    "We could see that after 5 epochs, model steps into quickly **overfitting phase**. We need to solve this problem to improve the performance. "
   ]
  },
  {
   "cell_type": "markdown",
   "metadata": {},
   "source": [
    "### 5.2 Performance Improvement"
   ]
  },
  {
   "cell_type": "markdown",
   "metadata": {},
   "source": [
    "During training, callback of early stopping is used. Patience is set to 5 epochs. We could see that the model quickly overfitting. \n",
    "\n",
    "Following strategy is used:\n",
    "1. Increase max pooling size\n",
    "2. Increase dropout rate\n",
    "3. Add one more dropout layer\n",
    "4. Reduce structure dense neurons"
   ]
  },
  {
   "cell_type": "code",
   "execution_count": 26,
   "metadata": {},
   "outputs": [],
   "source": [
    "args = {}\n",
    "args['LSTMUnits'] = 300\n",
    "args['batch'] = 128\n",
    "args['enc_dense']= 256\n",
    "args['sqrt_enc_dense'] = 16\n",
    "args['epochs'] = 20\n",
    "args['len_category'] = 5\n",
    "args['kernelS'] = 7\n",
    "args['stride'] = 2\n",
    "args['poolS'] = 2 \n",
    "args['num_filters'] = 32\n",
    "args['dec_dense'] = 32\n",
    "args['dropout'] = 0.4"
   ]
  },
  {
   "cell_type": "code",
   "execution_count": 27,
   "metadata": {},
   "outputs": [
    {
     "name": "stderr",
     "output_type": "stream",
     "text": [
      "/home/di0002ya/miniconda3/envs/quickdraw/lib/python3.6/site-packages/ipykernel_launcher.py:2: UserWarning: The `input_dim` and `input_length` arguments in recurrent layers are deprecated. Use `input_shape` instead.\n",
      "  \n",
      "/home/di0002ya/miniconda3/envs/quickdraw/lib/python3.6/site-packages/ipykernel_launcher.py:2: UserWarning: Update your `LSTM` call to the Keras 2 API: `LSTM(300, return_sequences=False, input_shape=(30, 597))`\n",
      "  \n",
      "/home/di0002ya/miniconda3/envs/quickdraw/lib/python3.6/site-packages/ipykernel_launcher.py:20: UserWarning: The `nb_epoch` argument in `fit` has been renamed `epochs`.\n"
     ]
    },
    {
     "name": "stdout",
     "output_type": "stream",
     "text": [
      "Train on 120000 samples, validate on 30000 samples\n",
      "Epoch 1/20\n",
      " - 104s - loss: 0.8625 - acc: 0.6733 - val_loss: 0.5826 - val_acc: 0.8071\n",
      "Epoch 2/20\n",
      " - 102s - loss: 0.5222 - acc: 0.8373 - val_loss: 0.4511 - val_acc: 0.8494\n",
      "Epoch 3/20\n",
      " - 102s - loss: 0.4324 - acc: 0.8675 - val_loss: 0.4504 - val_acc: 0.8548\n",
      "Epoch 4/20\n",
      " - 102s - loss: 0.3855 - acc: 0.8828 - val_loss: 0.4291 - val_acc: 0.8597\n",
      "Epoch 5/20\n",
      " - 103s - loss: 0.3486 - acc: 0.8940 - val_loss: 0.4287 - val_acc: 0.8646\n",
      "Epoch 6/20\n",
      " - 103s - loss: 0.3177 - acc: 0.9033 - val_loss: 0.4093 - val_acc: 0.8688\n",
      "Epoch 7/20\n",
      " - 103s - loss: 0.2961 - acc: 0.9104 - val_loss: 0.4133 - val_acc: 0.8655\n",
      "Epoch 8/20\n",
      " - 102s - loss: 0.2772 - acc: 0.9158 - val_loss: 0.4031 - val_acc: 0.8702\n",
      "Epoch 9/20\n",
      " - 103s - loss: 0.2565 - acc: 0.9225 - val_loss: 0.4113 - val_acc: 0.8719\n",
      "Epoch 10/20\n",
      " - 103s - loss: 0.2458 - acc: 0.9254 - val_loss: 0.4228 - val_acc: 0.8671\n",
      "Epoch 11/20\n",
      " - 101s - loss: 0.2268 - acc: 0.9324 - val_loss: 0.4263 - val_acc: 0.8722\n",
      "Epoch 12/20\n",
      " - 103s - loss: 0.2184 - acc: 0.9347 - val_loss: 0.4282 - val_acc: 0.8697\n",
      "Epoch 13/20\n",
      " - 104s - loss: 0.2087 - acc: 0.9366 - val_loss: 0.4545 - val_acc: 0.8685\n",
      "Epoch 14/20\n",
      " - 102s - loss: 0.2002 - acc: 0.9401 - val_loss: 0.4532 - val_acc: 0.8705\n",
      "Epoch 15/20\n",
      " - 103s - loss: 0.1877 - acc: 0.9437 - val_loss: 0.4569 - val_acc: 0.8679\n",
      "Epoch 16/20\n",
      " - 103s - loss: 0.1849 - acc: 0.9449 - val_loss: 0.4529 - val_acc: 0.8676\n",
      "Epoch 17/20\n",
      " - 102s - loss: 0.1793 - acc: 0.9471 - val_loss: 0.4495 - val_acc: 0.8713\n",
      "Epoch 18/20\n",
      " - 103s - loss: 0.1678 - acc: 0.9501 - val_loss: 0.4720 - val_acc: 0.8690\n",
      "Epoch 19/20\n",
      " - 104s - loss: 0.1601 - acc: 0.9520 - val_loss: 0.4680 - val_acc: 0.8712\n",
      "Epoch 20/20\n",
      " - 102s - loss: 0.1568 - acc: 0.9531 - val_loss: 0.4725 - val_acc: 0.8736\n"
     ]
    },
    {
     "data": {
      "text/plain": [
       "<keras.callbacks.History at 0x154ecde4e160>"
      ]
     },
     "execution_count": 27,
     "metadata": {},
     "output_type": "execute_result"
    }
   ],
   "source": [
    "model = Sequential()\n",
    "model.add(LSTM(args['LSTMUnits'], return_sequences=False, input_dim=597, input_length=30))\n",
    "model.add(Dropout(args['dropout']))\n",
    "model.add(Dense(args['enc_dense'], activation='relu'))\n",
    "model.add(Dropout(args['dropout']))\n",
    "model.add(Reshape((args['sqrt_enc_dense'],args['sqrt_enc_dense'],1)))\n",
    "model.add(Conv2D(args['num_filters'],args['kernelS'],strides=(args['stride'],args['stride']), activation ='relu'))\n",
    "model.add(MaxPooling2D(pool_size=(args['poolS'],args['poolS'])))\n",
    "model.add(Flatten())\n",
    "model.add(Dropout(args['dropout']))\n",
    "model.add(Dense(args['dec_dense'], activation='relu'))\n",
    "model.add(Dropout(args['dropout']))\n",
    "model.add(Dense(args['len_category'], activation='softmax'))\n",
    "earlyStopping=keras.callbacks.EarlyStopping(monitor='val_loss', min_delta=0, patience=3, verbose=0, mode='auto')\n",
    "model.compile(loss='categorical_crossentropy',\n",
    "          optimizer='adam',\n",
    "          metrics=['accuracy'])\n",
    "model.fit(TrainX, TrainY,\n",
    "      batch_size = args['batch'], nb_epoch= args['epochs'], \n",
    "      verbose=2,validation_split=0.2)"
   ]
  },
  {
   "cell_type": "code",
   "execution_count": 28,
   "metadata": {},
   "outputs": [
    {
     "data": {
      "image/png": "[encoded data removed]",
      "text/plain": [
       "<Figure size 432x288 with 1 Axes>"
      ]
     },
     "metadata": {
      "needs_background": "light"
     },
     "output_type": "display_data"
    }
   ],
   "source": [
    "import matplotlib.pyplot as plt\n",
    "plt.plot(model.history.history['acc'])\n",
    "plt.plot(model.history.history['val_acc'])\n",
    "plt.title('model accuracy')\n",
    "plt.ylabel('accuracy')\n",
    "plt.xlabel('epoch')\n",
    "plt.legend(['train', 'test'], loc='upper left') \n",
    "plt.show()"
   ]
  },
  {
   "cell_type": "code",
   "execution_count": 29,
   "metadata": {},
   "outputs": [
    {
     "data": {
      "image/png": "[encoded data removed]",
      "text/plain": [
       "<Figure size 432x288 with 1 Axes>"
      ]
     },
     "metadata": {
      "needs_background": "light"
     },
     "output_type": "display_data"
    }
   ],
   "source": [
    "plt.plot(model.history.history['loss'])\n",
    "plt.plot(model.history.history['val_loss'])\n",
    "plt.ylabel('loss')\n",
    "plt.xlabel('epoch')\n",
    "plt.legend(['train', 'test'], loc='upper left') \n",
    "plt.show()"
   ]
  },
  {
   "cell_type": "code",
   "execution_count": 30,
   "metadata": {},
   "outputs": [],
   "source": [
    "model.save(dataset_path+'/lstm_cnn_full1_tune.h5')"
   ]
  },
  {
   "cell_type": "code",
   "execution_count": 31,
   "metadata": {},
   "outputs": [
    {
     "name": "stdout",
     "output_type": "stream",
     "text": [
      "_________________________________________________________________\n",
      "Layer (type)                 Output Shape              Param #   \n",
      "=================================================================\n",
      "lstm_4 (LSTM)                (None, 300)               1077600   \n",
      "_________________________________________________________________\n",
      "dropout_4 (Dropout)          (None, 300)               0         \n",
      "_________________________________________________________________\n",
      "dense_10 (Dense)             (None, 256)               77056     \n",
      "_________________________________________________________________\n",
      "dropout_5 (Dropout)          (None, 256)               0         \n",
      "_________________________________________________________________\n",
      "reshape_4 (Reshape)          (None, 16, 16, 1)         0         \n",
      "_________________________________________________________________\n",
      "conv2d_4 (Conv2D)            (None, 5, 5, 32)          1600      \n",
      "_________________________________________________________________\n",
      "max_pooling2d_1 (MaxPooling2 (None, 2, 2, 32)          0         \n",
      "_________________________________________________________________\n",
      "flatten_4 (Flatten)          (None, 128)               0         \n",
      "_________________________________________________________________\n",
      "dropout_6 (Dropout)          (None, 128)               0         \n",
      "_________________________________________________________________\n",
      "dense_11 (Dense)             (None, 32)                4128      \n",
      "_________________________________________________________________\n",
      "dropout_7 (Dropout)          (None, 32)                0         \n",
      "_________________________________________________________________\n",
      "dense_12 (Dense)             (None, 5)                 165       \n",
      "=================================================================\n",
      "Total params: 1,160,549\n",
      "Trainable params: 1,160,549\n",
      "Non-trainable params: 0\n",
      "_________________________________________________________________\n"
     ]
    }
   ],
   "source": [
    "model.summary()"
   ]
  },
  {
   "cell_type": "markdown",
   "metadata": {},
   "source": [
    "## 6. Evaluation "
   ]
  },
  {
   "cell_type": "code",
   "execution_count": 14,
   "metadata": {},
   "outputs": [],
   "source": [
    "from keras.models import load_model\n",
    "full_M = load_model(dataset_path+'/lstm_cnn_full1_tune.h5')"
   ]
  },
  {
   "cell_type": "code",
   "execution_count": 15,
   "metadata": {},
   "outputs": [],
   "source": [
    "from sklearn.metrics import accuracy_score\n",
    "import pandas as pd\n",
    "from keras.utils.np_utils import to_categorical\n",
    "import numpy as np\n",
    "from sklearn import preprocessing"
   ]
  },
  {
   "cell_type": "code",
   "execution_count": 2,
   "metadata": {},
   "outputs": [],
   "source": [
    "import itertools\n",
    "def create_stroke(df):\n",
    "    final = []\n",
    "    # Image\n",
    "    for i in range(df.shape[0]):\n",
    "        num = df.loc[i,'stroke_number']\n",
    "        # Strokes \n",
    "        stroke_ls = []\n",
    "        for stroke in range(num):\n",
    "            X = df.loc[i,'drawing'][stroke][0] #points of stroke \n",
    "            Y = df.loc[i,'drawing'][stroke][1] #points of stroke\n",
    "            X_offset = np.diff(np.array(X)) # points of stroke \n",
    "            Y_offset = np.diff(np.array(Y)) # points of stroke\n",
    "            binary = [0]*(X_offset.shape[0]-1)\n",
    "            binary.append(1) # points of stroke \n",
    "            binary = np.array(binary)\n",
    "            stroke_ar = np.vstack((X_offset,Y_offset,binary)).reshape(-1) \n",
    "            stroke_ls.append(stroke_ar)\n",
    "        final.append(stroke_ls)\n",
    "    return final\n",
    "\n",
    "def pad_points(data_stroke, max_pts = 597):\n",
    "    final = []\n",
    "    for i in range(len(data_stroke)):\n",
    "        # ith image \n",
    "        for j in range(len(data_stroke[i])):\n",
    "            # jth strokes \n",
    "            orig = len(data_stroke[i][j])\n",
    "            # pts*3 of jth stroke \n",
    "            #print(orig)\n",
    "            if orig < max_pts:\n",
    "                pad = np.array([0]*(max_pts-orig))\n",
    "                data_stroke[i][j] = np.hstack((data_stroke[i][j],pad))\n",
    "            else:\n",
    "                data_stroke[i][j] = data_stroke[i][j][:max_pts]\n",
    "            #print(pad.shape)\n",
    "            #print(data_stroke[i][j].shape)\n",
    "\n",
    "        final.append(np.array(data_stroke[i]))\n",
    "            #print(data_stroke[i][j].shape)\n",
    "    return final\n",
    "\n",
    "def pad_stroke(data_stroke, max_stroke, max_pts):\n",
    "    for i in range(len(data_stroke)):\n",
    "        # ith image \n",
    "        # get No.stroke for this image\n",
    "        orig = data_stroke[i].shape[0]\n",
    "        #print(orig)\n",
    "        pad = np.zeros(((max_stroke-orig),max_pts))\n",
    "        #print(pad.shape)\n",
    "        #print(data_stroke[i].shape)\n",
    "        data_stroke[i] = np.vstack((data_stroke[i],pad))\n",
    "        #print(data_stroke[i].shape)\n",
    "    return data_stroke\n",
    "\n",
    "def filter_zero(df):\n",
    "    for i in range(df.shape[0]):\n",
    "        num = df.loc[i,'stroke_number']\n",
    "        if num == 0:\n",
    "            df = df.drop([i])\n",
    "    df = df.reindex(np.arange(df.shape[0]))                \n",
    "    return df"
   ]
  },
  {
   "cell_type": "code",
   "execution_count": 15,
   "metadata": {},
   "outputs": [
    {
     "name": "stdout",
     "output_type": "stream",
     "text": [
      "0.7010922241136369\n"
     ]
    }
   ],
   "source": [
    "from sklearn import preprocessing\n",
    "from keras.utils.np_utils import to_categorical\n",
    "ratio = 0.5\n",
    "_,_,_,_,test_X,test_Y=get_dataset(dataset_path = dataset_path, dataset_name = '1102_05b633244.dms',train_r=1.0,test_r=ratio)\n",
    "df_testX = pd.DataFrame({'drawing':test_X})\n",
    "df_testX['stroke_number'] = df_testX['drawing'].str.len()\n",
    "stroke_num = df_testX['stroke_number']\n",
    "#Non Zero Filter Out\n",
    "non_zero_index = np.where(np.array(stroke_num)!=0)\n",
    "test_Y_filter = np.array(test_Y)[non_zero_index[0]]\n",
    "df_testX['stroke_number'].replace(0, np.nan, inplace=True)\n",
    "df_testX.dropna(subset=['stroke_number'], inplace=True)\n",
    "df_testX = df_testX.reset_index(drop=True)\n",
    "df_testX['stroke_number'] = df_testX['stroke_number'].astype(int) \n",
    "testX_final = create_stroke(df_testX)\n",
    "testX_input = pad_points(testX_final, max_pts = 597)\n",
    "testX_ar = np.array(pad_stroke(testX_input, max_stroke=30, max_pts=597))\n",
    "#Normalization\n",
    "min_value = testX_ar.min()\n",
    "max_value = testX_ar.max()\n",
    "X_std = (testX_ar - min_value) / (max_value - min_value)\n",
    "X_test = X_std * (max_value - min_value) + min_value\n",
    "testY_label = to_categorical(test_Y_filter, num_classes=5)\n",
    "# np.save('/home/di0002ya/quickdraw/dsy/testX'+name+'.npy', testX)\n",
    "# np.save('/home/di0002ya/quickdraw/dsy/testY'+name+'_label.npy', testY_label)\n",
    "y_predict = model.predict(X_test)\n",
    "y_predict_label = np.argmax(y_predict,axis = 1)\n",
    "y_test_label = np.argmax(testY_label,axis=1)\n",
    "result = accuracy_score(y_test_label, y_predict_label)\n",
    "print(result)\n"
   ]
  },
  {
   "cell_type": "code",
   "execution_count": 13,
   "metadata": {},
   "outputs": [],
   "source": [
    "from sklearn import preprocessing\n",
    "from keras.utils.np_utils import to_categorical\n",
    "import pandas as pd\n",
    "def compute_result(ratio,name,model):\n",
    "    print(ratio)\n",
    "    _,_,_,_,test_X,test_Y=get_dataset(dataset_path = dataset_path, dataset_name = '1102_05b633244.dms',train_r=1.0,test_r=ratio)\n",
    "    df_testX = pd.DataFrame({'drawing':test_X})\n",
    "    df_testX['stroke_number'] = df_testX['drawing'].str.len()\n",
    "    stroke_num = df_testX['stroke_number']\n",
    "    #Non Zero Filter Out\n",
    "    non_zero_index = np.where(np.array(stroke_num)!=0)\n",
    "    test_Y_filter = np.array(test_Y)[non_zero_index[0]]\n",
    "    df_testX['stroke_number'].replace(0, np.nan, inplace=True)\n",
    "    df_testX.dropna(subset=['stroke_number'], inplace=True)\n",
    "    df_testX = df_testX.reset_index(drop=True)\n",
    "    df_testX['stroke_number'] = df_testX['stroke_number'].astype(int) \n",
    "    testX_final = create_stroke(df_testX)\n",
    "    testX_input = pad_points(testX_final, max_pts = 597)\n",
    "    testX_ar = np.array(pad_stroke(testX_input, max_stroke=30, max_pts=597))\n",
    "    #Normalization\n",
    "    min_value = testX_ar.min()\n",
    "    max_value = testX_ar.max()\n",
    "    X_std = (testX_ar - min_value) / (max_value - min_value)\n",
    "    X_test = X_std * (max_value - min_value) + min_value\n",
    "    testY_label = to_categorical(test_Y_filter, num_classes=5)\n",
    "    np.save('/home/di0002ya/quickdraw/dsy/lstm_testX'+name+'.npy', X_test)\n",
    "    np.save('/home/di0002ya/quickdraw/dsy/lstm_testY'+name+'_label.npy', testY_label)\n",
    "    y_predict = model.predict(X_test)\n",
    "    y_predict_label = np.argmax(y_predict,axis = 1)\n",
    "    y_test_label = np.argmax(testY_label,axis=1)\n",
    "    result = accuracy_score(y_test_label, y_predict_label)\n",
    "    print(result)\n",
    "    "
   ]
  },
  {
   "cell_type": "code",
   "execution_count": 17,
   "metadata": {},
   "outputs": [
    {
     "name": "stdout",
     "output_type": "stream",
     "text": [
      "0.7\n",
      "0.7893742313299722\n"
     ]
    }
   ],
   "source": [
    "compute_result(0.7,'07',full_M)"
   ]
  },
  {
   "cell_type": "code",
   "execution_count": 18,
   "metadata": {},
   "outputs": [
    {
     "name": "stdout",
     "output_type": "stream",
     "text": [
      "0.9\n",
      "0.8412080438518615\n"
     ]
    }
   ],
   "source": [
    "compute_result(0.9,'09',full_M)"
   ]
  },
  {
   "cell_type": "code",
   "execution_count": 19,
   "metadata": {},
   "outputs": [
    {
     "name": "stdout",
     "output_type": "stream",
     "text": [
      "1\n",
      "0.8727980481488208\n"
     ]
    }
   ],
   "source": [
    "compute_result(1,'10',full_M)"
   ]
  },
  {
   "cell_type": "code",
   "execution_count": null,
   "metadata": {},
   "outputs": [],
   "source": []
  }
 ],
 "metadata": {
  "kernelspec": {
   "display_name": "quickdraw",
   "language": "python",
   "name": "quickdraw"
  },
  "language_info": {
   "codemirror_mode": {
    "name": "ipython",
    "version": 3
   },
   "file_extension": ".py",
   "mimetype": "text/x-python",
   "name": "python",
   "nbconvert_exporter": "python",
   "pygments_lexer": "ipython3",
   "version": "3.6.7"
  }
 },
 "nbformat": 4,
 "nbformat_minor": 2
}
