{
 "cells": [
  {
   "cell_type": "markdown",
   "metadata": {},
   "source": [
    "# LSTM\n",
    "\n",
    "Author: ZHANG Yu\n",
    "\n",
    "The code is used to do calsssification of quickdraw dataset with 5 classes using LSTM. \n",
    "\n",
    "\n"
   ]
  },
  {
   "cell_type": "markdown",
   "metadata": {},
   "source": [
    "### The simplified process is:\n",
    "1. Get data\n",
    "2. Convert data to desired formation\n",
    "3. Choose hyperparameters\n",
    "4. Construct LSTM network\n",
    "5. Train the network\n",
    "6. Evaluate the network using test data\n",
    "\n",
    "### To run the code:\n",
    "1. Change path and parameters\n",
    "2. Run the code"
   ]
  },
  {
   "cell_type": "code",
   "execution_count": 1,
   "metadata": {},
   "outputs": [
    {
     "name": "stderr",
     "output_type": "stream",
     "text": [
      "Using TensorFlow backend.\n"
     ]
    }
   ],
   "source": [
    "import sys\n",
    "import os\n",
    "os.environ[\"CUDA VISIBLE_DEVICES\"]=\"0\"\n",
    "import math\n",
    "import time\n",
    "import pandas as pd\n",
    "import numpy as np\n",
    "import matplotlib.pyplot as plt\n",
    "%matplotlib inline\n",
    "plt.switch_backend('agg')\n",
    "import tensorflow as tf\n",
    "from keras import optimizers\n",
    "from keras.models import Sequential\n",
    "from keras.layers import Dense, Dropout, Activation, Flatten, LSTM, Conv2D, Reshape\n",
    "from keras.callbacks import LearningRateScheduler\n",
    "import keras.backend as K\n",
    "from sklearn.metrics import confusion_matrix\n",
    "import utils_\n",
    "from utils_ import get_dataset, find_max_strok_point, convert_to_zeropad, label_onehot, plot_history\n"
   ]
  },
  {
   "cell_type": "markdown",
   "metadata": {},
   "source": [
    "## Get data\n",
    "test_r1=0.9 means stoke numbers in test_X1 is 90% of original data"
   ]
  },
  {
   "cell_type": "code",
   "execution_count": 2,
   "metadata": {},
   "outputs": [],
   "source": [
    "data_path = '/raid5/liuchang/quick_draw_output' # change path here\n",
    "data_name = '1102_05b633244'\n",
    "\n",
    "train_X,train_Y,test_X,test_Y,test_X1,test_X2,test_X3=get_dataset(data_path,data_name,test_r1=0.9,test_r2=0.7,test_r3=0.5)\n",
    "\n",
    "\n"
   ]
  },
  {
   "cell_type": "markdown",
   "metadata": {},
   "source": [
    "## Preprocess data\n",
    "zero padding both train data and test data to same length\n",
    "\n",
    "convert label to onehot form"
   ]
  },
  {
   "cell_type": "code",
   "execution_count": 3,
   "metadata": {
    "scrolled": false
   },
   "outputs": [
    {
     "name": "stdout",
     "output_type": "stream",
     "text": [
      "max stroke number in train data = 30 \n",
      " max point number in train data = 200\n",
      "training data number = 200000\n",
      "max stroke number in test data = 30 \n",
      " max point number in test data = 200\n",
      "test data number = 40000\n",
      "done\n",
      "done\n",
      "done\n",
      "done\n",
      "done\n"
     ]
    }
   ],
   "source": [
    "\n",
    "max_stroke,max_point=find_max_strok_point(train_X,test_X)\n",
    "train_data = convert_to_zeropad(train_X,max_stroke,max_point)\n",
    "train_label = label_onehot(train_Y)\n",
    "test_label = label_onehot(test_Y)\n",
    "test_data = convert_to_zeropad(test_X,max_stroke,max_point)\n",
    "test_data1 = convert_to_zeropad(test_X1,max_stroke,max_point)\n",
    "test_data2 = convert_to_zeropad(test_X2,max_stroke,max_point)\n",
    "test_data3 = convert_to_zeropad(test_X3,max_stroke,max_point)\n"
   ]
  },
  {
   "cell_type": "markdown",
   "metadata": {},
   "source": [
    "## Setting parameters"
   ]
  },
  {
   "cell_type": "code",
   "execution_count": 5,
   "metadata": {},
   "outputs": [],
   "source": [
    "bs = 128 # batch size, each batch has n images\n",
    "seq_len = max_stroke \n",
    "input_size = 2*max_point \n",
    "hidden_size = 400\n",
    "output_size = 5 # n calsses\n",
    "EPOCH = 40 # train the training data n times\n"
   ]
  },
  {
   "cell_type": "markdown",
   "metadata": {},
   "source": [
    "## Build lstm model"
   ]
  },
  {
   "cell_type": "code",
   "execution_count": 6,
   "metadata": {},
   "outputs": [
    {
     "name": "stdout",
     "output_type": "stream",
     "text": [
      "_________________________________________________________________\n",
      "Layer (type)                 Output Shape              Param #   \n",
      "=================================================================\n",
      "lstm_1 (LSTM)                (None, 400)               1281600   \n",
      "_________________________________________________________________\n",
      "dense_1 (Dense)              (None, 5)                 2005      \n",
      "_________________________________________________________________\n",
      "dropout_1 (Dropout)          (None, 5)                 0         \n",
      "=================================================================\n",
      "Total params: 1,283,605\n",
      "Trainable params: 1,283,605\n",
      "Non-trainable params: 0\n",
      "_________________________________________________________________\n"
     ]
    }
   ],
   "source": [
    "model = Sequential()\n",
    "model.add(LSTM(hidden_size, activation='tanh', return_sequences=False, input_shape=(seq_len,input_size)))\n",
    "model.add(Dense(output_size, activation='relu', kernel_initializer='normal'))\n",
    "model.add(Dropout(0.2))\n",
    "model.summary()\n"
   ]
  },
  {
   "cell_type": "markdown",
   "metadata": {},
   "source": [
    "### Reducing learning rate by 0.9 every two epoch"
   ]
  },
  {
   "cell_type": "code",
   "execution_count": 7,
   "metadata": {},
   "outputs": [],
   "source": [
    "def scheduler(epoch):\n",
    "    if epoch%2==0 and epoch!=0:\n",
    "        lr = K.get_value(model.optimizer.lr)\n",
    "        K.set_value(model.optimizer.lr, lr*.9)\n",
    "        print(\"lr changed to {}\".format(lr*.9))\n",
    "    return K.get_value(model.optimizer.lr)\n"
   ]
  },
  {
   "cell_type": "markdown",
   "metadata": {},
   "source": [
    "## Compile model"
   ]
  },
  {
   "cell_type": "code",
   "execution_count": 10,
   "metadata": {},
   "outputs": [],
   "source": [
    "adam = optimizers.Adam(lr=0.001)\n",
    "\n",
    "model.compile(loss='mean_squared_error',\n",
    "          optimizer='adam',\n",
    "          metrics=['accuracy'])"
   ]
  },
  {
   "cell_type": "markdown",
   "metadata": {},
   "source": [
    "## Train and evaluate the model\n",
    "plot loss and accuracy \n",
    "\n",
    "show test accuracy of complete and imcomplete images"
   ]
  },
  {
   "cell_type": "code",
   "execution_count": 11,
   "metadata": {
    "scrolled": false
   },
   "outputs": [
    {
     "name": "stdout",
     "output_type": "stream",
     "text": [
      "Train on 160000 samples, validate on 40000 samples\n",
      "Epoch 1/40\n",
      "160000/160000 [==============================] - 638s 4ms/step - loss: 0.0746 - acc: 0.7219 - val_loss: 0.0432 - val_acc: 0.8731\n",
      "Epoch 2/40\n",
      "160000/160000 [==============================] - 663s 4ms/step - loss: 0.0666 - acc: 0.7469 - val_loss: 0.0345 - val_acc: 0.9058\n",
      "Epoch 3/40\n",
      "lr changed to 0.0009000000427477062\n",
      "160000/160000 [==============================] - 660s 4ms/step - loss: 0.0619 - acc: 0.7617 - val_loss: 0.0325 - val_acc: 0.9142\n",
      "Epoch 4/40\n",
      "160000/160000 [==============================] - 648s 4ms/step - loss: 0.0591 - acc: 0.7712 - val_loss: 0.0323 - val_acc: 0.9173\n",
      "Epoch 5/40\n",
      "lr changed to 0.0008100000384729356\n",
      "160000/160000 [==============================] - 633s 4ms/step - loss: 0.0577 - acc: 0.7768 - val_loss: 0.0296 - val_acc: 0.9230\n",
      "Epoch 6/40\n",
      "160000/160000 [==============================] - 650s 4ms/step - loss: 0.0562 - acc: 0.7812 - val_loss: 0.0288 - val_acc: 0.9256\n",
      "Epoch 7/40\n",
      "lr changed to 0.0007290000503417104\n",
      "160000/160000 [==============================] - 654s 4ms/step - loss: 0.0550 - acc: 0.7858 - val_loss: 0.0277 - val_acc: 0.9267\n",
      "Epoch 8/40\n",
      "160000/160000 [==============================] - 633s 4ms/step - loss: 0.0541 - acc: 0.7878 - val_loss: 0.0272 - val_acc: 0.9331\n",
      "Epoch 9/40\n",
      "lr changed to 0.0006561000715009868\n",
      "160000/160000 [==============================] - 653s 4ms/step - loss: 0.0531 - acc: 0.7915 - val_loss: 0.0274 - val_acc: 0.9312\n",
      "Epoch 10/40\n",
      "160000/160000 [==============================] - 652s 4ms/step - loss: 0.0523 - acc: 0.7939 - val_loss: 0.0266 - val_acc: 0.9348\n",
      "Epoch 11/40\n",
      "lr changed to 0.0005904900433961303\n",
      "160000/160000 [==============================] - 637s 4ms/step - loss: 0.0517 - acc: 0.7966 - val_loss: 0.0256 - val_acc: 0.9367\n",
      "Epoch 12/40\n",
      "160000/160000 [==============================] - 652s 4ms/step - loss: 0.0513 - acc: 0.7979 - val_loss: 0.0258 - val_acc: 0.9376\n",
      "Epoch 13/40\n",
      "lr changed to 0.0005314410547725857\n",
      "160000/160000 [==============================] - 673s 4ms/step - loss: 0.0504 - acc: 0.8013 - val_loss: 0.0247 - val_acc: 0.9383\n",
      "Epoch 14/40\n",
      "160000/160000 [==============================] - 654s 4ms/step - loss: 0.0498 - acc: 0.8031 - val_loss: 0.0254 - val_acc: 0.9382\n",
      "Epoch 15/40\n",
      "lr changed to 0.00047829695977270604\n",
      "160000/160000 [==============================] - 645s 4ms/step - loss: 0.0487 - acc: 0.8085 - val_loss: 0.0248 - val_acc: 0.9388\n",
      "Epoch 16/40\n",
      "160000/160000 [==============================] - 653s 4ms/step - loss: 0.0486 - acc: 0.8071 - val_loss: 0.0254 - val_acc: 0.9375\n",
      "Epoch 17/40\n",
      "lr changed to 0.0004304672533180565\n",
      "160000/160000 [==============================] - 654s 4ms/step - loss: 0.0479 - acc: 0.8099 - val_loss: 0.0246 - val_acc: 0.9403\n",
      "Epoch 18/40\n",
      "160000/160000 [==============================] - 629s 4ms/step - loss: 0.0471 - acc: 0.8139 - val_loss: 0.0250 - val_acc: 0.9391\n",
      "Epoch 19/40\n",
      "lr changed to 0.00038742052274756136\n",
      "160000/160000 [==============================] - 654s 4ms/step - loss: 0.0472 - acc: 0.8128 - val_loss: 0.0248 - val_acc: 0.9400\n",
      "Epoch 20/40\n",
      "160000/160000 [==============================] - 651s 4ms/step - loss: 0.0471 - acc: 0.8135 - val_loss: 0.0251 - val_acc: 0.9375\n",
      "Epoch 21/40\n",
      "lr changed to 0.0003486784757114947\n",
      "160000/160000 [==============================] - 637s 4ms/step - loss: 0.0467 - acc: 0.8151 - val_loss: 0.0257 - val_acc: 0.9384\n",
      "Epoch 22/40\n",
      "160000/160000 [==============================] - 646s 4ms/step - loss: 0.0461 - acc: 0.8170 - val_loss: 0.0264 - val_acc: 0.9365\n",
      "Epoch 23/40\n",
      "lr changed to 0.00031381062290165574\n",
      "160000/160000 [==============================] - 655s 4ms/step - loss: 0.0451 - acc: 0.8210 - val_loss: 0.0255 - val_acc: 0.9385\n",
      "Epoch 24/40\n",
      "160000/160000 [==============================] - 655s 4ms/step - loss: 0.0456 - acc: 0.8190 - val_loss: 0.0263 - val_acc: 0.9363\n",
      "Epoch 25/40\n",
      "lr changed to 0.0002824295632308349\n",
      "160000/160000 [==============================] - 629s 4ms/step - loss: 0.0450 - acc: 0.8220 - val_loss: 0.0261 - val_acc: 0.9365\n",
      "Epoch 26/40\n",
      "160000/160000 [==============================] - 652s 4ms/step - loss: 0.0455 - acc: 0.8210 - val_loss: 0.0259 - val_acc: 0.9382\n",
      "Epoch 27/40\n",
      "lr changed to 0.00025418660952709616\n",
      "160000/160000 [==============================] - 653s 4ms/step - loss: 0.0449 - acc: 0.8225 - val_loss: 0.0259 - val_acc: 0.9376\n",
      "Epoch 28/40\n",
      "160000/160000 [==============================] - 652s 4ms/step - loss: 0.0447 - acc: 0.8224 - val_loss: 0.0255 - val_acc: 0.9387\n",
      "Epoch 29/40\n",
      "lr changed to 0.00022876793809700757\n",
      "160000/160000 [==============================] - 648s 4ms/step - loss: 0.0443 - acc: 0.8240 - val_loss: 0.0257 - val_acc: 0.9392\n",
      "Epoch 30/40\n",
      "160000/160000 [==============================] - 656s 4ms/step - loss: 0.0444 - acc: 0.8242 - val_loss: 0.0261 - val_acc: 0.9387\n",
      "Epoch 31/40\n",
      "lr changed to 0.00020589114428730683\n",
      "160000/160000 [==============================] - 653s 4ms/step - loss: 0.0441 - acc: 0.8252 - val_loss: 0.0262 - val_acc: 0.9374\n",
      "Epoch 32/40\n",
      "160000/160000 [==============================] - 606s 4ms/step - loss: 0.0441 - acc: 0.8256 - val_loss: 0.0266 - val_acc: 0.9370\n",
      "Epoch 33/40\n",
      "lr changed to 0.00018530203378759326\n",
      "160000/160000 [==============================] - 603s 4ms/step - loss: 0.0437 - acc: 0.8268 - val_loss: 0.0258 - val_acc: 0.9386\n",
      "Epoch 34/40\n",
      "160000/160000 [==============================] - 602s 4ms/step - loss: 0.0437 - acc: 0.8269 - val_loss: 0.0261 - val_acc: 0.9371\n",
      "Epoch 35/40\n",
      "lr changed to 0.00016677183302817866\n",
      "160000/160000 [==============================] - 610s 4ms/step - loss: 0.0440 - acc: 0.8249 - val_loss: 0.0266 - val_acc: 0.9365\n",
      "Epoch 36/40\n",
      "160000/160000 [==============================] - 608s 4ms/step - loss: 0.0434 - acc: 0.8270 - val_loss: 0.0268 - val_acc: 0.9354\n",
      "Epoch 37/40\n",
      "lr changed to 0.00015009464841568844\n",
      "160000/160000 [==============================] - 609s 4ms/step - loss: 0.0431 - acc: 0.8289 - val_loss: 0.0264 - val_acc: 0.9370\n",
      "Epoch 38/40\n",
      "160000/160000 [==============================] - 606s 4ms/step - loss: 0.0435 - acc: 0.8271 - val_loss: 0.0264 - val_acc: 0.9371\n",
      "Epoch 39/40\n",
      "lr changed to 0.0001350851875031367\n",
      "160000/160000 [==============================] - 607s 4ms/step - loss: 0.0431 - acc: 0.8280 - val_loss: 0.0264 - val_acc: 0.9369\n",
      "Epoch 40/40\n",
      "160000/160000 [==============================] - 604s 4ms/step - loss: 0.0431 - acc: 0.8286 - val_loss: 0.0267 - val_acc: 0.9367\n"
     ]
    },
    {
     "data": {
      "image/png": "[encoded data removed]",
      "text/plain": [
       "<Figure size 432x288 with 1 Axes>"
      ]
     },
     "metadata": {
      "needs_background": "light"
     },
     "output_type": "display_data"
    },
    {
     "data": {
      "image/png": "[encoded data removed]",
      "text/plain": [
       "<Figure size 432x288 with 1 Axes>"
      ]
     },
     "metadata": {
      "needs_background": "light"
     },
     "output_type": "display_data"
    },
    {
     "name": "stdout",
     "output_type": "stream",
     "text": [
      "40000/40000 [==============================] - 54s 1ms/step\n",
      "complete stroke test score: 0.02636064376682043\n",
      "complete stroke test accuracy: 0.9378\n",
      "40000/40000 [==============================] - 55s 1ms/step\n",
      "90% stroke test score: 0.043125822818279265\n",
      "90% stroke test accuracy: 0.865575\n",
      "40000/40000 [==============================] - 53s 1ms/step\n",
      "70% stroke test score: 0.05572024278640747\n",
      "70% stroke test accuracy: 0.81975\n",
      "40000/40000 [==============================] - 56s 1ms/step\n",
      "50% stroke test score: 0.08793667861223221\n",
      "50% stroke test accuracy: 0.6968\n"
     ]
    }
   ],
   "source": [
    "lr_decay = LearningRateScheduler(scheduler)\n",
    "   \n",
    "\n",
    "history = model.fit(train_data, train_label,\n",
    "          batch_size = bs, epochs= EPOCH, \n",
    "          verbose=1,validation_split=0.2,callbacks=[lr_decay])\n",
    "\n",
    "%matplotlib inline\n",
    "plot_history(history)\n",
    "\n",
    "test_loss, test_acc = model.evaluate(test_data, test_label,\n",
    "                                         batch_size=bs)\n",
    "print('complete stroke test score:', test_loss)\n",
    "print('complete stroke test accuracy:', test_acc)\n",
    "\n",
    "test_loss1, test_acc1 = model.evaluate(test_data1, test_label,\n",
    "                                         batch_size=bs)\n",
    "print('90% stroke test score:', test_loss1)\n",
    "print('90% stroke test accuracy:', test_acc1)\n",
    "test_loss2, test_acc2 = model.evaluate(test_data2, test_label,\n",
    "                                         batch_size=bs)\n",
    "print('70% stroke test score:', test_loss2)\n",
    "print('70% stroke test accuracy:', test_acc2)\n",
    "test_loss3, test_acc3 = model.evaluate(test_data3, test_label,\n",
    "                                         batch_size=bs)\n",
    "print('50% stroke test score:', test_loss3)\n",
    "print('50% stroke test accuracy:', test_acc3)"
   ]
  },
  {
   "cell_type": "markdown",
   "metadata": {},
   "source": [
    "## Plot confusion matrix of test data "
   ]
  },
  {
   "cell_type": "code",
   "execution_count": 12,
   "metadata": {},
   "outputs": [
    {
     "data": {
      "image/png": "[encoded data removed]",
      "text/plain": [
       "<Figure size 432x288 with 2 Axes>"
      ]
     },
     "metadata": {
      "needs_background": "light"
     },
     "output_type": "display_data"
    },
    {
     "data": {
      "image/png": "[encoded data removed]",
      "text/plain": [
       "<Figure size 432x288 with 2 Axes>"
      ]
     },
     "metadata": {
      "needs_background": "light"
     },
     "output_type": "display_data"
    },
    {
     "data": {
      "image/png": "[encoded data removed]",
      "text/plain": [
       "<Figure size 432x288 with 2 Axes>"
      ]
     },
     "metadata": {
      "needs_background": "light"
     },
     "output_type": "display_data"
    },
    {
     "data": {
      "image/png": "[encoded data removed]",
      "text/plain": [
       "<Figure size 432x288 with 2 Axes>"
      ]
     },
     "metadata": {
      "needs_background": "light"
     },
     "output_type": "display_data"
    }
   ],
   "source": [
    "def test_confusion_matrix(test_data,test_Y):\n",
    "    score_pred = model.predict(test_data)\n",
    "    label_pred = np.argmax(score_pred,1)\n",
    "    c_m = confusion_matrix(test_Y,label_pred)\n",
    "    %matplotlib inline\n",
    "    plt.imshow(c_m)\n",
    "    plt.xlabel(\"Predicted labels\")\n",
    "    plt.ylabel(\"True labels\")\n",
    "    plt.xticks([], [])\n",
    "    plt.yticks([], [])\n",
    "    plt.title('Confusion matrix ')\n",
    "    plt.colorbar()\n",
    "    plt.show()\n",
    "    return \n",
    "\n",
    "test_confusion_matrix(test_data,test_Y)\n",
    "test_confusion_matrix(test_data1,test_Y)\n",
    "test_confusion_matrix(test_data2,test_Y)\n",
    "test_confusion_matrix(test_data3,test_Y)\n",
    "\n",
    "\n"
   ]
  },
  {
   "cell_type": "code",
   "execution_count": null,
   "metadata": {},
   "outputs": [],
   "source": []
  }
 ],
 "metadata": {
  "kernelspec": {
   "display_name": "Python 3",
   "language": "python",
   "name": "python3"
  }
 },
 "nbformat": 4,
 "nbformat_minor": 2
}
