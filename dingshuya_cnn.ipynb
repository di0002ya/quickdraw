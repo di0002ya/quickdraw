{
 "cells": [
  {
   "cell_type": "markdown",
   "metadata": {},
   "source": [
    "# CNN Outline\n",
    "Author: Ding Shuya\n",
    "1. Motivation\n",
    "2. Data Loading \n",
    "3. Data Preprocessing \n",
    "\n",
    ">1. Data Analysis \n",
    ">2. Data Preprocessing\n",
    ">3. Data Normalization\n",
    ">4. Categorical\n",
    "\n",
    "4. Model Structures\n",
    ">1. Hyperparameter Tuning\n",
    "5. Training \n",
    "6. Performance Improvment\n",
    "7. Evaluation \n"
   ]
  },
  {
   "cell_type": "markdown",
   "metadata": {},
   "source": [
    "## 1. Motivation"
   ]
  },
  {
   "cell_type": "markdown",
   "metadata": {},
   "source": [
    "Convolutional neural network(CNN) is well-known deep learning technique to solve image classification problems. \n",
    "\n",
    "Hence, we will try to solve quick draw tasks using CNN. "
   ]
  },
  {
   "cell_type": "markdown",
   "metadata": {},
   "source": [
    "## 2. Data Loading"
   ]
  },
  {
   "cell_type": "markdown",
   "metadata": {},
   "source": [
    "Our group will use 5 classes: 'calendar', 'snowman', 'penguin', 'blackberry', 'teddy-bear'. \n",
    "\n",
    "Each class have exactly 128153 data. Basic datasets are already processed by **Liu Chang**. "
   ]
  },
  {
   "cell_type": "code",
   "execution_count": 4,
   "metadata": {},
   "outputs": [],
   "source": [
    "if 'session' in locals() and session is not None:\n",
    "    print('Close interactive session')\n",
    "    session.close()"
   ]
  },
  {
   "cell_type": "code",
   "execution_count": 5,
   "metadata": {},
   "outputs": [],
   "source": [
    "import os\n",
    "os.environ[\"CUDA_VISIBLE_DEVICES\"] = '0'"
   ]
  },
  {
   "cell_type": "code",
   "execution_count": 6,
   "metadata": {},
   "outputs": [],
   "source": [
    "import os\n",
    "import pickle\n",
    "\n",
    "def _cut_stroke(x,ratio=1):\n",
    "    if ratio==1:\n",
    "        return x\n",
    "    return [i[:int(len(i)*ratio)] for i in x]\n",
    "def get_dataset(dataset_path='',dataset_name='1102_05b633244.dms',train_r=1.0,test_r=1.0):\n",
    "    (train_Recognized, train_X, train_Y, test_Recognized, test_X, test_Y)=pickle.load(open(os.path.join(dataset_path,dataset_name),'rb'))\n",
    "    train_X=_cut_stroke(train_X,train_r)\n",
    "    test_X=_cut_stroke(test_X,test_r)\n",
    "    return train_Recognized,train_X,train_Y,test_Recognized,test_X,test_Y"
   ]
  },
  {
   "cell_type": "code",
   "execution_count": 7,
   "metadata": {},
   "outputs": [],
   "source": [
    "dataset_path='/home/di0002ya/quickdraw/dsy'"
   ]
  },
  {
   "cell_type": "code",
   "execution_count": 5,
   "metadata": {},
   "outputs": [],
   "source": [
    "train_Recognized,train_X,train_Y,test_Recognized,test_X,test_Y=get_dataset(dataset_path = dataset_path, dataset_name = '1102_05b633244.dms',train_r=1.0,test_r=1.0)"
   ]
  },
  {
   "cell_type": "markdown",
   "metadata": {},
   "source": [
    "## 3. Data Preprocessing"
   ]
  },
  {
   "cell_type": "markdown",
   "metadata": {},
   "source": [
    "### 3.1 Data Analysis"
   ]
  },
  {
   "cell_type": "code",
   "execution_count": 5,
   "metadata": {},
   "outputs": [
    {
     "name": "stdout",
     "output_type": "stream",
     "text": [
      "training image datasets has 506595\n",
      "testing image datasets has 126649\n"
     ]
    }
   ],
   "source": [
    "print('training image datasets has', len(train_X))\n",
    "print('testing image datasets has', len(test_X))"
   ]
  },
  {
   "cell_type": "markdown",
   "metadata": {},
   "source": [
    "Basic datasets are made up of multiple strokes. \n",
    "\n",
    "Each strokes are represented by X (dimension 0) and Y (dimension 1) lists. \n",
    "\n",
    "Lenght of X or Y reprensents the length of each stroke. "
   ]
  },
  {
   "cell_type": "code",
   "execution_count": 6,
   "metadata": {},
   "outputs": [
    {
     "name": "stdout",
     "output_type": "stream",
     "text": [
      "Let us using 1st train sample as example to investigate the structure of data\n",
      "Number of strokes of 1st sketch is 3\n",
      "1st strokes has 47 points\n"
     ]
    }
   ],
   "source": [
    "print('Let us using 1st train sample as example to investigate the structure of data')\n",
    "print('Number of strokes of 1st sketch is', len(train_X[0]))\n",
    "print('1st strokes has', len(train_X[0][0][0]), 'points')"
   ]
  },
  {
   "cell_type": "markdown",
   "metadata": {},
   "source": [
    "### 3.2 Data Preprocessing"
   ]
  },
  {
   "cell_type": "markdown",
   "metadata": {},
   "source": [
    "Normally, RGB images will have 3 channels. Videa will have 4 channels.\n",
    "\n",
    "In our case, we only deal with grey scale sketch which means that channel will be 1 in our case. \n",
    "\n",
    "In order to preprocess sequence stroke data to image data, we will draw each skeches on 42\\*42\\*1 arrays. The value of each existing points is 1. "
   ]
  },
  {
   "cell_type": "code",
   "execution_count": 7,
   "metadata": {},
   "outputs": [],
   "source": [
    "import pandas as pd\n",
    "df_trainX = pd.DataFrame({'drawing':train_X})\n",
    "df_testX = pd.DataFrame({'drawing':test_X})"
   ]
  },
  {
   "cell_type": "code",
   "execution_count": 8,
   "metadata": {},
   "outputs": [],
   "source": [
    "# Calculate Stroke Number of Each Image\n",
    "df_trainX['stroke_number'] = df_trainX['drawing'].str.len()\n",
    "df_testX['stroke_number'] = df_testX['drawing'].str.len()"
   ]
  },
  {
   "cell_type": "markdown",
   "metadata": {},
   "source": [
    "We should do normalization in order to make training less sensitive to the scale of the features. Moreover, it will make optimization well-conditioned, improving the convergence rate of gradient descent. "
   ]
  },
  {
   "cell_type": "code",
   "execution_count": 8,
   "metadata": {},
   "outputs": [],
   "source": [
    "# Normalization \n",
    "def _array_normalizer(array1,Xmin,Xmax,array_min):\n",
    "    '''\n",
    "    function:\n",
    "        - normalize X,Y array by range of X\n",
    "        - used in feature_eng_pt2\n",
    "    input:\n",
    "        array1 = array that you want to normalize (1D array or list)\n",
    "        Xmin = minimum value of your X array (int)\n",
    "        Xmax = maximum value of your X array (int)\n",
    "        array_min = minimum value of array1\n",
    "\n",
    "    output:\n",
    "        normalized array of array1\n",
    "    '''\n",
    "    return (np.array(array1)-np.array([array_min]*len(array1)))/float(Xmax-Xmin)"
   ]
  },
  {
   "cell_type": "code",
   "execution_count": 9,
   "metadata": {},
   "outputs": [],
   "source": [
    "import numpy as np\n",
    "def preprocess(df):\n",
    "    X = {} # Dimension 0: storing existing points for each images\n",
    "    Y = {} # Dimension 1: storing existing points for each images\n",
    "    Ymax = {} # Dimension 1: storing Ymax for each images\n",
    "    image_pile = np.zeros((df.shape[0],42*42*1)) # Image Array storing final image info\n",
    "    orig_index = df.index\n",
    "    for i in range(df.shape[0]):\n",
    "        num = df.loc[i,'stroke_number']\n",
    "        #store X,Y of the stroke in a temp list\n",
    "        Xt = [df.loc[i,'drawing'][stroke][0] for stroke in range(num)]\n",
    "        Yt = [df.loc[i,'drawing'][stroke][1] for stroke in range(num)]\n",
    "        #Flatten Xt & Yt\n",
    "        Xtemp = [item for stroke in Xt for item in stroke]\n",
    "        Ytemp = [item for stroke in Yt for item in stroke]\n",
    "        # Normalize Xtemp&Ytemp for ith drawing\n",
    "        Xmintemp = np.min(Xtemp)-10\n",
    "        Xmaxtemp = np.max(Xtemp)+10\n",
    "        Ymintemp = np.min(Ytemp)-10\n",
    "        Xnorm = _array_normalizer(Xtemp, Xmintemp,Xmaxtemp,Xmintemp)\n",
    "        Ynorm = _array_normalizer(Ytemp, Xmintemp,Xmaxtemp,Ymintemp)\n",
    "        Ymax[i] = np.max(Ynorm)\n",
    "        X[i] = Xnorm\n",
    "        Y[i] = Ynorm\n",
    "        # Draw existing points on the image with corresponding positions\n",
    "        image = np.zeros((42,42))\n",
    "        xarray = np.around(np.array(Xnorm)*42)\n",
    "        yarray = np.around(np.array(Ynorm)*42/float(Ymax[i]))\n",
    "        xarray[xarray>=42.] = 41\n",
    "        yarray[yarray>=42.] = 41\n",
    "\n",
    "        for item in range(len(xarray)):\n",
    "            image[int(np.around(yarray[item])),int(np.around(xarray[item]))] = 1\n",
    "        image_pile[i] = image.reshape(1,42*42*1)\n",
    "\n",
    "    # create new features\n",
    "    df['Ymax'] = pd.Series(Ymax)\n",
    "    df['X'] = pd.Series(X)\n",
    "    df['Y'] = pd.Series(Y)\n",
    "\n",
    "    #return pd.DataFrame(image_pile, index = orig_index)\n",
    "    df_final = pd.DataFrame(image_pile, index = orig_index)\n",
    "    return df_final"
   ]
  },
  {
   "cell_type": "code",
   "execution_count": 11,
   "metadata": {},
   "outputs": [],
   "source": [
    "trainX = preprocess(df_trainX)"
   ]
  },
  {
   "cell_type": "code",
   "execution_count": 12,
   "metadata": {},
   "outputs": [],
   "source": [
    "#Convert to Array & Normalization \n",
    "trainX_ar = np.array(trainX)"
   ]
  },
  {
   "cell_type": "code",
   "execution_count": 13,
   "metadata": {},
   "outputs": [],
   "source": [
    "trainY_ar = np.array(train_Y)"
   ]
  },
  {
   "cell_type": "code",
   "execution_count": 14,
   "metadata": {},
   "outputs": [],
   "source": [
    "# Normalization X values \n",
    "data_np = np.array(trainX_ar)\n",
    "data_key = data_np[:,-1]\n",
    "trainX = data_np[:,0:42*42]\n",
    "trainX /= 10000 \n",
    "trainX += 1 \n",
    "trainX[trainX == 1.0] = 0"
   ]
  },
  {
   "cell_type": "code",
   "execution_count": 15,
   "metadata": {},
   "outputs": [],
   "source": [
    "trainX = trainX.reshape(len(trainX),42,42,1)"
   ]
  },
  {
   "cell_type": "code",
   "execution_count": 16,
   "metadata": {},
   "outputs": [
    {
     "name": "stderr",
     "output_type": "stream",
     "text": [
      "Using TensorFlow backend.\n"
     ]
    }
   ],
   "source": [
    "from keras.utils import np_utils\n",
    "trainY_label = np_utils.to_categorical(trainY_ar,5)"
   ]
  },
  {
   "cell_type": "code",
   "execution_count": 17,
   "metadata": {},
   "outputs": [],
   "source": [
    "#Save Data\n",
    "np.save('/home/di0002ya/quickdraw/dsy/trainX.npy', trainX)\n",
    "np.save('/home/di0002ya/quickdraw/dsy/trainY_label.npy', trainY_label)"
   ]
  },
  {
   "cell_type": "code",
   "execution_count": 6,
   "metadata": {},
   "outputs": [],
   "source": [
    "import numpy as np\n",
    "trainX = np.load('/home/di0002ya/quickdraw/dsy/trainX.npy')\n",
    "trainY = np.load('/home/di0002ya/quickdraw/dsy/trainY_label.npy')"
   ]
  },
  {
   "cell_type": "markdown",
   "metadata": {},
   "source": [
    "## 4. Model Structures"
   ]
  },
  {
   "cell_type": "markdown",
   "metadata": {},
   "source": [
    "### 4.1 Hyperparameter Tuning"
   ]
  },
  {
   "cell_type": "markdown",
   "metadata": {},
   "source": [
    "We firstly build a simple CNN model. Moreover, dropout layer, maxpooling layer will also be used. Order of these layers will be based on the following rules. \n",
    "1. Dropout \n",
    "2. Linear/Dense/Conv\n",
    "3. Batch Normalization\n",
    "4. Activations\n",
    "5. Maxpooling\n",
    "\n",
    "'Relu' will be used after convolutional layer and dense layer. \n",
    "\n",
    "Output activation function will be 'softmax' as this is a classification problems. \n",
    "\n",
    "Adam is the selected optimizer as Adam is the best optimizer currently. \n",
    "\n",
    "Loss function will be 'cross-entropy'. \n",
    "\n",
    "Following parameters will be tuned:\n",
    "1. Kernel Size\n",
    "2. Dropout Rate\n",
    "3. Batch Size\n",
    "4. Number of Filters\n",
    "5. Dense Neurons"
   ]
  },
  {
   "cell_type": "code",
   "execution_count": 7,
   "metadata": {},
   "outputs": [
    {
     "name": "stderr",
     "output_type": "stream",
     "text": [
      "Using TensorFlow backend.\n"
     ]
    }
   ],
   "source": [
    "import pandas as pd\n",
    "from keras.utils import np_utils\n",
    "from sklearn.model_selection import train_test_split\n",
    "import numpy as np\n",
    "from keras.models import Sequential\n",
    "from keras.layers import Dense, Dropout, Activation, Flatten\n",
    "from keras.layers import Convolution2D, MaxPooling2D\n",
    "from keras.layers.convolutional import ZeroPadding2D\n",
    "from keras.models import load_model\n",
    "import tensorflow as tf"
   ]
  },
  {
   "cell_type": "markdown",
   "metadata": {},
   "source": [
    "#### 4.1.1 Kernel Size"
   ]
  },
  {
   "cell_type": "code",
   "execution_count": 8,
   "metadata": {},
   "outputs": [],
   "source": [
    "#Declare \n",
    "args = {}\n",
    "args['poolS'] = 2 #Pooling Size\n",
    "args['dropout'] = 0.2 # Dropout Rate\n",
    "args['batch'] = 512 #Batch Size\n",
    "args['epochs']=1 # Epochs\n",
    "args['len_category']=5 # Number of Class\n",
    "args['num_filters']=64 # Number of Filters\n",
    "args['dense_neuron']=100 # Dense Neurons\n",
    "\n",
    "ls = [3,5,7] #Kernel size"
   ]
  },
  {
   "cell_type": "code",
   "execution_count": 9,
   "metadata": {},
   "outputs": [],
   "source": [
    "def tune_para(name,ls,args,trainX,trainY_label):\n",
    "    # Model Building\n",
    "    print(name,' will be tuned')\n",
    "    for i in range(len(ls)):\n",
    "        args[name] = ls[i]\n",
    "        print('value is ', ls[i])\n",
    "        model = Sequential()\n",
    "        model.add(Convolution2D(args['num_filters'],args['kernelS'],args['kernelS'], activation='relu', input_shape=(42,42,1)))\n",
    "        model.add(MaxPooling2D(pool_size=(args['poolS'],args['poolS'])))\n",
    "        model.add(Flatten())\n",
    "        model.add(Dropout(args['dropout']))\n",
    "        model.add(Dense(args['dense_neuron'], activation='relu'))\n",
    "        model.add(Dropout(args['dropout'] ))\n",
    "        model.add(Dense(args['len_category'], activation='softmax'))\n",
    "\n",
    "        model.compile(loss='categorical_crossentropy',\n",
    "                  optimizer='adam',\n",
    "                  metrics=['accuracy'])\n",
    "        model.fit(trainX, trainY_label,\n",
    "                  batch_size = args['batch'], nb_epoch= args['epochs'], \n",
    "                  verbose=2,validation_split=0.2)\n",
    "    "
   ]
  },
  {
   "cell_type": "code",
   "execution_count": 15,
   "metadata": {},
   "outputs": [
    {
     "name": "stdout",
     "output_type": "stream",
     "text": [
      "kernelS  will be tuned\n",
      "value is  3\n"
     ]
    },
    {
     "name": "stderr",
     "output_type": "stream",
     "text": [
      "/home/di0002ya/miniconda3/envs/quickdraw/lib/python3.6/site-packages/ipykernel_launcher.py:8: UserWarning: Update your `Conv2D` call to the Keras 2 API: `Conv2D(64, (3, 3), activation=\"relu\", input_shape=(42, 42, 1...)`\n",
      "  \n",
      "/home/di0002ya/miniconda3/envs/quickdraw/lib/python3.6/site-packages/ipykernel_launcher.py:21: UserWarning: The `nb_epoch` argument in `fit` has been renamed `epochs`.\n"
     ]
    },
    {
     "name": "stdout",
     "output_type": "stream",
     "text": [
      "Train on 405276 samples, validate on 101319 samples\n",
      "Epoch 1/1\n",
      "405276/405276 [==============================] - 31s 76us/step - loss: 0.4739 - acc: 0.8388 - val_loss: 0.3512 - val_acc: 0.8816\n",
      "value is  5\n"
     ]
    },
    {
     "name": "stderr",
     "output_type": "stream",
     "text": [
      "/home/di0002ya/miniconda3/envs/quickdraw/lib/python3.6/site-packages/ipykernel_launcher.py:8: UserWarning: Update your `Conv2D` call to the Keras 2 API: `Conv2D(64, (5, 5), activation=\"relu\", input_shape=(42, 42, 1...)`\n",
      "  \n"
     ]
    },
    {
     "name": "stdout",
     "output_type": "stream",
     "text": [
      "Train on 405276 samples, validate on 101319 samples\n",
      "Epoch 1/1\n",
      "405276/405276 [==============================] - 24s 58us/step - loss: 0.4602 - acc: 0.8432 - val_loss: 0.3180 - val_acc: 0.8935\n",
      "value is  7\n"
     ]
    },
    {
     "name": "stderr",
     "output_type": "stream",
     "text": [
      "/home/di0002ya/miniconda3/envs/quickdraw/lib/python3.6/site-packages/ipykernel_launcher.py:8: UserWarning: Update your `Conv2D` call to the Keras 2 API: `Conv2D(64, (7, 7), activation=\"relu\", input_shape=(42, 42, 1...)`\n",
      "  \n"
     ]
    },
    {
     "name": "stdout",
     "output_type": "stream",
     "text": [
      "Train on 405276 samples, validate on 101319 samples\n",
      "Epoch 1/1\n",
      "405276/405276 [==============================] - 24s 59us/step - loss: 0.4550 - acc: 0.8453 - val_loss: 0.3004 - val_acc: 0.8991\n"
     ]
    }
   ],
   "source": [
    "tune_para(name='kernelS',ls=ls,args=args,trainX=trainX,trainY_label=trainY)"
   ]
  },
  {
   "cell_type": "markdown",
   "metadata": {},
   "source": [
    "Kernel Size will be **7**"
   ]
  },
  {
   "cell_type": "markdown",
   "metadata": {},
   "source": [
    "#### 4.1.2 Dropout Rate"
   ]
  },
  {
   "cell_type": "code",
   "execution_count": 16,
   "metadata": {},
   "outputs": [
    {
     "name": "stdout",
     "output_type": "stream",
     "text": [
      "dropout  will be tuned\n",
      "value is  0.2\n"
     ]
    },
    {
     "name": "stderr",
     "output_type": "stream",
     "text": [
      "/home/di0002ya/miniconda3/envs/quickdraw/lib/python3.6/site-packages/ipykernel_launcher.py:8: UserWarning: Update your `Conv2D` call to the Keras 2 API: `Conv2D(64, (7, 7), activation=\"relu\", input_shape=(42, 42, 1...)`\n",
      "  \n",
      "/home/di0002ya/miniconda3/envs/quickdraw/lib/python3.6/site-packages/ipykernel_launcher.py:21: UserWarning: The `nb_epoch` argument in `fit` has been renamed `epochs`.\n"
     ]
    },
    {
     "name": "stdout",
     "output_type": "stream",
     "text": [
      "Train on 405276 samples, validate on 101319 samples\n",
      "Epoch 1/1\n",
      "405276/405276 [==============================] - 26s 64us/step - loss: 0.4594 - acc: 0.8437 - val_loss: 0.3078 - val_acc: 0.8963\n",
      "value is  0.4\n",
      "Train on 405276 samples, validate on 101319 samples\n",
      "Epoch 1/1\n",
      "405276/405276 [==============================] - 27s 65us/step - loss: 0.5178 - acc: 0.8241 - val_loss: 0.3413 - val_acc: 0.8862\n",
      "value is  0.6\n",
      "Train on 405276 samples, validate on 101319 samples\n",
      "Epoch 1/1\n",
      "405276/405276 [==============================] - 27s 66us/step - loss: 0.6087 - acc: 0.7941 - val_loss: 0.3835 - val_acc: 0.8712\n"
     ]
    }
   ],
   "source": [
    "args['kernelS'] = 7\n",
    "ls = [0.2,0.4,0.6]\n",
    "tune_para(name='dropout',ls=ls,args=args,trainX=trainX,trainY_label=trainY)"
   ]
  },
  {
   "cell_type": "markdown",
   "metadata": {},
   "source": [
    "Dropout rate will be **0.2**"
   ]
  },
  {
   "cell_type": "markdown",
   "metadata": {},
   "source": [
    "#### 4.1.3 Batch Size"
   ]
  },
  {
   "cell_type": "code",
   "execution_count": 10,
   "metadata": {},
   "outputs": [
    {
     "name": "stdout",
     "output_type": "stream",
     "text": [
      "batch  will be tuned\n",
      "value is  32\n"
     ]
    },
    {
     "name": "stderr",
     "output_type": "stream",
     "text": [
      "/home/di0002ya/miniconda3/envs/quickdraw/lib/python3.6/site-packages/ipykernel_launcher.py:8: UserWarning: Update your `Conv2D` call to the Keras 2 API: `Conv2D(64, (7, 7), activation=\"relu\", input_shape=(42, 42, 1...)`\n",
      "  \n",
      "/home/di0002ya/miniconda3/envs/quickdraw/lib/python3.6/site-packages/ipykernel_launcher.py:21: UserWarning: The `nb_epoch` argument in `fit` has been renamed `epochs`.\n"
     ]
    },
    {
     "name": "stdout",
     "output_type": "stream",
     "text": [
      "Train on 405276 samples, validate on 101319 samples\n",
      "Epoch 1/1\n",
      " - 121s - loss: 0.3840 - acc: 0.8702 - val_loss: 0.2872 - val_acc: 0.9038\n",
      "value is  64\n",
      "Train on 405276 samples, validate on 101319 samples\n",
      "Epoch 1/1\n",
      " - 64s - loss: 0.3904 - acc: 0.8685 - val_loss: 0.2730 - val_acc: 0.9079\n",
      "value is  128\n",
      "Train on 405276 samples, validate on 101319 samples\n",
      "Epoch 1/1\n",
      " - 57s - loss: 0.3892 - acc: 0.8686 - val_loss: 0.2738 - val_acc: 0.9072\n",
      "value is  512\n",
      "Train on 405276 samples, validate on 101319 samples\n",
      "Epoch 1/1\n",
      " - 47s - loss: 0.4705 - acc: 0.8404 - val_loss: 0.3113 - val_acc: 0.8947\n"
     ]
    }
   ],
   "source": [
    "args['dropout'] = 0.2\n",
    "args['kernelS'] = 7\n",
    "ls = [32,64,128,512]\n",
    "tune_para(name='batch',ls=ls,args=args,trainX=trainX,trainY_label=trainY)"
   ]
  },
  {
   "cell_type": "markdown",
   "metadata": {},
   "source": [
    "Batch size will be **64**"
   ]
  },
  {
   "cell_type": "markdown",
   "metadata": {},
   "source": [
    "#### 4.1.4 Number of filters"
   ]
  },
  {
   "cell_type": "code",
   "execution_count": 10,
   "metadata": {},
   "outputs": [
    {
     "name": "stdout",
     "output_type": "stream",
     "text": [
      "num_filters  will be tuned\n",
      "value is  30\n"
     ]
    },
    {
     "name": "stderr",
     "output_type": "stream",
     "text": [
      "/home/di0002ya/miniconda3/envs/quickdraw/lib/python3.6/site-packages/ipykernel_launcher.py:8: UserWarning: Update your `Conv2D` call to the Keras 2 API: `Conv2D(30, (7, 7), activation=\"relu\", input_shape=(42, 42, 1...)`\n",
      "  \n",
      "/home/di0002ya/miniconda3/envs/quickdraw/lib/python3.6/site-packages/ipykernel_launcher.py:21: UserWarning: The `nb_epoch` argument in `fit` has been renamed `epochs`.\n"
     ]
    },
    {
     "name": "stdout",
     "output_type": "stream",
     "text": [
      "Train on 405276 samples, validate on 101319 samples\n",
      "Epoch 1/1\n",
      " - 76s - loss: 0.4001 - acc: 0.8642 - val_loss: 0.2795 - val_acc: 0.9067\n",
      "value is  60\n"
     ]
    },
    {
     "name": "stderr",
     "output_type": "stream",
     "text": [
      "/home/di0002ya/miniconda3/envs/quickdraw/lib/python3.6/site-packages/ipykernel_launcher.py:8: UserWarning: Update your `Conv2D` call to the Keras 2 API: `Conv2D(60, (7, 7), activation=\"relu\", input_shape=(42, 42, 1...)`\n",
      "  \n"
     ]
    },
    {
     "name": "stdout",
     "output_type": "stream",
     "text": [
      "Train on 405276 samples, validate on 101319 samples\n",
      "Epoch 1/1\n",
      " - 77s - loss: 0.3815 - acc: 0.8717 - val_loss: 0.2716 - val_acc: 0.9087\n",
      "value is  100\n"
     ]
    },
    {
     "name": "stderr",
     "output_type": "stream",
     "text": [
      "/home/di0002ya/miniconda3/envs/quickdraw/lib/python3.6/site-packages/ipykernel_launcher.py:8: UserWarning: Update your `Conv2D` call to the Keras 2 API: `Conv2D(100, (7, 7), activation=\"relu\", input_shape=(42, 42, 1...)`\n",
      "  \n"
     ]
    },
    {
     "name": "stdout",
     "output_type": "stream",
     "text": [
      "Train on 405276 samples, validate on 101319 samples\n",
      "Epoch 1/1\n",
      " - 82s - loss: 0.3949 - acc: 0.8673 - val_loss: 0.2873 - val_acc: 0.9031\n",
      "value is  150\n"
     ]
    },
    {
     "name": "stderr",
     "output_type": "stream",
     "text": [
      "/home/di0002ya/miniconda3/envs/quickdraw/lib/python3.6/site-packages/ipykernel_launcher.py:8: UserWarning: Update your `Conv2D` call to the Keras 2 API: `Conv2D(150, (7, 7), activation=\"relu\", input_shape=(42, 42, 1...)`\n",
      "  \n"
     ]
    },
    {
     "name": "stdout",
     "output_type": "stream",
     "text": [
      "Train on 405276 samples, validate on 101319 samples\n",
      "Epoch 1/1\n",
      " - 93s - loss: 0.3710 - acc: 0.8754 - val_loss: 0.2708 - val_acc: 0.9089\n"
     ]
    }
   ],
   "source": [
    "args['dropout'] = 0.2\n",
    "args['kernelS'] = 7\n",
    "args['batch'] = 64\n",
    "ls = [30,60,100,150]\n",
    "tune_para(name='num_filters',ls=ls,args=args,trainX=trainX,trainY_label=trainY)"
   ]
  },
  {
   "cell_type": "markdown",
   "metadata": {},
   "source": [
    "Batch size will be **150**"
   ]
  },
  {
   "cell_type": "markdown",
   "metadata": {},
   "source": [
    "#### 4.1.5 Dense Neurons"
   ]
  },
  {
   "cell_type": "code",
   "execution_count": 11,
   "metadata": {},
   "outputs": [
    {
     "name": "stdout",
     "output_type": "stream",
     "text": [
      "dense_neuron  will be tuned\n",
      "value is  30\n"
     ]
    },
    {
     "name": "stderr",
     "output_type": "stream",
     "text": [
      "/home/di0002ya/miniconda3/envs/quickdraw/lib/python3.6/site-packages/ipykernel_launcher.py:8: UserWarning: Update your `Conv2D` call to the Keras 2 API: `Conv2D(150, (7, 7), activation=\"relu\", input_shape=(42, 42, 1...)`\n",
      "  \n",
      "/home/di0002ya/miniconda3/envs/quickdraw/lib/python3.6/site-packages/ipykernel_launcher.py:21: UserWarning: The `nb_epoch` argument in `fit` has been renamed `epochs`.\n"
     ]
    },
    {
     "name": "stdout",
     "output_type": "stream",
     "text": [
      "Train on 405276 samples, validate on 101319 samples\n",
      "Epoch 1/1\n",
      " - 85s - loss: 0.4243 - acc: 0.8573 - val_loss: 0.3080 - val_acc: 0.8960\n",
      "value is  60\n",
      "Train on 405276 samples, validate on 101319 samples\n",
      "Epoch 1/1\n",
      " - 108s - loss: 0.4021 - acc: 0.8652 - val_loss: 0.2957 - val_acc: 0.8998\n",
      "value is  100\n",
      "Train on 405276 samples, validate on 101319 samples\n",
      "Epoch 1/1\n",
      " - 156s - loss: 0.3674 - acc: 0.8764 - val_loss: 0.2685 - val_acc: 0.9084\n",
      "value is  150\n",
      "Train on 405276 samples, validate on 101319 samples\n",
      "Epoch 1/1\n",
      " - 174s - loss: 0.3660 - acc: 0.8771 - val_loss: 0.2649 - val_acc: 0.9106\n"
     ]
    }
   ],
   "source": [
    "args['dropout'] = 0.2\n",
    "args['kernelS'] = 7\n",
    "args['batch'] = 64\n",
    "args['num_filters'] = 150\n",
    "ls = [30,60,100,150]\n",
    "tune_para(name='dense_neuron',ls=ls,args=args,trainX=trainX,trainY_label=trainY)"
   ]
  },
  {
   "cell_type": "markdown",
   "metadata": {},
   "source": [
    "## 5. Training"
   ]
  },
  {
   "cell_type": "code",
   "execution_count": 25,
   "metadata": {},
   "outputs": [],
   "source": [
    "#Declare \n",
    "args = {}\n",
    "args['poolS'] = 2 #Pooling Size\n",
    "args['dropout'] = 0.2 # Dropout Rate\n",
    "args['batch'] = 128 #Batch Size\n",
    "args['epochs']= 20 # Epochs\n",
    "args['len_category']=5 # Number of Class\n",
    "args['num_filters']=150 # Number of Filters\n",
    "args['dense_neuron']=150 # Dense Neurons\n",
    "args['kernelS'] = 7"
   ]
  },
  {
   "cell_type": "code",
   "execution_count": 26,
   "metadata": {},
   "outputs": [
    {
     "name": "stderr",
     "output_type": "stream",
     "text": [
      "/home/di0002ya/miniconda3/envs/quickdraw/lib/python3.6/site-packages/ipykernel_launcher.py:3: UserWarning: Update your `Conv2D` call to the Keras 2 API: `Conv2D(150, (7, 7), activation=\"relu\", input_shape=(42, 42, 1...)`\n",
      "  This is separate from the ipykernel package so we can avoid doing imports until\n",
      "/home/di0002ya/miniconda3/envs/quickdraw/lib/python3.6/site-packages/ipykernel_launcher.py:16: UserWarning: The `nb_epoch` argument in `fit` has been renamed `epochs`.\n",
      "  app.launch_new_instance()\n"
     ]
    },
    {
     "name": "stdout",
     "output_type": "stream",
     "text": [
      "Train on 405276 samples, validate on 101319 samples\n",
      "Epoch 1/20\n",
      " - 75s - loss: 0.3698 - acc: 0.8761 - val_loss: 0.2679 - val_acc: 0.9096\n",
      "Epoch 2/20\n",
      " - 148s - loss: 0.2514 - acc: 0.9161 - val_loss: 0.2478 - val_acc: 0.9172\n",
      "Epoch 3/20\n",
      " - 142s - loss: 0.1955 - acc: 0.9341 - val_loss: 0.2510 - val_acc: 0.9177\n",
      "Epoch 4/20\n",
      " - 144s - loss: 0.1497 - acc: 0.9481 - val_loss: 0.2737 - val_acc: 0.9157\n",
      "Epoch 5/20\n",
      " - 145s - loss: 0.1185 - acc: 0.9579 - val_loss: 0.2952 - val_acc: 0.9158\n",
      "Epoch 6/20\n",
      " - 144s - loss: 0.0974 - acc: 0.9650 - val_loss: 0.3386 - val_acc: 0.9133\n",
      "Epoch 7/20\n",
      " - 144s - loss: 0.0844 - acc: 0.9694 - val_loss: 0.3510 - val_acc: 0.9143\n"
     ]
    },
    {
     "data": {
      "text/plain": [
       "<keras.callbacks.History at 0x1551a99cb908>"
      ]
     },
     "execution_count": 26,
     "metadata": {},
     "output_type": "execute_result"
    }
   ],
   "source": [
    "import keras\n",
    "model = Sequential()\n",
    "model.add(Convolution2D(args['num_filters'],args['kernelS'],args['kernelS'], activation='relu', input_shape=(42,42,1)))\n",
    "model.add(MaxPooling2D(pool_size=(args['poolS'],args['poolS'])))\n",
    "model.add(Flatten())\n",
    "model.add(Dropout(args['dropout']))\n",
    "model.add(Dense(args['dense_neuron'], activation='relu'))\n",
    "model.add(Dropout(args['dropout'] ))\n",
    "model.add(Dense(args['len_category'], activation='softmax'))\n",
    "earlyStopping=keras.callbacks.EarlyStopping(monitor='val_loss', min_delta=0,patience=5, verbose=0, mode='auto')\n",
    "model.compile(loss='categorical_crossentropy',\n",
    "          optimizer='adam',\n",
    "          metrics=['accuracy'])\n",
    "model.fit(trainX, trainY, callbacks=[earlyStopping],\n",
    "          batch_size = args['batch'], nb_epoch= args['epochs'], \n",
    "          verbose=2,validation_split=0.2)"
   ]
  },
  {
   "cell_type": "code",
   "execution_count": 27,
   "metadata": {},
   "outputs": [
    {
     "name": "stdout",
     "output_type": "stream",
     "text": [
      "_________________________________________________________________\n",
      "Layer (type)                 Output Shape              Param #   \n",
      "=================================================================\n",
      "conv2d_13 (Conv2D)           (None, 36, 36, 150)       7500      \n",
      "_________________________________________________________________\n",
      "max_pooling2d_13 (MaxPooling (None, 18, 18, 150)       0         \n",
      "_________________________________________________________________\n",
      "flatten_13 (Flatten)         (None, 48600)             0         \n",
      "_________________________________________________________________\n",
      "dropout_25 (Dropout)         (None, 48600)             0         \n",
      "_________________________________________________________________\n",
      "dense_25 (Dense)             (None, 150)               7290150   \n",
      "_________________________________________________________________\n",
      "dropout_26 (Dropout)         (None, 150)               0         \n",
      "_________________________________________________________________\n",
      "dense_26 (Dense)             (None, 5)                 755       \n",
      "=================================================================\n",
      "Total params: 7,298,405\n",
      "Trainable params: 7,298,405\n",
      "Non-trainable params: 0\n",
      "_________________________________________________________________\n"
     ]
    }
   ],
   "source": [
    "model.summary()"
   ]
  },
  {
   "cell_type": "code",
   "execution_count": 28,
   "metadata": {},
   "outputs": [
    {
     "data": {
      "image/png": "[encoded data removed]",
      "text/plain": [
       "<Figure size 432x288 with 1 Axes>"
      ]
     },
     "metadata": {
      "needs_background": "light"
     },
     "output_type": "display_data"
    }
   ],
   "source": [
    "import matplotlib.pyplot as plt\n",
    "plt.plot(model.history.history['acc'])\n",
    "plt.plot(model.history.history['val_acc'])\n",
    "plt.title('model accuracy')\n",
    "plt.ylabel('accuracy')\n",
    "plt.xlabel('epoch')\n",
    "plt.legend(['train', 'test'], loc='upper left') \n",
    "plt.show()"
   ]
  },
  {
   "cell_type": "code",
   "execution_count": 29,
   "metadata": {},
   "outputs": [
    {
     "data": {
      "image/png": "[encoded data removed]",
      "text/plain": [
       "<Figure size 432x288 with 1 Axes>"
      ]
     },
     "metadata": {
      "needs_background": "light"
     },
     "output_type": "display_data"
    }
   ],
   "source": [
    "plt.plot(model.history.history['loss'])\n",
    "plt.plot(model.history.history['val_loss'])\n",
    "plt.ylabel('loss')\n",
    "plt.xlabel('epoch')\n",
    "plt.legend(['train', 'test'], loc='upper left') \n",
    "plt.show()"
   ]
  },
  {
   "cell_type": "markdown",
   "metadata": {},
   "source": [
    "## 6. Performance Improvement"
   ]
  },
  {
   "cell_type": "markdown",
   "metadata": {},
   "source": [
    "During training, callback of early stopping is used. Patience is set to 5 epochs. We could see that the model quickly overfitting. \n",
    "\n",
    "Following strategy is used:\n",
    "1. Increase max pooling size\n",
    "2. Increase dropout rate\n",
    "3. Add one more dropout layer\n",
    "4. Reduce structure dense neurons"
   ]
  },
  {
   "cell_type": "code",
   "execution_count": 31,
   "metadata": {},
   "outputs": [],
   "source": [
    "#Declare \n",
    "args = {}\n",
    "args['poolS'] = 3 #Pooling Size\n",
    "args['dropout'] = 0.4 # Dropout Rate\n",
    "args['batch'] = 128 #Batch Size\n",
    "args['epochs']= 20 # Epochs\n",
    "args['len_category']= 5 # Number of Class\n",
    "args['num_filters']= 100 # Number of Filters\n",
    "args['dense_neuron']= 50 # Dense Neurons\n",
    "args['kernelS'] = 7"
   ]
  },
  {
   "cell_type": "code",
   "execution_count": 32,
   "metadata": {},
   "outputs": [
    {
     "name": "stderr",
     "output_type": "stream",
     "text": [
      "/home/di0002ya/miniconda3/envs/quickdraw/lib/python3.6/site-packages/ipykernel_launcher.py:3: UserWarning: Update your `Conv2D` call to the Keras 2 API: `Conv2D(100, (7, 7), activation=\"relu\", input_shape=(42, 42, 1...)`\n",
      "  This is separate from the ipykernel package so we can avoid doing imports until\n",
      "/home/di0002ya/miniconda3/envs/quickdraw/lib/python3.6/site-packages/ipykernel_launcher.py:16: UserWarning: The `nb_epoch` argument in `fit` has been renamed `epochs`.\n",
      "  app.launch_new_instance()\n"
     ]
    },
    {
     "name": "stdout",
     "output_type": "stream",
     "text": [
      "Train on 405276 samples, validate on 101319 samples\n",
      "Epoch 1/20\n",
      " - 51s - loss: 0.5334 - acc: 0.8200 - val_loss: 0.3289 - val_acc: 0.8881\n",
      "Epoch 2/20\n",
      " - 78s - loss: 0.4032 - acc: 0.8663 - val_loss: 0.3067 - val_acc: 0.8974\n",
      "Epoch 3/20\n",
      " - 82s - loss: 0.3747 - acc: 0.8757 - val_loss: 0.2841 - val_acc: 0.9038\n",
      "Epoch 4/20\n",
      " - 101s - loss: 0.3585 - acc: 0.8809 - val_loss: 0.2824 - val_acc: 0.9051\n",
      "Epoch 5/20\n",
      " - 89s - loss: 0.3451 - acc: 0.8847 - val_loss: 0.2743 - val_acc: 0.9078\n",
      "Epoch 6/20\n",
      " - 88s - loss: 0.3363 - acc: 0.8876 - val_loss: 0.2727 - val_acc: 0.9081\n",
      "Epoch 7/20\n",
      " - 101s - loss: 0.3285 - acc: 0.8894 - val_loss: 0.2731 - val_acc: 0.9083\n",
      "Epoch 8/20\n",
      " - 94s - loss: 0.3233 - acc: 0.8911 - val_loss: 0.2724 - val_acc: 0.9081\n",
      "Epoch 9/20\n",
      " - 101s - loss: 0.3170 - acc: 0.8934 - val_loss: 0.2672 - val_acc: 0.9101\n",
      "Epoch 10/20\n",
      " - 84s - loss: 0.3138 - acc: 0.8938 - val_loss: 0.2640 - val_acc: 0.9118\n",
      "Epoch 11/20\n",
      " - 101s - loss: 0.3086 - acc: 0.8951 - val_loss: 0.2632 - val_acc: 0.9119\n",
      "Epoch 12/20\n",
      " - 90s - loss: 0.3047 - acc: 0.8963 - val_loss: 0.2642 - val_acc: 0.9121\n",
      "Epoch 13/20\n",
      " - 101s - loss: 0.3001 - acc: 0.8976 - val_loss: 0.2627 - val_acc: 0.9129\n",
      "Epoch 14/20\n",
      " - 92s - loss: 0.2972 - acc: 0.8983 - val_loss: 0.2620 - val_acc: 0.9131\n",
      "Epoch 15/20\n",
      " - 94s - loss: 0.2945 - acc: 0.8985 - val_loss: 0.2594 - val_acc: 0.9133\n",
      "Epoch 16/20\n",
      " - 101s - loss: 0.2922 - acc: 0.9000 - val_loss: 0.2621 - val_acc: 0.9132\n",
      "Epoch 17/20\n",
      " - 89s - loss: 0.2906 - acc: 0.8996 - val_loss: 0.2607 - val_acc: 0.9130\n",
      "Epoch 18/20\n",
      " - 96s - loss: 0.2876 - acc: 0.9006 - val_loss: 0.2614 - val_acc: 0.9126\n",
      "Epoch 19/20\n",
      " - 95s - loss: 0.2858 - acc: 0.9010 - val_loss: 0.2616 - val_acc: 0.9133\n",
      "Epoch 20/20\n",
      " - 101s - loss: 0.2836 - acc: 0.9019 - val_loss: 0.2607 - val_acc: 0.9138\n"
     ]
    },
    {
     "data": {
      "text/plain": [
       "<keras.callbacks.History at 0x154ec6816908>"
      ]
     },
     "execution_count": 32,
     "metadata": {},
     "output_type": "execute_result"
    }
   ],
   "source": [
    "import keras\n",
    "model = Sequential()\n",
    "model.add(Convolution2D(args['num_filters'],args['kernelS'],args['kernelS'], activation='relu', input_shape=(42,42,1)))\n",
    "model.add(MaxPooling2D(pool_size=(args['poolS'],args['poolS'])))\n",
    "model.add(Flatten())\n",
    "model.add(Dropout(args['dropout']))\n",
    "model.add(Dense(args['dense_neuron'], activation='relu'))\n",
    "model.add(Dropout(args['dropout'] ))\n",
    "model.add(Dense(args['len_category'], activation='softmax'))\n",
    "earlyStopping=keras.callbacks.EarlyStopping(monitor='val_loss', min_delta=0,patience=5, verbose=0, mode='auto')\n",
    "model.compile(loss='categorical_crossentropy',\n",
    "          optimizer='adam',\n",
    "          metrics=['accuracy'])\n",
    "model.fit(trainX, trainY, callbacks=[earlyStopping],\n",
    "          batch_size = args['batch'], nb_epoch= args['epochs'], \n",
    "          verbose=2,validation_split=0.2)"
   ]
  },
  {
   "cell_type": "code",
   "execution_count": 33,
   "metadata": {},
   "outputs": [
    {
     "data": {
      "image/png": "[encoded data removed]",
      "text/plain": [
       "<Figure size 432x288 with 1 Axes>"
      ]
     },
     "metadata": {
      "needs_background": "light"
     },
     "output_type": "display_data"
    }
   ],
   "source": [
    "import matplotlib.pyplot as plt\n",
    "plt.plot(model.history.history['acc'])\n",
    "plt.plot(model.history.history['val_acc'])\n",
    "plt.title('model accuracy')\n",
    "plt.ylabel('accuracy')\n",
    "plt.xlabel('epoch')\n",
    "plt.legend(['train', 'test'], loc='upper left') \n",
    "plt.show()"
   ]
  },
  {
   "cell_type": "code",
   "execution_count": 34,
   "metadata": {},
   "outputs": [
    {
     "data": {
      "image/png": "[encoded data removed]",
      "text/plain": [
       "<Figure size 432x288 with 1 Axes>"
      ]
     },
     "metadata": {
      "needs_background": "light"
     },
     "output_type": "display_data"
    }
   ],
   "source": [
    "plt.plot(model.history.history['loss'])\n",
    "plt.plot(model.history.history['val_loss'])\n",
    "plt.ylabel('loss')\n",
    "plt.xlabel('epoch')\n",
    "plt.legend(['train', 'test'], loc='upper left') \n",
    "plt.show()"
   ]
  },
  {
   "cell_type": "markdown",
   "metadata": {},
   "source": [
    "It is sucessfully solved overfitting issue. However, we still want to improve the performance. \n",
    "\n",
    "Currently, we only have 1 layer convolutional layer and epochs only 20. \n",
    "\n",
    "Following modifications will be done in order to increase performance:\n",
    "1. Add one convolutional block\n",
    "2. Increase epochs"
   ]
  },
  {
   "cell_type": "code",
   "execution_count": 35,
   "metadata": {},
   "outputs": [
    {
     "name": "stderr",
     "output_type": "stream",
     "text": [
      "/home/di0002ya/miniconda3/envs/quickdraw/lib/python3.6/site-packages/ipykernel_launcher.py:13: UserWarning: Update your `Conv2D` call to the Keras 2 API: `Conv2D(100, (7, 7), activation=\"relu\", input_shape=(42, 42, 1...)`\n",
      "  del sys.path[0]\n",
      "/home/di0002ya/miniconda3/envs/quickdraw/lib/python3.6/site-packages/ipykernel_launcher.py:16: UserWarning: Update your `Conv2D` call to the Keras 2 API: `Conv2D(100, (7, 7), activation=\"relu\", input_shape=(42, 42, 1...)`\n",
      "  app.launch_new_instance()\n",
      "/home/di0002ya/miniconda3/envs/quickdraw/lib/python3.6/site-packages/ipykernel_launcher.py:29: UserWarning: The `nb_epoch` argument in `fit` has been renamed `epochs`.\n",
      "Exception ignored in: <bound method BaseSession._Callable.__del__ of <tensorflow.python.client.session.BaseSession._Callable object at 0x155269714da0>>\n",
      "Traceback (most recent call last):\n",
      "  File \"/home/di0002ya/miniconda3/envs/quickdraw/lib/python3.6/site-packages/tensorflow/python/client/session.py\", line 1448, in __del__\n",
      "    def __del__(self):\n",
      "KeyboardInterrupt: \n"
     ]
    },
    {
     "name": "stdout",
     "output_type": "stream",
     "text": [
      "Train on 405276 samples, validate on 101319 samples\n",
      "Epoch 1/40\n",
      " - 92s - loss: 0.5846 - acc: 0.7986 - val_loss: 0.3544 - val_acc: 0.8789\n",
      "Epoch 2/40\n",
      " - 143s - loss: 0.4307 - acc: 0.8573 - val_loss: 0.3129 - val_acc: 0.8946\n",
      "Epoch 3/40\n",
      " - 151s - loss: 0.4028 - acc: 0.8667 - val_loss: 0.2900 - val_acc: 0.9018\n",
      "Epoch 4/40\n",
      " - 151s - loss: 0.3890 - acc: 0.8716 - val_loss: 0.2901 - val_acc: 0.9014\n",
      "Epoch 5/40\n",
      " - 162s - loss: 0.3770 - acc: 0.8757 - val_loss: 0.2845 - val_acc: 0.9058\n",
      "Epoch 6/40\n",
      " - 147s - loss: 0.3684 - acc: 0.8783 - val_loss: 0.2825 - val_acc: 0.9057\n",
      "Epoch 7/40\n",
      " - 152s - loss: 0.3615 - acc: 0.8807 - val_loss: 0.2714 - val_acc: 0.9096\n",
      "Epoch 8/40\n",
      " - 152s - loss: 0.3548 - acc: 0.8831 - val_loss: 0.2705 - val_acc: 0.9094\n",
      "Epoch 9/40\n",
      " - 153s - loss: 0.3502 - acc: 0.8843 - val_loss: 0.2669 - val_acc: 0.9112\n",
      "Epoch 10/40\n",
      " - 152s - loss: 0.3447 - acc: 0.8862 - val_loss: 0.2605 - val_acc: 0.9125\n",
      "Epoch 11/40\n",
      " - 154s - loss: 0.3405 - acc: 0.8878 - val_loss: 0.2643 - val_acc: 0.9111\n",
      "Epoch 12/40\n",
      " - 150s - loss: 0.3379 - acc: 0.8885 - val_loss: 0.2600 - val_acc: 0.9125\n",
      "Epoch 13/40\n",
      " - 150s - loss: 0.3348 - acc: 0.8896 - val_loss: 0.2589 - val_acc: 0.9118\n",
      "Epoch 14/40\n",
      " - 161s - loss: 0.3311 - acc: 0.8904 - val_loss: 0.2585 - val_acc: 0.9134\n",
      "Epoch 15/40\n",
      " - 149s - loss: 0.3278 - acc: 0.8912 - val_loss: 0.2573 - val_acc: 0.9141\n",
      "Epoch 16/40\n",
      " - 154s - loss: 0.3272 - acc: 0.8923 - val_loss: 0.2600 - val_acc: 0.9132\n",
      "Epoch 17/40\n",
      " - 158s - loss: 0.3238 - acc: 0.8933 - val_loss: 0.2559 - val_acc: 0.9147\n",
      "Epoch 18/40\n",
      " - 148s - loss: 0.3224 - acc: 0.8932 - val_loss: 0.2517 - val_acc: 0.9154\n",
      "Epoch 19/40\n",
      " - 162s - loss: 0.3204 - acc: 0.8945 - val_loss: 0.2501 - val_acc: 0.9157\n",
      "Epoch 20/40\n",
      " - 149s - loss: 0.3179 - acc: 0.8946 - val_loss: 0.2494 - val_acc: 0.9165\n",
      "Epoch 21/40\n",
      " - 152s - loss: 0.3160 - acc: 0.8956 - val_loss: 0.2542 - val_acc: 0.9148\n",
      "Epoch 22/40\n",
      " - 150s - loss: 0.3150 - acc: 0.8959 - val_loss: 0.2516 - val_acc: 0.9150\n",
      "Epoch 23/40\n",
      " - 154s - loss: 0.3129 - acc: 0.8963 - val_loss: 0.2531 - val_acc: 0.9153\n",
      "Epoch 24/40\n",
      " - 152s - loss: 0.3126 - acc: 0.8969 - val_loss: 0.2465 - val_acc: 0.9161\n",
      "Epoch 25/40\n",
      " - 148s - loss: 0.3109 - acc: 0.8968 - val_loss: 0.2493 - val_acc: 0.9158\n",
      "Epoch 26/40\n",
      " - 149s - loss: 0.3092 - acc: 0.8979 - val_loss: 0.2504 - val_acc: 0.9153\n",
      "Epoch 27/40\n",
      " - 159s - loss: 0.3072 - acc: 0.8981 - val_loss: 0.2482 - val_acc: 0.9162\n",
      "Epoch 28/40\n",
      " - 150s - loss: 0.3081 - acc: 0.8983 - val_loss: 0.2510 - val_acc: 0.9159\n",
      "Epoch 29/40\n",
      " - 142s - loss: 0.3062 - acc: 0.8984 - val_loss: 0.2481 - val_acc: 0.9163\n"
     ]
    },
    {
     "data": {
      "text/plain": [
       "<keras.callbacks.History at 0x154ec610f908>"
      ]
     },
     "execution_count": 35,
     "metadata": {},
     "output_type": "execute_result"
    }
   ],
   "source": [
    "args = {}\n",
    "args['poolS'] = 3 #Pooling Size\n",
    "args['dropout'] = 0.4 # Dropout Rate\n",
    "args['batch'] = 128 #Batch Size\n",
    "args['epochs']= 40 # Epochs\n",
    "args['len_category']= 5 # Number of Class\n",
    "args['num_filters']= 100 # Number of Filters\n",
    "args['dense_neuron']= 50 # Dense Neurons\n",
    "args['kernelS'] = 7\n",
    "\n",
    "model = Sequential()\n",
    "model.add(Convolution2D(args['num_filters'],args['kernelS'],args['kernelS'], activation='relu', input_shape=(42,42,1)))\n",
    "model.add(MaxPooling2D(pool_size=(args['poolS'],args['poolS'])))\n",
    "model.add(Dropout(args['dropout']))\n",
    "model.add(Convolution2D(args['num_filters'],args['kernelS'],args['kernelS'], activation='relu', input_shape=(42,42,1)))\n",
    "model.add(MaxPooling2D(pool_size=(args['poolS'],args['poolS'])))\n",
    "model.add(Flatten())\n",
    "model.add(Dropout(args['dropout']))\n",
    "model.add(Dense(args['dense_neuron'], activation='relu'))\n",
    "model.add(Dropout(args['dropout'] ))\n",
    "model.add(Dense(args['len_category'], activation='softmax'))\n",
    "earlyStopping=keras.callbacks.EarlyStopping(monitor='val_loss', min_delta=0,patience=5, verbose=0, mode='auto')\n",
    "model.compile(loss='categorical_crossentropy',\n",
    "          optimizer='adam',\n",
    "          metrics=['accuracy'])\n",
    "model.fit(trainX, trainY, callbacks=[earlyStopping],\n",
    "          batch_size = args['batch'], nb_epoch= args['epochs'], \n",
    "          verbose=2,validation_split=0.2)"
   ]
  },
  {
   "cell_type": "code",
   "execution_count": 36,
   "metadata": {},
   "outputs": [
    {
     "name": "stdout",
     "output_type": "stream",
     "text": [
      "_________________________________________________________________\n",
      "Layer (type)                 Output Shape              Param #   \n",
      "=================================================================\n",
      "conv2d_15 (Conv2D)           (None, 36, 36, 100)       5000      \n",
      "_________________________________________________________________\n",
      "max_pooling2d_15 (MaxPooling (None, 12, 12, 100)       0         \n",
      "_________________________________________________________________\n",
      "dropout_29 (Dropout)         (None, 12, 12, 100)       0         \n",
      "_________________________________________________________________\n",
      "conv2d_16 (Conv2D)           (None, 6, 6, 100)         490100    \n",
      "_________________________________________________________________\n",
      "max_pooling2d_16 (MaxPooling (None, 2, 2, 100)         0         \n",
      "_________________________________________________________________\n",
      "flatten_15 (Flatten)         (None, 400)               0         \n",
      "_________________________________________________________________\n",
      "dropout_30 (Dropout)         (None, 400)               0         \n",
      "_________________________________________________________________\n",
      "dense_29 (Dense)             (None, 50)                20050     \n",
      "_________________________________________________________________\n",
      "dropout_31 (Dropout)         (None, 50)                0         \n",
      "_________________________________________________________________\n",
      "dense_30 (Dense)             (None, 5)                 255       \n",
      "=================================================================\n",
      "Total params: 515,405\n",
      "Trainable params: 515,405\n",
      "Non-trainable params: 0\n",
      "_________________________________________________________________\n"
     ]
    }
   ],
   "source": [
    "model.summary()"
   ]
  },
  {
   "cell_type": "code",
   "execution_count": 37,
   "metadata": {},
   "outputs": [],
   "source": [
    "model.save(dataset_path+'/cnn_full1_tune.h5')"
   ]
  },
  {
   "cell_type": "markdown",
   "metadata": {},
   "source": [
    "## 7. Evaluation"
   ]
  },
  {
   "cell_type": "code",
   "execution_count": 10,
   "metadata": {},
   "outputs": [],
   "source": [
    "from sklearn.metrics import accuracy_score\n",
    "import pandas as pd\n",
    "from keras.utils.np_utils import to_categorical\n",
    "import numpy as np\n",
    "from sklearn import preprocessing\n",
    "from keras.utils import np_utils"
   ]
  },
  {
   "cell_type": "code",
   "execution_count": 11,
   "metadata": {},
   "outputs": [],
   "source": [
    "from keras.models import load_model"
   ]
  },
  {
   "cell_type": "code",
   "execution_count": 12,
   "metadata": {},
   "outputs": [],
   "source": [
    "model = load_model(dataset_path+'/cnn_full1_tune.h5')"
   ]
  },
  {
   "cell_type": "markdown",
   "metadata": {},
   "source": [
    "### 7.1 test ratio = 0.5"
   ]
  },
  {
   "cell_type": "code",
   "execution_count": 173,
   "metadata": {},
   "outputs": [],
   "source": [
    "_,_,_,_,test_X,test_Y=get_dataset(dataset_path = dataset_path, dataset_name = '1102_05b633244.dms',train_r=1.0,test_r=0.5)"
   ]
  },
  {
   "cell_type": "code",
   "execution_count": 174,
   "metadata": {},
   "outputs": [],
   "source": [
    "import pandas as pd\n",
    "df_testX = pd.DataFrame({'drawing':test_X})\n",
    "df_testX['stroke_number'] = df_testX['drawing'].str.len().astype(int)"
   ]
  },
  {
   "cell_type": "code",
   "execution_count": 176,
   "metadata": {},
   "outputs": [
    {
     "data": {
      "text/plain": [
       "(122777,)"
      ]
     },
     "execution_count": 176,
     "metadata": {},
     "output_type": "execute_result"
    }
   ],
   "source": [
    "stroke_num = df_testX['stroke_number']\n",
    "non_zero_index = np.where(np.array(stroke_num)!=0)\n",
    "non_zero_index[0].shape"
   ]
  },
  {
   "cell_type": "code",
   "execution_count": 177,
   "metadata": {},
   "outputs": [
    {
     "data": {
      "text/plain": [
       "(3872,)"
      ]
     },
     "execution_count": 177,
     "metadata": {},
     "output_type": "execute_result"
    }
   ],
   "source": [
    "zero_index = np.where(np.array(stroke_num)==0)\n",
    "zero_index[0].shape"
   ]
  },
  {
   "cell_type": "code",
   "execution_count": 178,
   "metadata": {},
   "outputs": [],
   "source": [
    "test_Y_filter = np.array(test_Y)[non_zero_index[0]]"
   ]
  },
  {
   "cell_type": "code",
   "execution_count": 179,
   "metadata": {},
   "outputs": [],
   "source": [
    "df_testX['stroke_number'].replace(0, np.nan, inplace=True)\n",
    "df_testX.dropna(subset=['stroke_number'], inplace=True)\n",
    "df_testX = df_testX.reset_index(drop=True)"
   ]
  },
  {
   "cell_type": "code",
   "execution_count": 182,
   "metadata": {},
   "outputs": [],
   "source": [
    "df_testX['stroke_number'] = df_testX['stroke_number'].astype(int)"
   ]
  },
  {
   "cell_type": "code",
   "execution_count": 184,
   "metadata": {},
   "outputs": [],
   "source": [
    "testX_ar = np.array(preprocess(df_testX))"
   ]
  },
  {
   "cell_type": "code",
   "execution_count": 185,
   "metadata": {},
   "outputs": [
    {
     "data": {
      "text/plain": [
       "(122777, 1764)"
      ]
     },
     "execution_count": 185,
     "metadata": {},
     "output_type": "execute_result"
    }
   ],
   "source": [
    "testX_ar.shape"
   ]
  },
  {
   "cell_type": "code",
   "execution_count": 186,
   "metadata": {},
   "outputs": [],
   "source": [
    "# Normalization X values \n",
    "testX = testX_ar[:,0:42*42]\n",
    "testX /= 10000 \n",
    "testX += 1 \n",
    "testX[testX == 1.0] = 0\n",
    "testX = testX_ar.reshape(len(testX),42,42,1)\n",
    "from keras.utils import np_utils\n",
    "testY_label = np_utils.to_categorical(test_Y_filter,5)"
   ]
  },
  {
   "cell_type": "code",
   "execution_count": 189,
   "metadata": {},
   "outputs": [],
   "source": [
    "#Save Data\n",
    "np.save('/home/di0002ya/quickdraw/dsy/testX05.npy', testX)\n",
    "np.save('/home/di0002ya/quickdraw/dsy/testY05_label.npy', testY_label)"
   ]
  },
  {
   "cell_type": "code",
   "execution_count": 190,
   "metadata": {},
   "outputs": [],
   "source": [
    "y_predict = model.predict(testX)"
   ]
  },
  {
   "cell_type": "code",
   "execution_count": 191,
   "metadata": {},
   "outputs": [
    {
     "name": "stdout",
     "output_type": "stream",
     "text": [
      "0.5970173566710377\n"
     ]
    }
   ],
   "source": [
    "from sklearn.metrics import accuracy_score\n",
    "y_predict_label = np.argmax(y_predict,axis = 1)\n",
    "y_test_label = np.argmax(testY_label,axis=1)\n",
    "result = accuracy_score(y_test_label, y_predict_label)\n",
    "print(result)"
   ]
  },
  {
   "cell_type": "markdown",
   "metadata": {},
   "source": [
    "### 7.2: test ratio = 0.7,0.9,1 "
   ]
  },
  {
   "cell_type": "code",
   "execution_count": 193,
   "metadata": {},
   "outputs": [],
   "source": [
    "from keras.utils import np_utils\n",
    "from sklearn.metrics import accuracy_score"
   ]
  },
  {
   "cell_type": "code",
   "execution_count": 196,
   "metadata": {},
   "outputs": [],
   "source": [
    "def compute(ratio,model,name):\n",
    "    #Load Data\n",
    "    _,_,_,_,test_X,test_Y=get_dataset(dataset_path = dataset_path, dataset_name = '1102_05b633244.dms',train_r=1.0,test_r=ratio)\n",
    "    df_testX = pd.DataFrame({'drawing':test_X})\n",
    "    df_testX['stroke_number'] = df_testX['drawing'].str.len().astype(int)    \n",
    "    stroke_num = df_testX['stroke_number']\n",
    "    #Non Zero Filter Out\n",
    "    non_zero_index = np.where(np.array(stroke_num)!=0)\n",
    "    test_Y_filter = np.array(test_Y)[non_zero_index[0]]\n",
    "    df_testX['stroke_number'].replace(0, np.nan, inplace=True)\n",
    "    df_testX.dropna(subset=['stroke_number'], inplace=True)\n",
    "    df_testX = df_testX.reset_index(drop=True)\n",
    "    df_testX['stroke_number'] = df_testX['stroke_number'].astype(int) \n",
    "    #Reshape\n",
    "    testX_ar = np.array(preprocess(df_testX))\n",
    "    testX = testX_ar[:,0:42*42]\n",
    "    #Normalization\n",
    "    testX /= 10000 \n",
    "    testX += 1 \n",
    "    testX[testX == 1.0] = 0\n",
    "    testX = testX_ar.reshape(len(testX),42,42,1)\n",
    "    testY_label = np_utils.to_categorical(test_Y_filter,5)\n",
    "    np.save('/home/di0002ya/quickdraw/dsy/testX'+name+'.npy', testX)\n",
    "    np.save('/home/di0002ya/quickdraw/dsy/testY'+name+'_label.npy', testY_label)\n",
    "    y_predict = model.predict(testX)\n",
    "    y_predict_label = np.argmax(y_predict,axis = 1)\n",
    "    y_test_label = np.argmax(testY_label,axis=1)\n",
    "    result = accuracy_score(y_test_label, y_predict_label)\n",
    "    print(result)"
   ]
  },
  {
   "cell_type": "code",
   "execution_count": 197,
   "metadata": {},
   "outputs": [
    {
     "name": "stdout",
     "output_type": "stream",
     "text": [
      "0.7813515560732059\n"
     ]
    }
   ],
   "source": [
    "compute(0.7,model,'07')"
   ]
  },
  {
   "cell_type": "code",
   "execution_count": 198,
   "metadata": {},
   "outputs": [
    {
     "name": "stdout",
     "output_type": "stream",
     "text": [
      "0.8556651490099937\n"
     ]
    }
   ],
   "source": [
    "compute(0.9,model,'09')"
   ]
  },
  {
   "cell_type": "code",
   "execution_count": 199,
   "metadata": {},
   "outputs": [
    {
     "name": "stdout",
     "output_type": "stream",
     "text": [
      "0.9175832418732086\n"
     ]
    }
   ],
   "source": [
    "compute(1,model,'10')"
   ]
  },
  {
   "cell_type": "code",
   "execution_count": null,
   "metadata": {},
   "outputs": [],
   "source": []
  }
 ],
 "metadata": {
  "kernelspec": {
   "display_name": "quickdraw",
   "language": "python",
   "name": "quickdraw"
  },
  "language_info": {
   "codemirror_mode": {
    "name": "ipython",
    "version": 3
   },
   "file_extension": ".py",
   "mimetype": "text/x-python",
   "name": "python",
   "nbconvert_exporter": "python",
   "pygments_lexer": "ipython3",
   "version": "3.6.7"
  }
 },
 "nbformat": 4,
 "nbformat_minor": 2
}
