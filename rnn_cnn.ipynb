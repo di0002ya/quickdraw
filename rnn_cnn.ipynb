{
  "nbformat": 4,
  "nbformat_minor": 0,
  "metadata": {
    "colab": {
      "name": "rnn_cnn.ipynb",
      "version": "0.3.2",
      "provenance": [],
      "collapsed_sections": [
        "zkaNR3VhBoPw",
        "o02U9T9NDWcE"
      ],
      "toc_visible": true
    },
    "kernelspec": {
      "name": "python3",
      "display_name": "Python 3"
    },
    "accelerator": "GPU"
  },
  "cells": [
    {
      "metadata": {
        "id": "8GrIEHEhAKcZ",
        "colab_type": "text"
      },
      "cell_type": "markdown",
      "source": [
        "Author: Qiu Yang\n",
        "\n",
        "LSTM encoder, CNN decoder\n",
        "\n",
        "**Settings used for current result:**\n",
        "\n",
        "toy dataset, 5000 training , 1000 testing, [X, Y, 0/1], model_1"
      ]
    },
    {
      "metadata": {
        "colab_type": "code",
        "id": "MtsFQfHzulET",
        "colab": {}
      },
      "cell_type": "code",
      "source": [
        "import torch\n",
        "import torch.nn.functional as F\n",
        "import torch.nn as nn\n",
        "import math\n",
        "import time\n",
        "import numpy as np\n",
        "import random\n",
        "import pickle\n",
        "import os.path as path\n",
        "import matplotlib.pyplot as plt\n",
        "from matplotlib.path import Path\n",
        "#import generate_data\n"
      ],
      "execution_count": 0,
      "outputs": []
    },
    {
      "metadata": {
        "colab_type": "code",
        "id": "ZmsvnbXRulEZ",
        "outputId": "2dbbd010-ded2-4cbb-f274-f303fff94853",
        "colab": {
          "base_uri": "https://localhost:8080/",
          "height": 51
        }
      },
      "cell_type": "code",
      "source": [
        "device= torch.device(\"cuda\")\n",
        "#device= torch.device(\"cpu\")\n",
        "print(device)\n",
        "torch.cuda.is_available()"
      ],
      "execution_count": 45,
      "outputs": [
        {
          "output_type": "stream",
          "text": [
            "cuda\n"
          ],
          "name": "stdout"
        },
        {
          "output_type": "execute_result",
          "data": {
            "text/plain": [
              "True"
            ]
          },
          "metadata": {
            "tags": []
          },
          "execution_count": 45
        }
      ]
    },
    {
      "metadata": {
        "id": "suS_js-gABnF",
        "colab_type": "text"
      },
      "cell_type": "markdown",
      "source": [
        "# Datasets"
      ]
    },
    {
      "metadata": {
        "id": "ZqIfo7oPm20Y",
        "colab_type": "text"
      },
      "cell_type": "markdown",
      "source": [
        "**2 class dataset (airplane, aircraft carrier, JP)**"
      ]
    },
    {
      "metadata": {
        "colab_type": "code",
        "id": "jtkWxu9lulEh",
        "outputId": "a7a525bb-2476-4947-bca5-53b94ae5246b",
        "colab": {
          "base_uri": "https://localhost:8080/",
          "height": 51
        }
      },
      "cell_type": "code",
      "source": [
        "data_path  = ''\n",
        "with open(path.join(data_path,'data_X'),'rb') as f:\n",
        "    X=pickle.load(f)\n",
        "    \n",
        "with open(path.join(data_path,'data_Y'),'rb') as f:\n",
        "    Y=pickle.load(f)\n",
        "    \n",
        "len_train_X=int(len(X)*0.8)\n",
        "\n",
        "train_data_raw=np.array(X[:len_train_X])\n",
        "train_label=np.array(Y[:len_train_X])\n",
        "test_data_raw=np.array(X[len_train_X:])\n",
        "test_label=np.array(Y[len_train_X:])\n",
        "\n",
        "\n",
        "print(len(train_data_raw),len(train_label))\n",
        "\n",
        "print(len(test_data_raw),len(test_label))\n"
      ],
      "execution_count": 3,
      "outputs": [
        {
          "output_type": "stream",
          "text": [
            "93301 93301\n",
            "23326 23326\n"
          ],
          "name": "stdout"
        }
      ]
    },
    {
      "metadata": {
        "id": "VbAsJYJynAg8",
        "colab_type": "text"
      },
      "cell_type": "markdown",
      "source": [
        "**4 class dataset (toy dataset)**"
      ]
    },
    {
      "metadata": {
        "id": "Fed10p91nD5Y",
        "colab_type": "code",
        "outputId": "ee3570b7-bcf9-4e86-dcfd-71f9911135ca",
        "colab": {
          "base_uri": "https://localhost:8080/",
          "height": 51
        }
      },
      "cell_type": "code",
      "source": [
        "data_path  = ''\n",
        "with open(path.join(data_path,'train_X'),'rb') as f:\n",
        "    X=pickle.load(f)\n",
        "    \n",
        "with open(path.join(data_path,'train_Y'),'rb') as f:\n",
        "    Y=pickle.load(f)\n",
        "    \n",
        "len_train_X=int(len(X)*0.8)\n",
        "\n",
        "train_data_raw=np.array(X[:len_train_X])\n",
        "train_label=np.array(Y[:len_train_X])\n",
        "test_data_raw=np.array(X[len_train_X:])\n",
        "test_label=np.array(Y[len_train_X:])\n",
        "\n",
        "\n",
        "print(len(train_data_raw),len(train_label))\n",
        "\n",
        "print(len(test_data_raw),len(test_label))"
      ],
      "execution_count": 4,
      "outputs": [
        {
          "output_type": "stream",
          "text": [
            "21406 21406\n",
            "5352 5352\n"
          ],
          "name": "stdout"
        }
      ]
    },
    {
      "metadata": {
        "id": "kQq4PTdismBO",
        "colab_type": "text"
      },
      "cell_type": "markdown",
      "source": [
        "**A random sample**"
      ]
    },
    {
      "metadata": {
        "colab_type": "code",
        "id": "1QvGLEOiulEn",
        "outputId": "f06906e7-b533-4c88-8620-3959a03e2032",
        "scrolled": true,
        "colab": {
          "base_uri": "https://localhost:8080/",
          "height": 347
        }
      },
      "cell_type": "code",
      "source": [
        "sketch = random.choice(train_data_raw)\n",
        "for i in range(len(sketch)):\n",
        "    plt.plot(sketch[i][0][:], sketch[i][1][:])\n",
        "    \n",
        "plt.show()"
      ],
      "execution_count": 5,
      "outputs": [
        {
          "output_type": "display_data",
          "data": {
            "image/png": "[encoded data removed]",
            "text/plain": [
              "<matplotlib.figure.Figure at 0x7f61d820c908>"
            ]
          },
          "metadata": {
            "tags": []
          }
        }
      ]
    },
    {
      "metadata": {
        "id": "FJEk8gg3ASTG",
        "colab_type": "text"
      },
      "cell_type": "markdown",
      "source": [
        "**Sub-sampling(for faster run) and reformat**"
      ]
    },
    {
      "metadata": {
        "colab_type": "code",
        "id": "AsYZrNVwulEt",
        "outputId": "08f03765-b2d0-409e-c8ec-5aad878ce5da",
        "colab": {
          "base_uri": "https://localhost:8080/",
          "height": 139
        }
      },
      "cell_type": "code",
      "source": [
        "#sub sample for experiment\n",
        "train_size=5000\n",
        "test_size=1000\n",
        "\n",
        "train_sample = train_data_raw[0:train_size]\n",
        "train_label_sample = train_label[0:train_size]\n",
        "\n",
        "test_sample = test_data_raw[0:test_size]\n",
        "test_label_sample = test_label[0:test_size]\n",
        "#train_sample = random.sample(list(train_data_raw),train_size)\n",
        "#test_sample = random.sample(list(test_data_raw),test_size)\n",
        "print(len(train_sample))\n",
        "\n",
        "#reformat into [x,y,l]\n",
        "no_point = 0;\n",
        "#ave_stroke_length = 0 \n",
        "\n",
        "def get_max_len(sub_sample):\n",
        "    max_stroke_length = 0\n",
        "    max_point_length = 0\n",
        "    for i in range(len(sub_sample)): #each image\n",
        "        if len(sub_sample[i])> max_stroke_length: \n",
        "            max_stroke_length = len(sub_sample[i])\n",
        "        for j in range(len(sub_sample[i])): #each strokes\n",
        "            if len(sub_sample[i][j][0])> max_point_length:\n",
        "                max_point_length = len(sub_sample[i][j][0])\n",
        "    return max_stroke_length,max_point_length\n",
        "                \n",
        "max_stroke_len,max_point_len = get_max_len(train_sample)    \n",
        "print (max_stroke_len,max_point_len)\n",
        "                \n",
        "def process_data(sub_sample, append):\n",
        "    stroke_data = []\n",
        "    point_data = []\n",
        "    for i in range(len(sub_sample)): #image\n",
        "        for j in range(len(sub_sample[i])): #strokes\n",
        "            for k in range(len(sub_sample[i][j][0])): #points\n",
        "                if append:\n",
        "                    if k == len(sub_sample[i][j][0])-1:\n",
        "                        temp2 = [sub_sample[i][j][0][k],sub_sample[i][j][1][k],1]\n",
        "                    else:\n",
        "                        temp2 = [sub_sample[i][j][0][k],sub_sample[i][j][1][k],0]\n",
        "                    point_data.append(temp2)\n",
        "                else:\n",
        "                    temp = [sub_sample[i][j][0][k],sub_sample[i][j][1][k]]\n",
        "                    point_data.append(temp)\n",
        "        stroke_data.append(point_data)\n",
        "        point_data = []\n",
        "            \n",
        "    return stroke_data   \n",
        "\n",
        "train_data = process_data(train_sample, 1)\n",
        "test_data = process_data(test_sample, 1)\n",
        "\n",
        "\n",
        "print (len(train_data))\n",
        "print (len(test_data))\n",
        "\n",
        "#print(no_point)\n",
        "#train_data = train_data.view()\n",
        "\n",
        "print(train_data_raw[0])\n",
        "print(train_data[0])\n"
      ],
      "execution_count": 36,
      "outputs": [
        {
          "output_type": "stream",
          "text": [
            "5000\n",
            "59 533\n",
            "5000\n",
            "1000\n",
            "[[[90, 92, 101, 115, 126, 129, 130, 126, 119], [62, 88, 139, 183, 206, 202, 176, 113, 66]], [[36, 18, 1, 9, 32, 48], [64, 110, 187, 180, 134, 82]], [[35, 30, 34, 42, 49, 60, 72, 78, 91, 96], [138, 147, 171, 183, 187, 188, 181, 174, 148, 128]], [[25, 26, 22, 5, 5, 26, 18, 21, 50, 66, 86, 98, 105, 102], [149, 214, 225, 234, 239, 240, 252, 254, 255, 247, 221, 181, 144, 140]], [[105, 109, 104, 92, 72, 32, 18, 0, 24, 34, 39, 38], [64, 25, 14, 4, 0, 11, 20, 25, 28, 34, 47, 64]], [[61, 61], [20, 20]]]\n",
            "[[90, 62, 0], [92, 88, 0], [101, 139, 0], [115, 183, 0], [126, 206, 0], [129, 202, 0], [130, 176, 0], [126, 113, 0], [119, 66, 1], [36, 64, 0], [18, 110, 0], [1, 187, 0], [9, 180, 0], [32, 134, 0], [48, 82, 1], [35, 138, 0], [30, 147, 0], [34, 171, 0], [42, 183, 0], [49, 187, 0], [60, 188, 0], [72, 181, 0], [78, 174, 0], [91, 148, 0], [96, 128, 1], [25, 149, 0], [26, 214, 0], [22, 225, 0], [5, 234, 0], [5, 239, 0], [26, 240, 0], [18, 252, 0], [21, 254, 0], [50, 255, 0], [66, 247, 0], [86, 221, 0], [98, 181, 0], [105, 144, 0], [102, 140, 1], [105, 64, 0], [109, 25, 0], [104, 14, 0], [92, 4, 0], [72, 0, 0], [32, 11, 0], [18, 20, 0], [0, 25, 0], [24, 28, 0], [34, 34, 0], [39, 47, 0], [38, 64, 1], [61, 20, 0], [61, 20, 1]]\n"
          ],
          "name": "stdout"
        }
      ]
    },
    {
      "metadata": {
        "colab_type": "code",
        "id": "6t9V5ZoNWOZd",
        "outputId": "9cc10402-6821-43af-9ef1-651722aa7506",
        "colab": {
          "base_uri": "https://localhost:8080/",
          "height": 34
        }
      },
      "cell_type": "code",
      "source": [
        "#string to int label\n",
        "label_set = set(train_label_sample)\n",
        "label_list = list(label_set)\n",
        "train_label_tensor = []\n",
        "for i in range(len(train_label_sample)):\n",
        "    train_label_tensor.append(label_list.index(train_label_sample[i]))\n",
        "test_label_set = set(test_label)\n",
        "test_label_list = list(test_label_set)\n",
        "test_label_tensor = []\n",
        "for i in range(len(test_label_sample)):\n",
        "    test_label_tensor.append(test_label_list.index(test_label_sample[i]))  \n",
        "print (len(train_label_tensor),train_label_tensor[0],len(test_label_tensor))"
      ],
      "execution_count": 37,
      "outputs": [
        {
          "output_type": "stream",
          "text": [
            "5000 3 1000\n"
          ],
          "name": "stdout"
        }
      ]
    },
    {
      "metadata": {
        "id": "nwdeNv6U_L-H",
        "colab_type": "code",
        "outputId": "caf4d7f3-993c-4df5-800a-9d689d55585c",
        "colab": {
          "base_uri": "https://localhost:8080/",
          "height": 51
        }
      },
      "cell_type": "code",
      "source": [
        "#append labels to match no.points\n",
        "total_train_label = []\n",
        "total_test_label = []\n",
        "\n",
        "for i in range(len(train_data)):\n",
        "    for j in range(len(train_data[i])):\n",
        "        total_train_label.append(train_label_tensor[i])\n",
        "        \n",
        "for i in range(len(test_data)):\n",
        "    for j in range(len(test_data[i])):\n",
        "        total_test_label.append(test_label_tensor[i])\n",
        "        \n",
        "print(len(total_train_label),total_train_label[0])\n",
        "print(len(total_test_label))"
      ],
      "execution_count": 38,
      "outputs": [
        {
          "output_type": "stream",
          "text": [
            "330386 3\n",
            "64036\n"
          ],
          "name": "stdout"
        }
      ]
    },
    {
      "metadata": {
        "id": "3CvVRG6i_L-L",
        "colab_type": "code",
        "outputId": "d92db69d-ac26-40de-fbed-7073baaee98c",
        "colab": {
          "base_uri": "https://localhost:8080/",
          "height": 51
        }
      },
      "cell_type": "code",
      "source": [
        "#a list of all points\n",
        "train_data_points =[]\n",
        "test_data_points = []\n",
        "\n",
        "for i in range(len(train_data)):\n",
        "    train_data_points.extend(train_data[i])\n",
        "    \n",
        "for i in range(len(test_data)):\n",
        "    test_data_points.extend(test_data[i])\n",
        "    \n",
        "print (len(train_data_points),train_data_points[0])\n",
        "print (len(test_data_points))"
      ],
      "execution_count": 39,
      "outputs": [
        {
          "output_type": "stream",
          "text": [
            "330386 [90, 62, 0]\n",
            "64036\n"
          ],
          "name": "stdout"
        }
      ]
    },
    {
      "metadata": {
        "id": "t5AZJyDtA7UZ",
        "colab_type": "text"
      },
      "cell_type": "markdown",
      "source": [
        "# Model"
      ]
    },
    {
      "metadata": {
        "colab_type": "code",
        "id": "-on5907pulEw",
        "outputId": "171b68d2-9c1b-4151-ec70-0a052081cf25",
        "colab": {
          "base_uri": "https://localhost:8080/",
          "height": 34
        }
      },
      "cell_type": "code",
      "source": [
        "#parameters\n",
        "#train\n",
        "bs = 50\n",
        "lr = 12\n",
        "Epoch = 12\n",
        "#lstm\n",
        "input_size = 3\n",
        "hidden_size = 300\n",
        "feature_size = 64\n",
        "seq_len = 1#max_stroke_length\n",
        "#cnn\n",
        "channels = 1 #h_seq, h_final, c_final\n",
        "kernels = 50\n",
        "kernel_size = 5\n",
        "pool_size = 2\n",
        "size_after_pool = int(bs*seq_len*hidden_size*channels*kernels/(pool_size*pool_size))\n",
        "output_size = 4\n",
        "temp_size = 10000\n",
        "\n",
        "print(size_after_pool)"
      ],
      "execution_count": 40,
      "outputs": [
        {
          "output_type": "stream",
          "text": [
            "187500\n"
          ],
          "name": "stdout"
        }
      ]
    },
    {
      "metadata": {
        "id": "hP03VKgjX7d5",
        "colab_type": "text"
      },
      "cell_type": "markdown",
      "source": [
        "** Model_1: one score for each point**"
      ]
    },
    {
      "metadata": {
        "colab_type": "code",
        "id": "4nOUBWUOulEz",
        "colab": {}
      },
      "cell_type": "code",
      "source": [
        "class lstm_cnn (nn.Module):\n",
        "\n",
        "    def __init__(self):\n",
        "        super(lstm_cnn, self).__init__()\n",
        "        \n",
        "        self.lstm = nn.LSTM(input_size, hidden_size, batch_first=True)\n",
        "\n",
        "        self.conv = nn.Conv2d(channels, kernels, kernel_size = kernel_size, padding = 1)\n",
        "        self.pool = nn.MaxPool2d(pool_size, pool_size)\n",
        "        #self.linear1 = nn.Linear(2500 , 2000)\n",
        "        self.linear2 = nn.Linear(2700, 100)\n",
        "        self.output = nn.Linear(100, output_size) \n",
        "\n",
        "        \n",
        "    def forward(self, point_seq, h_init, c_init ):\n",
        "        score_seq = torch.LongTensor([0])\n",
        "        h_seq , (h_final,c_final)  =   self.lstm( point_seq , (h_init,c_init) )\n",
        "        h_seq_shaped = h_seq.view(1,1,-1,hidden_size)\n",
        "        #print('shape',h_seq_shaped.shape)\n",
        "        for i in range(h_seq_shaped.shape[2]):\n",
        "            temp = h_seq_shaped[:,:,i,:]\n",
        "            temp = temp.reshape(1,1,20,15)\n",
        "            temp = self.conv(temp)\n",
        "            temp = F.relu(temp)\n",
        "            temp = self.pool(temp)\n",
        "\n",
        "            temp_size = torch.numel(temp)\n",
        "            temp = temp.reshape(-1,temp_size)\n",
        "            #temp = self.linear1(temp)\n",
        "            #temp = F.relu(temp)\n",
        "\n",
        "            temp = self.linear2(temp)\n",
        "            temp = F.relu(temp)\n",
        "            score = self.output(temp)\n",
        "            \n",
        "            if i== 0:\n",
        "                score_seq = score\n",
        "                #print(score_seq.shape, score_seq)\n",
        "            else:\n",
        "                score_seq = torch.cat((score_seq, score),0)\n",
        "            #print('score_seq shape', score_seq.shape)\n",
        "        return score_seq"
      ],
      "execution_count": 0,
      "outputs": []
    },
    {
      "metadata": {
        "id": "qAwd4QPWbj50",
        "colab_type": "text"
      },
      "cell_type": "markdown",
      "source": [
        "**(WIP)  Model_2: one score fore each stroke**"
      ]
    },
    {
      "metadata": {
        "id": "oHA03dprbkEv",
        "colab_type": "code",
        "colab": {}
      },
      "cell_type": "code",
      "source": [
        "class lstm_cnn (nn.Module):\n",
        "\n",
        "    def __init__(self):\n",
        "        super(lstm_cnn, self).__init__()\n",
        "        \n",
        "        self.lstm = nn.LSTM(input_size, hidden_size, batch_first=True)\n",
        "\n",
        "        self.conv = nn.Conv2d(channels, kernels, kernel_size = kernel_size, padding = 1)\n",
        "        self.pool = nn.MaxPool2d(pool_size, pool_size)\n",
        "        #self.linear1 = nn.Linear(2500 , 2000)\n",
        "        self.linear2 = nn.Linear(1800, 100)\n",
        "        self.output = nn.Linear(100, output_size) \n",
        "\n",
        "        \n",
        "    def forward(self, input_data, h_init, c_init ):\n",
        "        score_seq = torch.LongTensor([0])\n",
        "        h_seq , (h_final,c_final)  =   self.lstm( input_data , (h_init,c_init) )\n",
        "        #h_seq_shaped = h_seq.view(bs,channels,-1,hidden_size)\n",
        "        print('shape',h_seq.shape,'final',h_final.shape)\n",
        "        temp = h_seq_shaped[:,:,i,:]\n",
        "        temp = temp.reshape(1,1,20,10)\n",
        "        temp = self.conv(temp)\n",
        "        temp = F.relu(temp)\n",
        "        temp = self.pool(temp)\n",
        "\n",
        "        temp_size = torch.numel(temp)\n",
        "        temp = temp.reshape(-1,temp_size)\n",
        "        #temp = self.linear1(temp)\n",
        "        #temp = F.relu(temp)\n",
        "\n",
        "        temp = self.linear2(temp)\n",
        "        temp = F.relu(temp)\n",
        "        score = self.output(temp)\n",
        "\n",
        "        if i== 0:\n",
        "            score_seq = score\n",
        "            #print(score_seq.shape, score_seq)\n",
        "        else:\n",
        "            score_seq = torch.cat((score_seq, score),0)\n",
        "        #print('score_seq shape', score_seq.shape)\n",
        "        return score_seq"
      ],
      "execution_count": 0,
      "outputs": []
    },
    {
      "metadata": {
        "id": "3rxaHZ9fhNZw",
        "colab_type": "text"
      },
      "cell_type": "markdown",
      "source": [
        "**Build the net**"
      ]
    },
    {
      "metadata": {
        "colab_type": "code",
        "id": "Jio9zcAJulE1",
        "outputId": "5b327d65-64f8-4b3b-94da-d58f89094866",
        "colab": {
          "base_uri": "https://localhost:8080/",
          "height": 153
        }
      },
      "cell_type": "code",
      "source": [
        "def display_num_param(net):\n",
        "    nb_param = 0\n",
        "    for param in net.parameters():\n",
        "        nb_param += param.numel()\n",
        "    print('There are {} ({:.2f} million) parameters in this neural network'.format(\n",
        "        nb_param, nb_param/1e6)\n",
        "         )\n",
        "\n",
        "net = lstm_cnn()\n",
        "\n",
        "print(net)\n",
        "\n",
        "display_num_param(net)"
      ],
      "execution_count": 30,
      "outputs": [
        {
          "output_type": "stream",
          "text": [
            "lstm_cnn(\n",
            "  (lstm): LSTM(3, 300, batch_first=True)\n",
            "  (conv): Conv2d(1, 50, kernel_size=(5, 5), stride=(1, 1), padding=(1, 1))\n",
            "  (pool): MaxPool2d(kernel_size=2, stride=2, padding=0, dilation=1, ceil_mode=False)\n",
            "  (linear2): Linear(in_features=2700, out_features=100, bias=True)\n",
            "  (output): Linear(in_features=100, out_features=4, bias=True)\n",
            ")\n",
            "There are 637804 (0.64 million) parameters in this neural network\n"
          ],
          "name": "stdout"
        }
      ]
    },
    {
      "metadata": {
        "colab_type": "code",
        "id": "Lt68k2gSulE5",
        "outputId": "234f2f3a-fe75-4f88-a5bf-3d9c6d008e31",
        "scrolled": false,
        "colab": {
          "base_uri": "https://localhost:8080/",
          "height": 901
        }
      },
      "cell_type": "code",
      "source": [
        "net = net.to(device)\n",
        "\n",
        "#net.linear.weight.data.uniform_(-0.1, 0.1)\n",
        "#net.linear1.weight.data.uniform_(-0.1, 0.1)\n",
        "net.linear2.weight.data.uniform_(-0.1, 0.1)\n",
        "net.output.weight.data.uniform_(-0.1, 0.1)"
      ],
      "execution_count": 31,
      "outputs": [
        {
          "output_type": "execute_result",
          "data": {
            "text/plain": [
              "tensor([[ 0.0353, -0.0470, -0.0785,  0.0473, -0.0040,  0.0640,  0.0076, -0.0365,\n",
              "          0.0429,  0.0730,  0.0597,  0.0151, -0.0443,  0.0789,  0.0249,  0.0795,\n",
              "          0.0330,  0.0012,  0.0249, -0.0459, -0.0376, -0.0431, -0.0623,  0.0117,\n",
              "          0.0431, -0.0301,  0.0732, -0.0116, -0.0264,  0.0811,  0.0859,  0.0032,\n",
              "         -0.0932, -0.0891, -0.0448,  0.0915, -0.0935, -0.0764,  0.0032,  0.0841,\n",
              "         -0.0569,  0.0660, -0.0243,  0.0237,  0.0513,  0.0632,  0.0810, -0.0894,\n",
              "         -0.0856, -0.0665,  0.0193, -0.0638, -0.0359, -0.0533, -0.0244,  0.0364,\n",
              "         -0.0641, -0.0658, -0.0245,  0.0349, -0.0492, -0.0542,  0.0700,  0.0056,\n",
              "         -0.0478, -0.0275,  0.0596, -0.0773,  0.0886,  0.0449,  0.0631, -0.0349,\n",
              "         -0.0760, -0.0831,  0.0001, -0.0336, -0.0146,  0.0447,  0.0302,  0.0961,\n",
              "          0.0772,  0.0544,  0.0640,  0.0644, -0.0059, -0.0494, -0.0705, -0.0722,\n",
              "          0.0990,  0.0851, -0.0642,  0.0249, -0.0971, -0.0014,  0.0792, -0.0372,\n",
              "         -0.0558,  0.0056, -0.0886, -0.0775],\n",
              "        [-0.0217,  0.0633,  0.0212,  0.0756, -0.0347,  0.0787, -0.0164, -0.0652,\n",
              "         -0.0131,  0.0372, -0.0562,  0.0435, -0.0075, -0.0876, -0.0686, -0.0339,\n",
              "          0.0348,  0.0279, -0.0775, -0.0284,  0.0852, -0.0753, -0.0654,  0.0649,\n",
              "          0.0269,  0.0441, -0.0272,  0.0972, -0.0688, -0.0793,  0.0096,  0.0935,\n",
              "         -0.0260, -0.0582, -0.0300, -0.0933,  0.0696, -0.0853, -0.0658,  0.0909,\n",
              "         -0.0994,  0.0018, -0.0159,  0.0796, -0.0909,  0.0408, -0.0338, -0.0093,\n",
              "         -0.0126, -0.0591, -0.0352, -0.0652, -0.0546,  0.0282, -0.0874, -0.0566,\n",
              "         -0.0688,  0.0301,  0.0908,  0.0273, -0.0418, -0.0705,  0.0441,  0.0190,\n",
              "          0.0755, -0.0280,  0.0922, -0.0072,  0.0124, -0.0390, -0.0967,  0.0522,\n",
              "         -0.0522, -0.0505, -0.0362,  0.0964,  0.0084,  0.0394, -0.0444,  0.0094,\n",
              "         -0.0357,  0.0327,  0.0566,  0.0670, -0.0491,  0.0512, -0.0132,  0.0394,\n",
              "         -0.0077,  0.0229, -0.0523,  0.0209, -0.0892, -0.0228, -0.0012,  0.0382,\n",
              "          0.0269,  0.0161, -0.0662,  0.0379],\n",
              "        [-0.0078, -0.0693, -0.0121,  0.0765, -0.0671, -0.0035, -0.0772,  0.0578,\n",
              "         -0.0009, -0.0857,  0.0273,  0.0517,  0.0921, -0.0586, -0.0860, -0.0036,\n",
              "         -0.0885,  0.0689,  0.0482,  0.0563, -0.0703, -0.0004, -0.0694,  0.0801,\n",
              "         -0.0153,  0.0475,  0.0477, -0.0386,  0.0832, -0.0693,  0.0974, -0.0264,\n",
              "         -0.0169,  0.0492, -0.0386,  0.0599, -0.0279,  0.0274, -0.0163,  0.0597,\n",
              "         -0.0764,  0.0005, -0.0978,  0.0515,  0.0647,  0.0577,  0.0833, -0.0727,\n",
              "         -0.0418,  0.0009, -0.0625,  0.0561,  0.0708, -0.0413, -0.0961, -0.0522,\n",
              "         -0.0450, -0.0797, -0.0659,  0.0059, -0.0714,  0.0506, -0.0130, -0.0902,\n",
              "         -0.0521,  0.0139, -0.0635, -0.0229, -0.0293,  0.0812,  0.0883, -0.0624,\n",
              "          0.0217, -0.0160,  0.0233, -0.0364,  0.0786,  0.0142, -0.0402, -0.0154,\n",
              "          0.0546,  0.0617, -0.0102, -0.0688,  0.0530,  0.0252, -0.0874,  0.0948,\n",
              "         -0.0877,  0.0868, -0.0701,  0.0867, -0.0858, -0.0356,  0.0920, -0.0557,\n",
              "         -0.0256,  0.0386, -0.0657,  0.0121],\n",
              "        [-0.0857, -0.0506,  0.0164, -0.0848, -0.0594, -0.0231,  0.0687,  0.0023,\n",
              "         -0.0648, -0.0381,  0.0041,  0.0463, -0.0796, -0.0716,  0.0772,  0.0593,\n",
              "         -0.0079, -0.0857, -0.0212,  0.0296,  0.0253, -0.0318, -0.0312,  0.0841,\n",
              "          0.0923,  0.0253, -0.0159,  0.0822,  0.0613, -0.0498, -0.0245,  0.0908,\n",
              "          0.0976, -0.0342,  0.0326,  0.0946,  0.0674, -0.0092,  0.0609, -0.0428,\n",
              "         -0.0634,  0.0783,  0.0089, -0.0475,  0.0305, -0.0721, -0.0390, -0.0417,\n",
              "          0.0846,  0.0750,  0.0391, -0.0735, -0.0719,  0.0329,  0.0794,  0.0865,\n",
              "         -0.0505, -0.0829,  0.0421, -0.0185, -0.0472, -0.0093,  0.0414, -0.0775,\n",
              "         -0.0051,  0.0165,  0.0016, -0.0986,  0.0324,  0.0794,  0.0913,  0.0722,\n",
              "          0.0237,  0.0701,  0.0808,  0.0026,  0.0472,  0.0795,  0.0693, -0.0744,\n",
              "          0.0040, -0.0787, -0.0951,  0.0951,  0.0266,  0.0961,  0.0719, -0.0580,\n",
              "          0.0415, -0.0430, -0.0889,  0.0887, -0.0618,  0.0105,  0.0929, -0.0140,\n",
              "          0.0547, -0.0620, -0.0272,  0.0823]], device='cuda:0')"
            ]
          },
          "metadata": {
            "tags": []
          },
          "execution_count": 31
        }
      ]
    },
    {
      "metadata": {
        "id": "zQkjsvH7BRuB",
        "colab_type": "text"
      },
      "cell_type": "markdown",
      "source": [
        "**Loss function**"
      ]
    },
    {
      "metadata": {
        "colab_type": "code",
        "id": "q6WAiVnzulE7",
        "colab": {}
      },
      "cell_type": "code",
      "source": [
        "criterion = nn.CrossEntropyLoss()\n"
      ],
      "execution_count": 0,
      "outputs": []
    },
    {
      "metadata": {
        "id": "TqN5BDW-BWb5",
        "colab_type": "text"
      },
      "cell_type": "markdown",
      "source": [
        "# Training and evaluation"
      ]
    },
    {
      "metadata": {
        "colab_type": "code",
        "id": "-ytfpXc5ulE9",
        "colab": {}
      },
      "cell_type": "code",
      "source": [
        "def eval_on_test_set():\n",
        "\n",
        "    running_loss=0\n",
        "    num_batches=0    \n",
        "    \n",
        "    correct = 0\n",
        "    \n",
        "    correct_0 = 0\n",
        "    correct_1 = 0\n",
        "    correct_2 = 0\n",
        "    correct_3 = 0\n",
        "    \n",
        "    h = torch.zeros(1, 1, hidden_size)\n",
        "    c = torch.zeros(1, 1, hidden_size)\n",
        "   \n",
        "    h=h.to(device)\n",
        "    c=c.to(device)\n",
        "       \n",
        "    for count in range( len(test_data)) :\n",
        "               \n",
        "        minibatch_data =  test_data[ count  ]\n",
        "        minibatch_data = torch.Tensor(minibatch_data).view(1,-1,3)\n",
        "\n",
        "        minibatch_label = []\n",
        "        for i in range(minibatch_data.shape[1]):\n",
        "            minibatch_label.append(test_label_tensor[ count ])\n",
        "        \n",
        "        #minibatch_label = test_label_tensor[ count  ]\n",
        "        minibatch_label = torch.LongTensor([minibatch_label]).view(-1)\n",
        "        \n",
        "        minibatch_data=minibatch_data.to(device)\n",
        "        minibatch_label=minibatch_label.to(device)\n",
        "                                  \n",
        "        scores = net( minibatch_data, h , c)\n",
        "        \n",
        "        #minibatch_label =   minibatch_label.view(  bs*seq_len ) \n",
        "        #scores          =            scores.view(  bs*seq_len )\n",
        "        \n",
        "        loss = criterion(  scores ,  minibatch_label )    \n",
        "        \n",
        "        h=h.detach()\n",
        "        c=c.detach()\n",
        "            \n",
        "        running_loss += loss.item()\n",
        "        num_batches += 1        \n",
        "        \n",
        "        scores = F.relu(scores)\n",
        "        total_score = torch.sum(scores,0)   \n",
        "        _, predicted = torch.max(total_score,0)\n",
        "        #total += minibatch_label.size(0)\n",
        "        if predicted == minibatch_label[0]:\n",
        "            correct+=1\n",
        "            if predicted == 0:\n",
        "                correct_0+=1\n",
        "            elif predicted == 1:\n",
        "                correct_1+=1\n",
        "            elif predicted == 2:\n",
        "                correct_2+=1                \n",
        "            elif predicted == 3:\n",
        "                correct_3+=1        \n",
        "        #print([predicted, minibatch_label[0], minibatch_label])\n",
        "    \n",
        "    total_loss = running_loss/num_batches \n",
        "    print('test: exp(loss) = ', math.exp(total_loss)  )\n",
        "    print ('correct', correct, 'correcr_0', correct_0,'correct_1',correct_1,'correcr_2', correct_2,'correct_3',correct_3)\n",
        "    print ('Test accuracy:{}%'.format(100 * correct / len(test_data)))"
      ],
      "execution_count": 0,
      "outputs": []
    },
    {
      "metadata": {
        "id": "e3zJC8lnLDwi",
        "colab_type": "text"
      },
      "cell_type": "markdown",
      "source": [
        "**Training by batch of image (not exactly by batch, append in 1 row to avoid uneven tensor shape. )**"
      ]
    },
    {
      "metadata": {
        "id": "l5kaU45LK_pk",
        "colab_type": "code",
        "outputId": "0d9c8362-dd32-40e9-9625-74fd80d2524d",
        "colab": {
          "base_uri": "https://localhost:8080/",
          "height": 1241
        }
      },
      "cell_type": "code",
      "source": [
        "# change bs above\n",
        "\n",
        "start=time.time()\n",
        "\n",
        "for epoch in range(Epoch):\n",
        "    \n",
        "    # divide the learning rate by 3 except after the first epoch\n",
        "    #if epoch >= 4:\n",
        "    #    lr = lr / 1.25\n",
        "    #else:\n",
        "    #    lr = lr / 2\n",
        "    # create a new optimizer at the beginning of each epoch: give the current learning rate.   \n",
        "    optimizer=torch.optim.Adam( net.parameters())# , lr=lr )\n",
        "        \n",
        "    # set the running quatities to zero at the beginning of the epoch\n",
        "    running_loss=0\n",
        "    num_batches=0    \n",
        "       \n",
        "    # set the initial h and c to be the zero vector\n",
        "    h = torch.zeros( 1, 1, hidden_size)\n",
        "    c = torch.zeros( 1, 1, hidden_size)\n",
        "\n",
        "    # send them to the gpu    \n",
        "    h=h.to(device)\n",
        "    c=c.to(device)\n",
        "    \n",
        "    for count in range(0,len(train_data),bs):\n",
        "        \n",
        "        # Set the gradients to zeros\n",
        "        optimizer.zero_grad()\n",
        "        \n",
        "        # create a minibatch\n",
        "        #minibatch_data = train_data_points[count:count+bs]\n",
        "        \n",
        "        minibatch_data_bs =  train_data[ count:count+bs]\n",
        "        \n",
        "        minibatch_data = []\n",
        "        for i in range(len(minibatch_data_bs)):\n",
        "            for j in range (len(minibatch_data_bs[i])):\n",
        "                minibatch_data.append(minibatch_data_bs[i][j])  \n",
        "        \n",
        "        #print (len(minibatch_data))\n",
        "        \n",
        "        minibatch_data = torch.Tensor(minibatch_data).view(1,-1,3)\n",
        "        \n",
        "        #print(minibatch_data.shape)\n",
        "        #minibatch_data=minibatch_label.view(1,1,-1,200)\n",
        "        #minibatch_label = train_label_tensor[ count ]\n",
        "        #minibatch_label = total_train_label[count:count+bs]\n",
        "        minibatch_label = []\n",
        "        for k in range(len(minibatch_data_bs)):\n",
        "            for l in range(len(minibatch_data_bs[k])):\n",
        "                minibatch_label.append(train_label_tensor[ count+k ])\n",
        "        \n",
        "        #print (minibatch_label)\n",
        "        \n",
        "        #minibatch_label=torch.LongTensor(minibatch_label)\n",
        "        minibatch_label = torch.LongTensor([minibatch_label]).view(-1)\n",
        "\n",
        "        #print (minibatch_label.shape)\n",
        "        # send them to the gpu\n",
        "        minibatch_data=minibatch_data.to(device)\n",
        "        minibatch_label=minibatch_label.to(device)\n",
        "        \n",
        "        #print ('label shape',minibatch_label.shape)\n",
        "        \n",
        "        # Detach to prevent from backpropagating all the way to the beginning\n",
        "        # Then tell Pytorch to start tracking all operations that will be done on h and c\n",
        "        h=h.detach()\n",
        "        c=c.detach()\n",
        "        h=h.requires_grad_()\n",
        "        c=c.requires_grad_()\n",
        "                       \n",
        "        # forward the minibatch through the net        \n",
        "        scores = net( minibatch_data, h , c )\n",
        "        \n",
        "        #print (scores[0])\n",
        "        \n",
        "        # reshape the scores and labels to huge batch of size bs*seq_length\n",
        "        #scores          =            scores.view(  bs*seq_len )  \n",
        "        #minibatch_label =   minibatch_label.view(  bs*seq_len )    \n",
        "        \n",
        "        # Compute the average of the losses of the data points in this huge batch\n",
        "        loss = criterion(  scores ,  minibatch_label )\n",
        "        \n",
        "        # backward pass to compute dL/dR, dL/dV and dL/dW\n",
        "        loss.backward()\n",
        "\n",
        "       \n",
        "        optimizer.step()\n",
        "        \n",
        "            \n",
        "        # update the running loss  \n",
        "        running_loss += loss.item()\n",
        "        num_batches += 1\n",
        "        \n",
        "        \n",
        "        \n",
        "    # compute stats for the full training set\n",
        "    total_loss = running_loss/num_batches\n",
        "    elapsed = time.time()-start\n",
        "    \n",
        "    print('')\n",
        "    print('epoch=',epoch, '\\t time=', elapsed, '\\t exp(loss)=',  math.exp(total_loss))\n",
        "    for param_group in optimizer.param_groups:\n",
        "        print('lr= ',param_group['lr'])\n",
        "        \n",
        "    eval_on_test_set()\n"
      ],
      "execution_count": 44,
      "outputs": [
        {
          "output_type": "stream",
          "text": [
            "\n",
            "epoch= 0 \t time= 979.8805589675903 \t exp(loss)= 2.439884681668551\n",
            "lr=  0.001\n",
            "test: exp(loss) =  2.457905613544755\n",
            "correct 778 correcr_0 308 correct_1 120 correcr_2 103 correct_3 247\n",
            "Test accuracy:77.8%\n",
            "\n",
            "epoch= 1 \t time= 2044.5767273902893 \t exp(loss)= 2.317037843841241\n",
            "lr=  0.001\n",
            "test: exp(loss) =  2.3779727881721735\n",
            "correct 786 correcr_0 321 correct_1 115 correcr_2 114 correct_3 236\n",
            "Test accuracy:78.6%\n",
            "\n",
            "epoch= 2 \t time= 3103.958749771118 \t exp(loss)= 2.2290939398683784\n",
            "lr=  0.001\n",
            "test: exp(loss) =  2.1797200017752725\n",
            "correct 830 correcr_0 329 correct_1 125 correcr_2 104 correct_3 272\n",
            "Test accuracy:83.0%\n",
            "\n",
            "epoch= 3 \t time= 4157.154712200165 \t exp(loss)= 2.1520667437623873\n",
            "lr=  0.001\n",
            "test: exp(loss) =  2.164291319625073\n",
            "correct 828 correcr_0 325 correct_1 122 correcr_2 110 correct_3 271\n",
            "Test accuracy:82.8%\n",
            "\n",
            "epoch= 4 \t time= 5215.088087797165 \t exp(loss)= 2.0861007336657127\n",
            "lr=  0.001\n",
            "test: exp(loss) =  2.100139221686308\n",
            "correct 842 correcr_0 333 correct_1 133 correcr_2 109 correct_3 267\n",
            "Test accuracy:84.2%\n",
            "\n",
            "epoch= 5 \t time= 6273.7917993068695 \t exp(loss)= 2.022342481019676\n",
            "lr=  0.001\n",
            "test: exp(loss) =  2.077327099389848\n",
            "correct 847 correcr_0 339 correct_1 138 correcr_2 105 correct_3 265\n",
            "Test accuracy:84.7%\n",
            "\n",
            "epoch= 6 \t time= 7336.215461969376 \t exp(loss)= 1.9605609624202642\n",
            "lr=  0.001\n",
            "test: exp(loss) =  2.062638126267677\n",
            "correct 841 correcr_0 334 correct_1 139 correcr_2 108 correct_3 260\n",
            "Test accuracy:84.1%\n",
            "\n",
            "epoch= 7 \t time= 8391.522764921188 \t exp(loss)= 1.9146456551782145\n",
            "lr=  0.001\n",
            "test: exp(loss) =  2.0219480932644824\n",
            "correct 856 correcr_0 335 correct_1 135 correcr_2 107 correct_3 279\n",
            "Test accuracy:85.6%\n",
            "\n",
            "epoch= 8 \t time= 9449.62838935852 \t exp(loss)= 1.884453345351005\n",
            "lr=  0.001\n",
            "test: exp(loss) =  1.9981070776873822\n",
            "correct 869 correcr_0 325 correct_1 137 correcr_2 110 correct_3 297\n",
            "Test accuracy:86.9%\n",
            "\n",
            "epoch= 9 \t time= 10509.151239156723 \t exp(loss)= 1.8513275423807514\n",
            "lr=  0.001\n",
            "test: exp(loss) =  1.9723622010257191\n",
            "correct 875 correcr_0 337 correct_1 128 correcr_2 112 correct_3 298\n",
            "Test accuracy:87.5%\n",
            "\n",
            "epoch= 10 \t time= 11580.743819236755 \t exp(loss)= 1.7773310594614717\n",
            "lr=  0.001\n",
            "test: exp(loss) =  1.9959762410048183\n",
            "correct 868 correcr_0 330 correct_1 129 correcr_2 114 correct_3 295\n",
            "Test accuracy:86.8%\n",
            "\n",
            "epoch= 11 \t time= 12640.373938083649 \t exp(loss)= 1.7554225361921991\n",
            "lr=  0.001\n",
            "test: exp(loss) =  1.9498210771890343\n",
            "correct 871 correcr_0 336 correct_1 124 correcr_2 112 correct_3 299\n",
            "Test accuracy:87.1%\n"
          ],
          "name": "stdout"
        }
      ]
    },
    {
      "metadata": {
        "id": "zkaNR3VhBoPw",
        "colab_type": "text"
      },
      "cell_type": "markdown",
      "source": [
        "# Testing"
      ]
    },
    {
      "metadata": {
        "id": "WrJBuDPgmcm5",
        "colab_type": "code",
        "colab": {}
      },
      "cell_type": "code",
      "source": [
        "test = torch.randn(2,2)\n",
        "print(test.data)\n",
        "test = F.relu(test)\n",
        "print(test)\n",
        "total =torch.sum(test, 0)\n",
        "\n",
        "print (total)\n"
      ],
      "execution_count": 0,
      "outputs": []
    },
    {
      "metadata": {
        "colab_type": "code",
        "id": "iUSEHM3XVMOH",
        "colab": {}
      },
      "cell_type": "code",
      "source": [
        "print (train_label_tensor[:100])"
      ],
      "execution_count": 0,
      "outputs": []
    },
    {
      "metadata": {
        "colab_type": "code",
        "id": "fgeN558vulFD",
        "colab": {}
      },
      "cell_type": "code",
      "source": [
        "filename = 'short_kanji.npz'\n",
        "load_data = np.load(filename,encoding = 'latin1')\n",
        "train_set = load_data['train']\n",
        "valid_set = load_data['valid']\n",
        "test_set = load_data['test']\n",
        "print(type(train_set))\n",
        "print(train_set.dtype)\n",
        "print(train_set.shape)\n",
        "print(random.choice(train_set))"
      ],
      "execution_count": 0,
      "outputs": []
    },
    {
      "metadata": {
        "id": "o02U9T9NDWcE",
        "colab_type": "text"
      },
      "cell_type": "markdown",
      "source": [
        "# Histories"
      ]
    },
    {
      "metadata": {
        "id": "5ImFwAMNKpFc",
        "colab_type": "text"
      },
      "cell_type": "markdown",
      "source": [
        " **(56.76 with 2 class dataset) Training by single image**"
      ]
    },
    {
      "metadata": {
        "colab_type": "code",
        "id": "ApWfPoXvulE_",
        "colab": {}
      },
      "cell_type": "code",
      "source": [
        "start=time.time()\n",
        "\n",
        "for epoch in range(Epoch):\n",
        "    \n",
        "    # divide the learning rate by 3 except after the first epoch\n",
        "    if epoch >= 2:\n",
        "        lr = lr / 3\n",
        "    \n",
        "    # create a new optimizer at the beginning of each epoch: give the current learning rate.   \n",
        "    optimizer=torch.optim.SGD( net.parameters() , lr=lr )\n",
        "        \n",
        "    # set the running quatities to zero at the beginning of the epoch\n",
        "    running_loss=0\n",
        "    num_batches=0    \n",
        "       \n",
        "    # set the initial h and c to be the zero vector\n",
        "    h = torch.zeros( 1, bs, hidden_size)\n",
        "    c = torch.zeros( 1, bs, hidden_size)\n",
        "\n",
        "    # send them to the gpu    \n",
        "    h=h.to(device)\n",
        "    c=c.to(device)\n",
        "    \n",
        "    for count in range( len(train_data)):\n",
        "        \n",
        "        # Set the gradients to zeros\n",
        "        optimizer.zero_grad()\n",
        "        \n",
        "        # create a minibatch\n",
        "        minibatch_data =  train_data[ count]\n",
        "        \n",
        "        \n",
        "        minibatch_data = torch.Tensor(minibatch_data).view(1,-1,2)\n",
        "        \n",
        "        #print(minibatch_data.shape)\n",
        "        #minibatch_data=minibatch_label.view(1,1,-1,200)\n",
        "        #minibatch_label = train_label_tensor[ count ]\n",
        "        minibatch_label = []\n",
        "        for i in range(minibatch_data.shape[1]):\n",
        "            minibatch_label.append(train_label_tensor[ count ])\n",
        "        \n",
        "        #print (minibatch_label)\n",
        "        \n",
        "        #minibatch_label=torch.LongTensor(minibatch_label)\n",
        "        minibatch_label = torch.LongTensor([minibatch_label]).view(-1)\n",
        "\n",
        "        #print (minibatch_label)\n",
        "        # send them to the gpu\n",
        "        minibatch_data=minibatch_data.to(device)\n",
        "        minibatch_label=minibatch_label.to(device)\n",
        "        \n",
        "        #print ('label shape',minibatch_label.shape)\n",
        "        \n",
        "        # Detach to prevent from backpropagating all the way to the beginning\n",
        "        # Then tell Pytorch to start tracking all operations that will be done on h and c\n",
        "        h=h.detach()\n",
        "        c=c.detach()\n",
        "        h=h.requires_grad_()\n",
        "        c=c.requires_grad_()\n",
        "                       \n",
        "        # forward the minibatch through the net        \n",
        "        scores = net( minibatch_data, h , c )\n",
        "        \n",
        "        #print (scores[0])\n",
        "        \n",
        "        # reshape the scores and labels to huge batch of size bs*seq_length\n",
        "        #scores          =            scores.view(  bs*seq_len )  \n",
        "        #minibatch_label =   minibatch_label.view(  bs*seq_len )    \n",
        "        \n",
        "        # Compute the average of the losses of the data points in this huge batch\n",
        "        loss = criterion(  scores ,  minibatch_label )\n",
        "        \n",
        "        # backward pass to compute dL/dR, dL/dV and dL/dW\n",
        "        loss.backward()\n",
        "\n",
        "       \n",
        "        optimizer.step()\n",
        "        \n",
        "            \n",
        "        # update the running loss  \n",
        "        running_loss += loss.item()\n",
        "        num_batches += 1\n",
        "        \n",
        "        \n",
        "        \n",
        "    # compute stats for the full training set\n",
        "    total_loss = running_loss/num_batches\n",
        "    elapsed = time.time()-start\n",
        "    \n",
        "    print('')\n",
        "    print('epoch=',epoch, '\\t time=', elapsed,'\\t lr=', lr, '\\t exp(loss)=',  math.exp(total_loss))\n",
        "    \n",
        "    eval_on_test_set()\n"
      ],
      "execution_count": 0,
      "outputs": []
    }
  ]
}