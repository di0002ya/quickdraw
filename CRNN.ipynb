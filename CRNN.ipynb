{
 "cells": [
  {
   "cell_type": "markdown",
   "metadata": {},
   "source": [
    "Author: Liu Chang\n",
    "\n",
    "Description: \n",
    "\n",
    "This notebook will demonstrate CNN+RNN hybrid model performance \n",
    "\n",
    "Date:\n",
    "Week 9"
   ]
  },
  {
   "cell_type": "code",
   "execution_count": 1,
   "metadata": {
    "colab": {
     "base_uri": "https://localhost:8080/",
     "height": 34
    },
    "colab_type": "code",
    "id": "OaE0W1YXWdPI",
    "outputId": "c60f7bce-ca0c-4553-e6fb-44463608a4e2"
   },
   "outputs": [],
   "source": [
    "import os.path as path\n",
    "import pickle\n",
    "import torch\n",
    "from torch import nn\n",
    "import os\n",
    "os.environ[\"CUDA_VISIBLE_DEVICES\"] = \"3\"\n",
    "\n",
    "data_path='/raid5/liuchang/quick_draw_output'\n",
    "\n",
    "with open(path.join(data_path, 'train_X'), 'rb') as f:\n",
    "    train_X = pickle.load(f)\n",
    "\n",
    "with open(path.join(data_path, 'train_Y'), 'rb') as f:\n",
    "    train_Y = pickle.load(f)\n",
    "\n",
    "with open(path.join(data_path, 'test_X'), 'rb') as f:\n",
    "    test_X = pickle.load(f)\n",
    "with open(path.join(data_path, 'test_Y'), 'rb') as f:\n",
    "    test_Y = pickle.load(f)"
   ]
  },
  {
   "cell_type": "code",
   "execution_count": 2,
   "metadata": {
    "colab": {
     "base_uri": "https://localhost:8080/",
     "height": 70
    },
    "colab_type": "code",
    "id": "JvBU0yFJuNj1",
    "outputId": "74547f75-83a9-4e50-a240-b55d4475ad81"
   },
   "outputs": [
    {
     "name": "stdout",
     "output_type": "stream",
     "text": [
      "4\n"
     ]
    }
   ],
   "source": [
    "labels_count=len(set(test_Y))\n",
    "print(labels_count)"
   ]
  },
  {
   "cell_type": "code",
   "execution_count": 3,
   "metadata": {
    "colab": {},
    "colab_type": "code",
    "id": "5fnH02c-2YR8"
   },
   "outputs": [
    {
     "name": "stdout",
     "output_type": "stream",
     "text": [
      "59 542\n"
     ]
    }
   ],
   "source": [
    "def unpack(x,max_strock,max_len):\n",
    "    x_new=torch.zeros(torch.Size([len(x),max_strock,3,max_len]))\n",
    "    for i,item in enumerate(x):\n",
    "        for j,strock in enumerate(item):\n",
    "            #print(strock)\n",
    "            \n",
    "            #print(len(strock[0]))\n",
    "            strock=torch.Tensor(strock)\n",
    "            #print(x_new[i,j,0,:len(strock[0])].shape)\n",
    "            #print(strock[0].shape)\n",
    "            x_new[i,j,0,:len(strock[0])]=strock[0]\n",
    "            x_new[i,j,1,:len(strock[0])]=strock[1]\n",
    "        x_new[i,0,2,0]=len(item)\n",
    "    return x_new\n",
    "\n",
    "def get_max_len(x,xx):\n",
    "    max_len=0\n",
    "    max_strock=0\n",
    "    for i,item in enumerate(x):\n",
    "        max_strock=max(max_strock,len(item))\n",
    "        #print(max_strock)\n",
    "        for j,strock in enumerate(item):\n",
    "            max_len=max(max_len,len(strock[0])) \n",
    "    for i,item in enumerate(xx):\n",
    "        max_strock=max(max_strock,len(item))\n",
    "        #print(max_strock)\n",
    "        for j,strock in enumerate(item):\n",
    "            max_len=max(max_len,len(strock[0])) \n",
    "    return max_strock,max_len\n",
    "\n",
    "max_strock,max_len=get_max_len(train_X,test_X)\n",
    "print(max_strock,max_len)\n",
    "train_X=unpack(train_X,max_strock,max_len)\n",
    "test_X=unpack(test_X,max_strock,max_len)"
   ]
  },
  {
   "cell_type": "code",
   "execution_count": null,
   "metadata": {},
   "outputs": [],
   "source": []
  },
  {
   "cell_type": "code",
   "execution_count": 4,
   "metadata": {},
   "outputs": [],
   "source": [
    "def get_acc(test_X,test_Y):\n",
    "    cur_len=0\n",
    "    acc=0\n",
    "    while cur_len<test_X.shape[0]:\n",
    "        model.zero_grad()\n",
    "        minibatch_X=test_X[cur_len:cur_len+batch_size].cuda()\n",
    "        #print(minibatch_X.shape)\n",
    "        minibatch_Y=test_Y[cur_len:cur_len+batch_size].cuda()\n",
    "        y_predict=model(minibatch_X)\n",
    "        #print(y_predict)\n",
    "        y_predict=torch.argmax(y_predict,dim=1)\n",
    "        #print(y_predict.shape)\n",
    "        cur_len+=batch_size\n",
    "        acc+=(y_predict==minibatch_Y).sum().item()\n",
    "    return acc/cur_len"
   ]
  },
  {
   "cell_type": "code",
   "execution_count": 5,
   "metadata": {
    "colab": {},
    "colab_type": "code",
    "id": "5vSbqojtvBOQ"
   },
   "outputs": [],
   "source": [
    "class CNN(nn.Module):\n",
    "    def __init__(self,output_size):\n",
    "        super(CNN, self).__init__()\n",
    "        self.conv1 = nn.Sequential(\n",
    "            nn.Conv1d(\n",
    "                in_channels=3,      # input height\n",
    "                out_channels=6,    # n_filters\n",
    "                kernel_size=3      # filter size\n",
    "            ),\n",
    "            nn.ReLU(),    # activation\n",
    "            nn.MaxPool1d(kernel_size=2)\n",
    "        )\n",
    "        self.conv2 = nn.Sequential(\n",
    "             nn.Conv1d(6,32, 20),\n",
    "             nn.ReLU(),  # activation\n",
    "             nn.MaxPool1d(kernel_size=10)\n",
    "         )\n",
    "        self.out = nn.Linear(800, output_size)\n",
    "        #self.out2 = nn.Linear(3*(max_len), output_size)\n",
    "\n",
    "    def forward(self, x):\n",
    "        x = self.conv1(x)\n",
    "        x = self.conv2(x)\n",
    "        #x=self.conv3(x)\n",
    "        x = x.view(x.size(0), -1)\n",
    "        #print(x.shape)\n",
    "        output = self.out(x)\n",
    "        #output=self.out2(x)\n",
    "        return output\n",
    "    \n",
    "class CRNN(nn.Module):\n",
    "    def __init__(self):\n",
    "        super(CRNN, self).__init__()\n",
    "        self.middle_size=middle_size=40\n",
    "        self.gru=nn.GRU(input_size=middle_size,hidden_size=5,num_layers=2,bias=False)\n",
    "        # self.gru=nn.GRU(input_size=3,hidden_size=5,num_layers=1,bias=True)\n",
    "        self.cnn=CNN(output_size=middle_size)\n",
    "        self.out=nn.Softmax(dim=-1)\n",
    "    def forward(self, x):\n",
    "        x=x.view(-1,3,max_len)\n",
    "        \n",
    "        #print(x.shape)\n",
    "        xx = self.cnn(x)\n",
    "        xx=xx.view(-1,max_strock,self.middle_size).transpose(0,1)\n",
    "        output,_ = self.gru(xx)\n",
    "        #print(output.shape)\n",
    "        to_send=torch.Tensor(torch.Size([xx.shape[1],5])).cuda()\n",
    "        for i in range(xx.shape[1]):\n",
    "            to_send[i]=output[int(x[i*max_strock,2,0])-1,i]\n",
    "        output = self.out(to_send)\n",
    "        return output"
   ]
  },
  {
   "cell_type": "code",
   "execution_count": null,
   "metadata": {},
   "outputs": [
    {
     "name": "stdout",
     "output_type": "stream",
     "text": [
      "EPOCH 0/256, loss=162.04698705673218,acc=0.34736689814814814\n",
      "EPOCH 5/256, loss=145.22923457622528,acc=0.7037037037037037\n",
      "EPOCH 10/256, loss=139.502117395401,acc=0.7259837962962963\n",
      "EPOCH 15/256, loss=138.01459872722626,acc=0.7563657407407407\n",
      "EPOCH 20/256, loss=138.31257164478302,acc=0.7160011574074074\n",
      "EPOCH 25/256, loss=136.60594165325165,acc=0.7877604166666666\n",
      "EPOCH 30/256, loss=137.85991168022156,acc=0.7896412037037037\n",
      "EPOCH 35/256, loss=135.61309587955475,acc=0.7954282407407407\n",
      "EPOCH 40/256, loss=134.78832042217255,acc=0.8171296296296297\n",
      "EPOCH 45/256, loss=134.12455427646637,acc=0.8198784722222222\n"
     ]
    }
   ],
   "source": [
    "import torch.optim as optim\n",
    "\n",
    "model=CRNN().cuda()\n",
    "batch_size=256\n",
    "loss=torch.nn.CrossEntropyLoss()\n",
    "optimizer = optim.Adam(model.parameters())\n",
    "EPOCH=256\n",
    "train_Y=torch.LongTensor(train_Y)\n",
    "test_Y=torch.LongTensor(test_Y)\n",
    "for i in range(EPOCH):\n",
    "    total_loss=0\n",
    "    cur_len=0\n",
    "    while cur_len<train_X.shape[0]:\n",
    "        model.zero_grad()\n",
    "        minibatch_X=train_X[cur_len:cur_len+batch_size].cuda()\n",
    "        #print(minibatch_X.shape)\n",
    "        minibatch_Y=train_Y[cur_len:cur_len+batch_size].cuda()\n",
    "        y_predict=model(minibatch_X)\n",
    "        \n",
    "        #print(y_predict.shape,minibatch_Y.shape)\n",
    "        #print(loss,y_predict,minibatch_Y)\n",
    "        output_loss=loss(y_predict,minibatch_Y)\n",
    "        output_loss.backward()\n",
    "        optimizer.step()\n",
    "        cur_len+=batch_size\n",
    "        total_loss+=output_loss.item()\n",
    "        #print(\"Processing: {}/{}, loss={}\".format(cur_len,train_X.shape[0],output_loss.item()))\n",
    "    if i%5==0:\n",
    "        print(\"EPOCH {}/{}, loss={},acc={}\".format(i,EPOCH,total_loss,get_acc(test_X,test_Y)))"
   ]
  },
  {
   "cell_type": "code",
   "execution_count": null,
   "metadata": {},
   "outputs": [],
   "source": [
    "get_acc(test_X,test_Y)"
   ]
  },
  {
   "cell_type": "code",
   "execution_count": null,
   "metadata": {},
   "outputs": [],
   "source": []
  }
 ],
 "metadata": {
  "accelerator": "GPU",
  "colab": {
   "name": "CRNN.ipynb",
   "provenance": [],
   "toc_visible": true,
   "version": "0.3.2"
  },
  "kernelspec": {
   "display_name": "Python 3",
   "language": "python",
   "name": "python3"
  },
  "language_info": {
   "codemirror_mode": {
    "name": "ipython",
    "version": 3
   },
   "file_extension": ".py",
   "mimetype": "text/x-python",
   "name": "python",
   "nbconvert_exporter": "python",
   "pygments_lexer": "ipython3",
   "version": "3.6.5"
  }
 },
 "nbformat": 4,
 "nbformat_minor": 1
}
