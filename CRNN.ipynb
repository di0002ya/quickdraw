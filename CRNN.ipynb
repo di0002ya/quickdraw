{
 "cells": [
  {
   "cell_type": "markdown",
   "metadata": {},
   "source": [
    "Author: Liu Chang\n",
    "\n",
    "Description: \n",
    "\n",
    "This notebook will demonstrate CNN+RNN hybrid model performance \n",
    "\n",
    "Date:\n",
    "Week 9"
   ]
  },
  {
   "cell_type": "code",
   "execution_count": 1,
   "metadata": {
    "colab": {
     "base_uri": "https://localhost:8080/",
     "height": 34
    },
    "colab_type": "code",
    "id": "OaE0W1YXWdPI",
    "outputId": "c60f7bce-ca0c-4553-e6fb-44463608a4e2"
   },
   "outputs": [
    {
     "name": "stdout",
     "output_type": "stream",
     "text": [
      "4572\n"
     ]
    }
   ],
   "source": [
    "import os.path as path\n",
    "import pickle\n",
    "import torch\n",
    "from torch import nn\n",
    "\n",
    "data_path='data/'\n",
    "\n",
    "with open(path.join(data_path,'data_X'),'rb') as f:\n",
    "    X=pickle.load(f)\n",
    "\n",
    "with open(path.join(data_path,'data_Y_int'),'rb') as f:\n",
    "    Y=pickle.load(f)\n",
    "\n",
    "len_train_X=int(len(X)*0.8)\n",
    "\n",
    "print(len(X))\n",
    "import numpy as np\n",
    "train_X=np.array(X[:len_train_X])\n",
    "train_Y=np.array(Y[:len_train_X])\n",
    "test_X=np.array(X[len_train_X:])\n",
    "test_Y=np.array(Y[len_train_X:])"
   ]
  },
  {
   "cell_type": "code",
   "execution_count": 2,
   "metadata": {
    "colab": {
     "base_uri": "https://localhost:8080/",
     "height": 70
    },
    "colab_type": "code",
    "id": "JvBU0yFJuNj1",
    "outputId": "74547f75-83a9-4e50-a240-b55d4475ad81"
   },
   "outputs": [
    {
     "name": "stdout",
     "output_type": "stream",
     "text": [
      "5\n"
     ]
    }
   ],
   "source": [
    "labels_count=len(set(test_Y))\n",
    "print(labels_count)"
   ]
  },
  {
   "cell_type": "code",
   "execution_count": 3,
   "metadata": {
    "colab": {},
    "colab_type": "code",
    "id": "5fnH02c-2YR8"
   },
   "outputs": [
    {
     "name": "stdout",
     "output_type": "stream",
     "text": [
      "47 123\n"
     ]
    }
   ],
   "source": [
    "def unpack(x,max_strock,max_len):\n",
    "    x_new=torch.zeros(torch.Size([x.shape[0],max_strock,3,max_len]))\n",
    "    for i,item in enumerate(x):\n",
    "        for j,strock in enumerate(item):\n",
    "            #print(strock)\n",
    "            \n",
    "            #print(len(strock[0]))\n",
    "            strock=torch.Tensor(strock)\n",
    "            #print(x_new[i,j,0,:len(strock[0])].shape)\n",
    "            #print(strock[0].shape)\n",
    "            x_new[i,j,0,:len(strock[0])]=strock[0]\n",
    "            x_new[i,j,1,:len(strock[0])]=strock[1]\n",
    "            x_new[i,j,2,:len(strock[0])]=0\n",
    "            x_new[i,j,2,len(strock[0])-1]=1\n",
    "    return x_new\n",
    "\n",
    "def get_max_len(x):\n",
    "    max_len=0\n",
    "    max_strock=0\n",
    "    for i,item in enumerate(x):\n",
    "        max_strock=max(max_strock,len(item))\n",
    "        #print(max_strock)\n",
    "        for j,strock in enumerate(item):\n",
    "            max_len=max(max_len,len(strock[0])) \n",
    "    return max_strock,max_len\n",
    "\n",
    "max_strock,max_len=get_max_len(X)\n",
    "print(max_strock,max_len)\n",
    "train_X=unpack(train_X,max_strock,max_len)\n",
    "test_X=unpack(test_X,max_strock,max_len)"
   ]
  },
  {
   "cell_type": "code",
   "execution_count": 4,
   "metadata": {},
   "outputs": [
    {
     "name": "stdout",
     "output_type": "stream",
     "text": [
      "torch.Size([3657, 47, 3, 123])\n"
     ]
    }
   ],
   "source": [
    "print(train_X.shape)"
   ]
  },
  {
   "cell_type": "code",
   "execution_count": 5,
   "metadata": {},
   "outputs": [],
   "source": [
    "def eval_on_test_set(test_data,test_label,num_layers,bs,hidden_size,net,criterion):\n",
    "    \n",
    "    running_loss=0\n",
    "    num_batches=0  \n",
    "    \n",
    "    correct = 0\n",
    "    total = 0\n",
    "       \n",
    "    # set the initial h and c to be the zero vector\n",
    "\n",
    "    # send them to the gpu    \n",
    "    # h=h.to(device)\n",
    "    # c=c.to(device) len(test_X)\n",
    "    \n",
    "    for count in range( 100) :\n",
    "               \n",
    "        minibatch_data =  test_data[ count ] # bs*seq_len*2\n",
    "        minibatch_data = torch.Tensor(minibatch_data)\n",
    "        minibatch_label = test_label[ count]    \n",
    "        minibatch_label = torch.Tensor([minibatch_label.item()])\n",
    "        \n",
    "        # minibatch_data=minibatch_data.to(device)\n",
    "        # minibatch_label=minibatch_label.to(device)\n",
    "                                  \n",
    "        scores  = net( minibatch_data)\n",
    "         \n",
    "        \n",
    "        loss = criterion(  scores ,  minibatch_label )    \n",
    "            \n",
    "        running_loss += loss.item()\n",
    "        num_batches += 1        \n",
    "        \n",
    "        _, predicted = torch.max(scores.data, 1)\n",
    "        total += minibatch_label.size(0)\n",
    "        correct += (predicted == minibatch_label).sum().item()\n",
    "    \n",
    "    total_loss = running_loss/num_batches \n",
    "    print('test: exp(loss) = ', math.exp(total_loss)  )\n",
    "    print ('Test accuracy:{}%'.format(100 * correct / total))"
   ]
  },
  {
   "cell_type": "code",
   "execution_count": 6,
   "metadata": {
    "colab": {},
    "colab_type": "code",
    "id": "5vSbqojtvBOQ"
   },
   "outputs": [],
   "source": [
    "class CNN(nn.Module):\n",
    "    def __init__(self,output_size):\n",
    "        super(CNN, self).__init__()\n",
    "        # self.conv1 = nn.Sequential(\n",
    "        #     nn.Conv1d(\n",
    "        #         in_channels=3,      # input height\n",
    "        #         out_channels=6,    # n_filters\n",
    "        #         kernel_size=2      # filter size\n",
    "        #     ),\n",
    "        #     nn.ReLU(),    # activation\n",
    "        # )\n",
    "        # self.conv2 = nn.Sequential(\n",
    "        #     nn.Conv1d(6,9, 4),\n",
    "        #     nn.ReLU(),  # activation\n",
    "        # )\n",
    "        self.conv3 = nn.Sequential(\n",
    "            nn.Conv1d(3,32,20),\n",
    "            nn.ReLU(),  # activation\n",
    "        )\n",
    "        self.out = nn.Linear(12 * (max_len-(2+4+6-3)), output_size)\n",
    "        self.out2 = nn.Linear(3*(max_len), output_size)\n",
    "\n",
    "    def forward(self, x):\n",
    "        # x = self.conv1(x)\n",
    "        # x = self.conv2(x)\n",
    "        # x=self.conv3(x)\n",
    "        x = x.view(x.size(0), -1)\n",
    "        #print(x.shape)\n",
    "        # output = self.out(x)\n",
    "        output=self.out2(x)\n",
    "        return output\n",
    "    \n",
    "class CRNN(nn.Module):\n",
    "    def __init__(self):\n",
    "        super(CRNN, self).__init__()\n",
    "        self.middle_size=middle_size=30\n",
    "        self.gru=nn.GRU(input_size=middle_size,hidden_size=5,num_layers=1,bias=False)\n",
    "        # self.gru=nn.GRU(input_size=3,hidden_size=5,num_layers=1,bias=True)\n",
    "        self.cnn=CNN(output_size=middle_size)\n",
    "        self.out=nn.Softmax(dim=-1)\n",
    "    def forward(self, x):\n",
    "        x=x.view(-1,3,max_len)\n",
    "        \n",
    "        #print(x.shape)\n",
    "        x = self.cnn(x)\n",
    "        x=x.view(-1,max_strock,self.middle_size).transpose(0,1)\n",
    "        output,_ = self.gru(x)\n",
    "        #print(output.shape)\n",
    "        output = self.out(output[-1])\n",
    "        return output"
   ]
  },
  {
   "cell_type": "code",
   "execution_count": 7,
   "metadata": {},
   "outputs": [],
   "source": [
    "# x_rand=torch.randn(torch.Size([13,max_strock,3,max_len]))\n",
    "# print(x_rand.shape)\n",
    "#model=CRNN()\n",
    "# print(\"---\")\n",
    "# y_rand=model(x_rand)[-1]\n",
    "# print(y_rand.shape)"
   ]
  },
  {
   "cell_type": "code",
   "execution_count": 30,
   "metadata": {},
   "outputs": [
    {
     "name": "stdout",
     "output_type": "stream",
     "text": [
      "EPOCH 0/256, loss=46.62959015369415\n",
      "EPOCH 20/256, loss=45.74260628223419\n",
      "EPOCH 40/256, loss=45.073907136917114\n",
      "EPOCH 60/256, loss=44.46343731880188\n",
      "EPOCH 80/256, loss=44.193055629730225\n",
      "EPOCH 100/256, loss=43.77127933502197\n",
      "EPOCH 120/256, loss=43.28636872768402\n",
      "EPOCH 140/256, loss=43.11358892917633\n",
      "EPOCH 160/256, loss=42.850329756736755\n",
      "EPOCH 180/256, loss=42.8080815076828\n",
      "EPOCH 200/256, loss=42.78309988975525\n",
      "EPOCH 220/256, loss=42.63023924827576\n",
      "EPOCH 240/256, loss=42.86384308338165\n"
     ]
    }
   ],
   "source": [
    "import torch.optim as optim\n",
    "\n",
    "model=CRNN().cuda()\n",
    "batch_size=128\n",
    "loss=torch.nn.CrossEntropyLoss()\n",
    "optimizer = optim.Adam(model.parameters())\n",
    "EPOCH=256\n",
    "train_Y=torch.LongTensor(train_Y)\n",
    "test_Y=torch.LongTensor(test_Y)\n",
    "for i in range(EPOCH):\n",
    "    total_loss=0\n",
    "    cur_len=0\n",
    "    while cur_len<train_X.shape[0]:\n",
    "        model.zero_grad()\n",
    "        minibatch_X=train_X[cur_len:cur_len+batch_size].cuda()\n",
    "        #print(minibatch_X.shape)\n",
    "        minibatch_Y=train_Y[cur_len:cur_len+batch_size].cuda()\n",
    "        y_predict=model(minibatch_X)\n",
    "        #print(y_predict.shape)\n",
    "        #print(y_predict.shape,minibatch_Y.shape)\n",
    "        #print(loss,y_predict,minibatch_Y)\n",
    "        output_loss=loss(y_predict,minibatch_Y)\n",
    "        output_loss.backward()\n",
    "        optimizer.step()\n",
    "        cur_len+=batch_size\n",
    "        total_loss+=output_loss.item()\n",
    "        #print(\"Processing: {}/{}, loss={}\".format(cur_len,train_X.shape[0],output_loss.item()))\n",
    "    if i%20==0:\n",
    "        print(\"EPOCH {}/{}, loss={}\".format(i,EPOCH,total_loss))"
   ]
  },
  {
   "cell_type": "code",
   "execution_count": 32,
   "metadata": {},
   "outputs": [
    {
     "name": "stdout",
     "output_type": "stream",
     "text": [
      "Accuracy on test set: 0.4033203125\n"
     ]
    }
   ],
   "source": [
    "cur_len=0\n",
    "acc=0\n",
    "while cur_len<test_X.shape[0]:\n",
    "    model.zero_grad()\n",
    "    minibatch_X=test_X[cur_len:cur_len+batch_size].cuda()\n",
    "    #print(minibatch_X.shape)\n",
    "    minibatch_Y=test_Y[cur_len:cur_len+batch_size].cuda()\n",
    "    y_predict=model(minibatch_X)\n",
    "    y_predict=torch.argmax(y_predict,dim=1)\n",
    "    #print(y_predict.shape)\n",
    "    cur_len+=batch_size\n",
    "    acc+=(y_predict==minibatch_Y).sum().item()\n",
    "print(\"Accuracy on test set: {}\".format(acc/cur_len))\n",
    "    #print(\"Processing: {}/{}, loss={}\".format(cur_len,train_X.shape[0],output_loss.item()))"
   ]
  },
  {
   "cell_type": "code",
   "execution_count": null,
   "metadata": {},
   "outputs": [],
   "source": []
  }
 ],
 "metadata": {
  "accelerator": "GPU",
  "colab": {
   "name": "CRNN.ipynb",
   "provenance": [],
   "toc_visible": true,
   "version": "0.3.2"
  },
  "kernelspec": {
   "display_name": "Python 3",
   "language": "python",
   "name": "python3"
  },
  "language_info": {
   "codemirror_mode": {
    "name": "ipython",
    "version": 3
   },
   "file_extension": ".py",
   "mimetype": "text/x-python",
   "name": "python",
   "nbconvert_exporter": "python",
   "pygments_lexer": "ipython3",
   "version": "3.6.5"
  }
 },
 "nbformat": 4,
 "nbformat_minor": 1
}
