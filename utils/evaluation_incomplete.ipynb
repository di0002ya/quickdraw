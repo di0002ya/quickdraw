{
 "cells": [
  {
   "cell_type": "markdown",
   "metadata": {},
   "source": [
    "# Evaluate Model Performance on incomplete Stroke Dataset"
   ]
  },
  {
   "cell_type": "code",
   "execution_count": 9,
   "metadata": {},
   "outputs": [],
   "source": [
    "from read_data import get_dataset\n",
    "import torch\n",
    "from torch import nn"
   ]
  },
  {
   "cell_type": "markdown",
   "metadata": {},
   "source": [
    "Put your batch preprocessing function and model definition below"
   ]
  },
  {
   "cell_type": "code",
   "execution_count": 7,
   "metadata": {},
   "outputs": [],
   "source": [
    "def unpack(x,max_strock,max_len):\n",
    "    x_new=torch.zeros(torch.Size([len(x),max_strock,3,max_len]))\n",
    "    for i,item in enumerate(x):\n",
    "        for j,strock in enumerate(item):\n",
    "            #print(strock)\n",
    "            \n",
    "            #print(len(strock[0]))\n",
    "            strock=torch.Tensor(strock)\n",
    "            #print(x_new[i,j,0,:len(strock[0])].shape)\n",
    "            #print(strock[0].shape)\n",
    "            x_new[i,j,0,:len(strock[0])]=strock[0]\n",
    "            x_new[i,j,1,:len(strock[0])]=strock[1]\n",
    "        x_new[i,0,2,0]=len(item)\n",
    "    return x_new\n",
    "max_strock,max_len=30,200\n",
    "\n",
    "class CNN(nn.Module):\n",
    "    def __init__(self,output_size):\n",
    "        super(CNN, self).__init__()\n",
    "        self.conv1 = nn.Sequential(\n",
    "            nn.Conv1d(\n",
    "                in_channels=3,      # input height\n",
    "                out_channels=6,    # n_filters\n",
    "                kernel_size=3      # filter size\n",
    "            ),\n",
    "            nn.ReLU(),    # activation\n",
    "            nn.MaxPool1d(kernel_size=2)\n",
    "        )\n",
    "        self.conv2 = nn.Sequential(\n",
    "             nn.Conv1d(6,3, 3),\n",
    "             nn.ReLU(),  # activation\n",
    "             nn.MaxPool1d(kernel_size=2)\n",
    "         )\n",
    "        self.out = nn.Linear(144, output_size)\n",
    "        #self.out2 = nn.Linear(3*(max_len), output_size)\n",
    "\n",
    "    def forward(self, x):\n",
    "        x = self.conv1(x)\n",
    "        x = self.conv2(x)\n",
    "        #x=self.conv3(x)\n",
    "        x = x.view(x.size(0), -1)\n",
    "        #print(x.shape)\n",
    "        output = self.out(x)\n",
    "        #output=self.out2(x)\n",
    "        return output\n",
    "    \n",
    "class CRNN(nn.Module):\n",
    "    def __init__(self):\n",
    "        super(CRNN, self).__init__()\n",
    "        self.middle_size=middle_size=40\n",
    "        self.gru=nn.GRU(input_size=middle_size,hidden_size=5,num_layers=2,bias=False)\n",
    "        # self.gru=nn.GRU(input_size=3,hidden_size=5,num_layers=1,bias=True)\n",
    "        self.cnn=CNN(output_size=middle_size)\n",
    "        self.out=nn.Softmax(dim=-1)\n",
    "    def forward(self, x):\n",
    "        x=x.view(-1,3,max_len)\n",
    "        \n",
    "        #print(x.shape)\n",
    "        xx = self.cnn(x)\n",
    "        xx=xx.view(-1,max_strock,self.middle_size).transpose(0,1)\n",
    "        output,_ = self.gru(xx)\n",
    "        #print(output.shape)\n",
    "        to_send=torch.Tensor(torch.Size([xx.shape[1],5])).cuda()\n",
    "        for i in range(xx.shape[1]):\n",
    "            to_send[i]=output[int(x[i*max_strock,2,0])-1,i]\n",
    "        output = self.out(to_send)\n",
    "        return output"
   ]
  },
  {
   "cell_type": "code",
   "execution_count": 3,
   "metadata": {},
   "outputs": [],
   "source": [
    "model_name='CRNN_91.9_2C1D1R.pkl'\n",
    "model=torch.load(model_name)"
   ]
  },
  {
   "cell_type": "markdown",
   "metadata": {},
   "source": [
    "Function for calculating accuracy score.\n",
    "\n",
    "Before use this function, change the batch preprocessing method"
   ]
  },
  {
   "cell_type": "code",
   "execution_count": 4,
   "metadata": {},
   "outputs": [],
   "source": [
    "def get_acc(model,test_X,test_Y):\n",
    "    cur_len=0\n",
    "    acc=0\n",
    "    batch_size=512\n",
    "    while cur_len<len(test_X):\n",
    "        model.zero_grad()\n",
    "        minibatch_X=test_X[cur_len:cur_len+batch_size]\n",
    "        #Minibatch preprocessing method here\n",
    "        minibatch_X=unpack(minibatch_X,max_strock,max_len).cuda()\n",
    "        #---------------\n",
    "        minibatch_Y=test_Y[cur_len:cur_len+batch_size]\n",
    "        minibatch_Y=torch.LongTensor(minibatch_Y).cuda()\n",
    "        y_predict=model(minibatch_X)\n",
    "        y_predict=torch.argmax(y_predict,dim=1)\n",
    "        cur_len+=batch_size\n",
    "        acc+=(y_predict==minibatch_Y).sum().item()\n",
    "    return acc/cur_len"
   ]
  },
  {
   "cell_type": "code",
   "execution_count": 8,
   "metadata": {},
   "outputs": [
    {
     "name": "stderr",
     "output_type": "stream",
     "text": [
      "/raid5/liuchang/miniconda3/lib/python3.6/site-packages/ipykernel_launcher.py:45: UserWarning: RNN module weights are not part of single contiguous chunk of memory. This means they need to be compacted at every call, possibly greatly increasing memory usage. To compact weights again call flatten_parameters().\n"
     ]
    },
    {
     "name": "stdout",
     "output_type": "stream",
     "text": [
      "0.5,0.7632387222782258\n",
      "0.7,0.8202731224798387\n",
      "0.9,0.8589654737903226\n",
      "1,0.9177718623991935\n"
     ]
    }
   ],
   "source": [
    "def incomplete_test(model,r):\n",
    "    _,_,test_X,testY=get_dataset(dataset_name='1102_05b633244',test_r=r)\n",
    "    print(\"{},{}\".format(r,get_acc(model,test_X,testY)))\n",
    "for r in [0.5,0.7,0.9,1]:\n",
    "    incomplete_test(model,r)"
   ]
  },
  {
   "cell_type": "code",
   "execution_count": null,
   "metadata": {},
   "outputs": [],
   "source": []
  }
 ],
 "metadata": {
  "kernelspec": {
   "display_name": "Python 3",
   "language": "python",
   "name": "python3"
  },
  "language_info": {
   "codemirror_mode": {
    "name": "ipython",
    "version": 3
   },
   "file_extension": ".py",
   "mimetype": "text/x-python",
   "name": "python",
   "nbconvert_exporter": "python",
   "pygments_lexer": "ipython3",
   "version": "3.6.5"
  }
 },
 "nbformat": 4,
 "nbformat_minor": 2
}
