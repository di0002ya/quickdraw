{
 "cells": [
  {
   "cell_type": "markdown",
   "metadata": {},
   "source": [
    "# LSTM-CNN\n",
    "\n",
    "Author: ZHANG Yu\n",
    "\n",
    "The code is used to do calsssification of quickdraw dataset with 5 classes using LSTM encoder and CNN decoder. \n",
    "\n",
    "\n"
   ]
  },
  {
   "cell_type": "markdown",
   "metadata": {},
   "source": [
    "### The simplified process is:\n",
    "1. Get data\n",
    "2. Convert data to desired formation\n",
    "3. Choose hyperparameters\n",
    "4. Construct LSTM-CNN network\n",
    "5. Train the network\n",
    "6. Evaluate the network using test data\n",
    "\n",
    "### To run the code:\n",
    "1. Change path and parameters\n",
    "2. Run the code"
   ]
  },
  {
   "cell_type": "code",
   "execution_count": 2,
   "metadata": {},
   "outputs": [],
   "source": [
    "import sys\n",
    "import os\n",
    "os.environ[\"CUDA VISIBLE_DEVICES\"]=\"0\"\n",
    "import math\n",
    "import time\n",
    "import pandas as pd\n",
    "import numpy as np\n",
    "import matplotlib.pyplot as plt\n",
    "%matplotlib inline\n",
    "plt.switch_backend('agg')\n",
    "import tensorflow as tf\n",
    "from keras import optimizers\n",
    "from keras.models import Sequential\n",
    "from keras.layers import Dense, Dropout, Activation, Flatten, LSTM, Conv2D, Reshape\n",
    "from keras.callbacks import LearningRateScheduler\n",
    "import keras.backend as K\n",
    "from sklearn.metrics import confusion_matrix\n",
    "import utils_\n",
    "from utils_ import get_dataset, find_max_strok_point, convert_to_zeropad, label_onehot, plot_history\n"
   ]
  },
  {
   "cell_type": "markdown",
   "metadata": {},
   "source": [
    "## Get data\n",
    "test_r1=0.9 means stoke numbers in test_X1 is 90% of original data"
   ]
  },
  {
   "cell_type": "code",
   "execution_count": 3,
   "metadata": {},
   "outputs": [],
   "source": [
    "data_path = '/raid5/liuchang/quick_draw_output' # change path here\n",
    "data_name = '1102_05b633244'\n",
    "\n",
    "train_X,train_Y,test_X,test_Y,test_X1,test_X2,test_X3=get_dataset(data_path,data_name,test_r1=0.9,test_r2=0.7,test_r3=0.5)\n",
    "\n",
    "\n"
   ]
  },
  {
   "cell_type": "markdown",
   "metadata": {},
   "source": [
    "## Preprocess data\n",
    "zero padding both train data and test data to same length\n",
    "\n",
    "convert label to onehot form"
   ]
  },
  {
   "cell_type": "code",
   "execution_count": 4,
   "metadata": {
    "scrolled": false
   },
   "outputs": [
    {
     "name": "stdout",
     "output_type": "stream",
     "text": [
      "max stroke number in train data = 30 \n",
      " max point number in train data = 200\n",
      "training data number = 200000\n",
      "max stroke number in test data = 30 \n",
      " max point number in test data = 200\n",
      "test data number = 40000\n",
      "done\n",
      "done\n",
      "done\n",
      "done\n",
      "done\n"
     ]
    }
   ],
   "source": [
    "\n",
    "max_stroke,max_point=find_max_strok_point(train_X,test_X)\n",
    "train_data = convert_to_zeropad(train_X,max_stroke,max_point)\n",
    "train_label = label_onehot(train_Y)\n",
    "test_label = label_onehot(test_Y)\n",
    "test_data = convert_to_zeropad(test_X,max_stroke,max_point)\n",
    "test_data1 = convert_to_zeropad(test_X1,max_stroke,max_point)\n",
    "test_data2 = convert_to_zeropad(test_X2,max_stroke,max_point)\n",
    "test_data3 = convert_to_zeropad(test_X3,max_stroke,max_point)\n"
   ]
  },
  {
   "cell_type": "markdown",
   "metadata": {},
   "source": [
    "## Setting parameters"
   ]
  },
  {
   "cell_type": "code",
   "execution_count": 5,
   "metadata": {},
   "outputs": [],
   "source": [
    "bs = 128 # batch size, each batch has n images\n",
    "seq_len = max_stroke \n",
    "input_size = 2*max_point \n",
    "hidden_size = 400\n",
    "output_size = 5 # n calsses\n",
    "feature_size = 256\n",
    "filter_num1 = 50\n",
    "filter_num2 = 100\n",
    "dense1 = 80\n",
    "EPOCH = 40 # train the training data n times\n",
    "\n"
   ]
  },
  {
   "cell_type": "markdown",
   "metadata": {},
   "source": [
    "## Build lstm model"
   ]
  },
  {
   "cell_type": "code",
   "execution_count": 6,
   "metadata": {},
   "outputs": [
    {
     "name": "stdout",
     "output_type": "stream",
     "text": [
      "_________________________________________________________________\n",
      "Layer (type)                 Output Shape              Param #   \n",
      "=================================================================\n",
      "lstm_1 (LSTM)                (None, 400)               1281600   \n",
      "_________________________________________________________________\n",
      "dense_1 (Dense)              (None, 256)               102656    \n",
      "_________________________________________________________________\n",
      "reshape_1 (Reshape)          (None, 16, 16, 1)         0         \n",
      "_________________________________________________________________\n",
      "conv2d_1 (Conv2D)            (None, 7, 7, 50)          500       \n",
      "_________________________________________________________________\n",
      "conv2d_2 (Conv2D)            (None, 3, 3, 100)         45100     \n",
      "_________________________________________________________________\n",
      "flatten_1 (Flatten)          (None, 900)               0         \n",
      "_________________________________________________________________\n",
      "dense_2 (Dense)              (None, 80)                72080     \n",
      "_________________________________________________________________\n",
      "dropout_1 (Dropout)          (None, 80)                0         \n",
      "_________________________________________________________________\n",
      "dense_3 (Dense)              (None, 5)                 405       \n",
      "=================================================================\n",
      "Total params: 1,502,341\n",
      "Trainable params: 1,502,341\n",
      "Non-trainable params: 0\n",
      "_________________________________________________________________\n"
     ]
    }
   ],
   "source": [
    "model = Sequential()\n",
    "model.add(LSTM(hidden_size,return_sequences=False,input_shape=(seq_len,input_size)))\n",
    "model.add(Dense(feature_size, activation='relu'))\n",
    "model.add(Reshape((16,16,1)))\n",
    "model.add(Conv2D(filter_num1,3,strides=(2,2), activation ='relu'))\n",
    "model.add(Conv2D(filter_num2,3,strides=(2,2), activation ='relu'))\n",
    "model.add(Flatten())\n",
    "model.add(Dense(dense1, activation='relu'))\n",
    "model.add(Dropout(0.2))\n",
    "model.add(Dense(output_size, activation='linear'))\n",
    "\n",
    "model.summary()\n"
   ]
  },
  {
   "cell_type": "markdown",
   "metadata": {},
   "source": [
    "### Reducing learning rate by 0.9 every two epoch"
   ]
  },
  {
   "cell_type": "code",
   "execution_count": 7,
   "metadata": {},
   "outputs": [],
   "source": [
    "def scheduler(epoch):\n",
    "    if epoch%2==0 and epoch!=0:\n",
    "        lr = K.get_value(model.optimizer.lr)\n",
    "        K.set_value(model.optimizer.lr, lr*.9)\n",
    "        print(\"lr changed to {}\".format(lr*.9))\n",
    "    return K.get_value(model.optimizer.lr)\n"
   ]
  },
  {
   "cell_type": "markdown",
   "metadata": {},
   "source": [
    "## Compile model"
   ]
  },
  {
   "cell_type": "code",
   "execution_count": 8,
   "metadata": {},
   "outputs": [],
   "source": [
    "adam = optimizers.Adam(lr=0.001)\n",
    "\n",
    "model.compile(loss='mean_squared_error',\n",
    "          optimizer='adam',\n",
    "          metrics=['accuracy'])"
   ]
  },
  {
   "cell_type": "markdown",
   "metadata": {},
   "source": [
    "## Train and evaluate the model\n",
    "plot loss and accuracy \n",
    "\n",
    "show test accuracy of complete and imcomplete images"
   ]
  },
  {
   "cell_type": "code",
   "execution_count": 9,
   "metadata": {},
   "outputs": [
    {
     "name": "stdout",
     "output_type": "stream",
     "text": [
      "Train on 160000 samples, validate on 40000 samples\n",
      "Epoch 1/40\n",
      "160000/160000 [==============================] - 435s 3ms/step - loss: 0.0766 - acc: 0.7318 - val_loss: 0.0482 - val_acc: 0.8349\n",
      "Epoch 2/40\n",
      "160000/160000 [==============================] - 450s 3ms/step - loss: 0.0440 - acc: 0.8647 - val_loss: 0.0354 - val_acc: 0.8842\n",
      "Epoch 3/40\n",
      "lr changed to 0.0009000000427477062\n",
      "160000/160000 [==============================] - 606s 4ms/step - loss: 0.0341 - acc: 0.8989 - val_loss: 0.0275 - val_acc: 0.9090\n",
      "Epoch 4/40\n",
      "160000/160000 [==============================] - 604s 4ms/step - loss: 0.0307 - acc: 0.9108 - val_loss: 0.0257 - val_acc: 0.9153\n",
      "Epoch 5/40\n",
      "lr changed to 0.0008100000384729356\n",
      "160000/160000 [==============================] - 603s 4ms/step - loss: 0.0275 - acc: 0.9208 - val_loss: 0.0235 - val_acc: 0.9215\n",
      "Epoch 6/40\n",
      "160000/160000 [==============================] - 618s 4ms/step - loss: 0.0258 - acc: 0.9272 - val_loss: 0.0234 - val_acc: 0.9223\n",
      "Epoch 7/40\n",
      "lr changed to 0.0007290000503417104\n",
      "160000/160000 [==============================] - 627s 4ms/step - loss: 0.0239 - acc: 0.9333 - val_loss: 0.0224 - val_acc: 0.9258\n",
      "Epoch 8/40\n",
      "160000/160000 [==============================] - 610s 4ms/step - loss: 0.0226 - acc: 0.9374 - val_loss: 0.0213 - val_acc: 0.9299\n",
      "Epoch 9/40\n",
      "lr changed to 0.0006561000715009868\n",
      "160000/160000 [==============================] - 657s 4ms/step - loss: 0.0214 - acc: 0.9413 - val_loss: 0.0207 - val_acc: 0.9312\n",
      "Epoch 10/40\n",
      "160000/160000 [==============================] - 650s 4ms/step - loss: 0.0205 - acc: 0.9445 - val_loss: 0.0201 - val_acc: 0.9328\n",
      "Epoch 11/40\n",
      "lr changed to 0.0005904900433961303\n",
      "160000/160000 [==============================] - 696s 4ms/step - loss: 0.0193 - acc: 0.9491 - val_loss: 0.0194 - val_acc: 0.9360\n",
      "Epoch 12/40\n",
      "160000/160000 [==============================] - 703s 4ms/step - loss: 0.0187 - acc: 0.9506 - val_loss: 0.0189 - val_acc: 0.9370\n",
      "Epoch 13/40\n",
      "lr changed to 0.0005314410547725857\n",
      "160000/160000 [==============================] - 691s 4ms/step - loss: 0.0179 - acc: 0.9544 - val_loss: 0.0188 - val_acc: 0.9382\n",
      "Epoch 14/40\n",
      "160000/160000 [==============================] - 620s 4ms/step - loss: 0.0171 - acc: 0.9564 - val_loss: 0.0189 - val_acc: 0.9380\n",
      "Epoch 15/40\n",
      "lr changed to 0.00047829695977270604\n",
      "160000/160000 [==============================] - 631s 4ms/step - loss: 0.0162 - acc: 0.9597 - val_loss: 0.0186 - val_acc: 0.9384\n",
      "Epoch 16/40\n",
      "160000/160000 [==============================] - 639s 4ms/step - loss: 0.0156 - acc: 0.9615 - val_loss: 0.0187 - val_acc: 0.9389\n",
      "Epoch 17/40\n",
      "lr changed to 0.0004304672533180565\n",
      "160000/160000 [==============================] - 644s 4ms/step - loss: 0.0149 - acc: 0.9642 - val_loss: 0.0193 - val_acc: 0.9379\n",
      "Epoch 18/40\n",
      "160000/160000 [==============================] - 645s 4ms/step - loss: 0.0145 - acc: 0.9656 - val_loss: 0.0188 - val_acc: 0.9397\n",
      "Epoch 19/40\n",
      "lr changed to 0.00038742052274756136\n",
      "160000/160000 [==============================] - 591s 4ms/step - loss: 0.0138 - acc: 0.9681 - val_loss: 0.0194 - val_acc: 0.9376\n",
      "Epoch 20/40\n",
      "160000/160000 [==============================] - 533s 3ms/step - loss: 0.0133 - acc: 0.9699 - val_loss: 0.0196 - val_acc: 0.9373\n",
      "Epoch 21/40\n",
      "lr changed to 0.0003486784757114947\n",
      "160000/160000 [==============================] - 491s 3ms/step - loss: 0.0128 - acc: 0.9717 - val_loss: 0.0194 - val_acc: 0.9380\n",
      "Epoch 22/40\n",
      "160000/160000 [==============================] - 581s 4ms/step - loss: 0.0124 - acc: 0.9729 - val_loss: 0.0190 - val_acc: 0.9400\n",
      "Epoch 23/40\n",
      "lr changed to 0.00031381062290165574\n",
      "160000/160000 [==============================] - 641s 4ms/step - loss: 0.0119 - acc: 0.9747 - val_loss: 0.0199 - val_acc: 0.9365\n",
      "Epoch 24/40\n",
      "160000/160000 [==============================] - 474s 3ms/step - loss: 0.0116 - acc: 0.9752 - val_loss: 0.0201 - val_acc: 0.9379\n",
      "Epoch 25/40\n",
      "lr changed to 0.0002824295632308349\n",
      "160000/160000 [==============================] - 448s 3ms/step - loss: 0.0110 - acc: 0.9775 - val_loss: 0.0201 - val_acc: 0.9382\n",
      "Epoch 26/40\n",
      "160000/160000 [==============================] - 485s 3ms/step - loss: 0.0108 - acc: 0.9783 - val_loss: 0.0209 - val_acc: 0.9359\n",
      "Epoch 27/40\n",
      "lr changed to 0.00025418660952709616\n",
      "160000/160000 [==============================] - 609s 4ms/step - loss: 0.0105 - acc: 0.9788 - val_loss: 0.0199 - val_acc: 0.9384\n",
      "Epoch 28/40\n",
      "160000/160000 [==============================] - 607s 4ms/step - loss: 0.0103 - acc: 0.9798 - val_loss: 0.0206 - val_acc: 0.9372\n",
      "Epoch 29/40\n",
      "lr changed to 0.00022876793809700757\n",
      "160000/160000 [==============================] - 609s 4ms/step - loss: 0.0099 - acc: 0.9809 - val_loss: 0.0202 - val_acc: 0.9380\n",
      "Epoch 30/40\n",
      "160000/160000 [==============================] - 610s 4ms/step - loss: 0.0098 - acc: 0.9815 - val_loss: 0.0206 - val_acc: 0.9373\n",
      "Epoch 31/40\n",
      "lr changed to 0.00020589114428730683\n",
      "160000/160000 [==============================] - 608s 4ms/step - loss: 0.0094 - acc: 0.9827 - val_loss: 0.0207 - val_acc: 0.9370\n",
      "Epoch 32/40\n",
      "160000/160000 [==============================] - 610s 4ms/step - loss: 0.0094 - acc: 0.9831 - val_loss: 0.0211 - val_acc: 0.9361\n",
      "Epoch 33/40\n",
      "lr changed to 0.00018530203378759326\n",
      "160000/160000 [==============================] - 613s 4ms/step - loss: 0.0091 - acc: 0.9838 - val_loss: 0.0205 - val_acc: 0.9383\n",
      "Epoch 34/40\n",
      "160000/160000 [==============================] - 612s 4ms/step - loss: 0.0090 - acc: 0.9841 - val_loss: 0.0208 - val_acc: 0.9382\n",
      "Epoch 35/40\n",
      "lr changed to 0.00016677183302817866\n",
      "160000/160000 [==============================] - 621s 4ms/step - loss: 0.0088 - acc: 0.9846 - val_loss: 0.0210 - val_acc: 0.9368\n",
      "Epoch 36/40\n",
      "160000/160000 [==============================] - 613s 4ms/step - loss: 0.0086 - acc: 0.9851 - val_loss: 0.0211 - val_acc: 0.9370\n",
      "Epoch 37/40\n",
      "lr changed to 0.00015009464841568844\n",
      "160000/160000 [==============================] - 609s 4ms/step - loss: 0.0084 - acc: 0.9857 - val_loss: 0.0212 - val_acc: 0.9376\n",
      "Epoch 38/40\n",
      "160000/160000 [==============================] - 610s 4ms/step - loss: 0.0084 - acc: 0.9857 - val_loss: 0.0210 - val_acc: 0.9374\n",
      "Epoch 39/40\n",
      "lr changed to 0.0001350851875031367\n",
      "160000/160000 [==============================] - 613s 4ms/step - loss: 0.0082 - acc: 0.9863 - val_loss: 0.0214 - val_acc: 0.9368\n",
      "change for test\n",
      "160000/160000 [==============================] - 620s 4ms/step - loss: 0.0082 - acc: 0.9865 - val_loss: 0.0212 - val_acc: 0.9369\n"
     ]
    },
    {
     "data": {
      "image/png": "[encoded data removed]",
      "text/plain": [
       "<Figure size 432x288 with 1 Axes>"
      ]
     },
     "metadata": {
      "needs_background": "light"
     },
     "output_type": "display_data"
    },
    {
     "data": {
      "image/png": "[encoded data removed]",
      "text/plain": [
       "<Figure size 432x288 with 1 Axes>"
      ]
     },
     "metadata": {
      "needs_background": "light"
     },
     "output_type": "display_data"
    },
    {
     "name": "stdout",
     "output_type": "stream",
     "text": [
      "40000/40000 [==============================] - 54s 1ms/step\n",
      "complete stroke test score: 0.020317234237259254\n",
      "complete stroke test accuracy: 0.939025\n",
      "40000/40000 [==============================] - 54s 1ms/step\n",
      "90% stroke test score: 0.03766161552667618\n",
      "90% stroke test accuracy: 0.880775\n",
      "40000/40000 [==============================] - 53s 1ms/step\n",
      "70% stroke test score: 0.05370375055670738\n",
      "70% stroke test accuracy: 0.83125\n",
      "40000/40000 [==============================] - 53s 1ms/step\n",
      "50% stroke test score: 0.09828743032217026\n",
      "50% stroke test accuracy: 0.68385\n"
     ]
    }
   ],
   "source": [
    "lr_decay = LearningRateScheduler(scheduler)\n",
    "   \n",
    "\n",
    "history = model.fit(train_data, train_label,\n",
    "          batch_size = bs, epochs=EPOCH , \n",
    "          verbose=1,validation_split=0.2,callbacks=[lr_decay])\n",
    "\n",
    "%matplotlib inline\n",
    "plot_history(history)\n",
    "\n",
    "test_loss, test_acc = model.evaluate(test_data, test_label,\n",
    "                                         batch_size=bs)\n",
    "print('complete stroke test score:', test_loss)\n",
    "print('complete stroke test accuracy:', test_acc)\n",
    "\n",
    "test_loss1, test_acc1 = model.evaluate(test_data1, test_label,\n",
    "                                         batch_size=bs)\n",
    "print('90% stroke test score:', test_loss1)\n",
    "print('90% stroke test accuracy:', test_acc1)\n",
    "test_loss2, test_acc2 = model.evaluate(test_data2, test_label,\n",
    "                                         batch_size=bs)\n",
    "print('70% stroke test score:', test_loss2)\n",
    "print('70% stroke test accuracy:', test_acc2)\n",
    "test_loss3, test_acc3 = model.evaluate(test_data3, test_label,\n",
    "                                         batch_size=bs)\n",
    "print('50% stroke test score:', test_loss3)\n",
    "print('50% stroke test accuracy:', test_acc3)"
   ]
  },
  {
   "cell_type": "markdown",
   "metadata": {},
   "source": [
    "## Plot confusion matrix of test data "
   ]
  },
  {
   "cell_type": "code",
   "execution_count": 10,
   "metadata": {},
   "outputs": [
    {
     "data": {
      "image/png": "[encoded data removed]",
      "text/plain": [
       "<Figure size 432x288 with 2 Axes>"
      ]
     },
     "metadata": {
      "needs_background": "light"
     },
     "output_type": "display_data"
    },
    {
     "data": {
      "image/png": "[encoded data removed]",
      "text/plain": [
       "<Figure size 432x288 with 2 Axes>"
      ]
     },
     "metadata": {
      "needs_background": "light"
     },
     "output_type": "display_data"
    },
    {
     "data": {
      "image/png": "[encoded data removed]",
      "text/plain": [
       "<Figure size 432x288 with 2 Axes>"
      ]
     },
     "metadata": {
      "needs_background": "light"
     },
     "output_type": "display_data"
    },
    {
     "data": {
      "image/png": "[encoded data removed]",
      "text/plain": [
       "<Figure size 432x288 with 2 Axes>"
      ]
     },
     "metadata": {
      "needs_background": "light"
     },
     "output_type": "display_data"
    }
   ],
   "source": [
    "def test_confusion_matrix(test_data,test_Y):\n",
    "    score_pred = model.predict(test_data)\n",
    "    label_pred = np.argmax(score_pred,1)\n",
    "    c_m = confusion_matrix(test_Y,label_pred)\n",
    "    %matplotlib inline\n",
    "    plt.imshow(c_m)\n",
    "    plt.xlabel(\"Predicted labels\")\n",
    "    plt.ylabel(\"True labels\")\n",
    "    plt.xticks([], [])\n",
    "    plt.yticks([], [])\n",
    "    plt.title('Confusion matrix ')\n",
    "    plt.colorbar()\n",
    "    plt.show()\n",
    "    return \n",
    "\n",
    "test_confusion_matrix(test_data,test_Y)\n",
    "test_confusion_matrix(test_data1,test_Y)\n",
    "test_confusion_matrix(test_data2,test_Y)\n",
    "test_confusion_matrix(test_data3,test_Y)\n",
    "\n",
    "\n"
   ]
  },
  {
   "cell_type": "code",
   "execution_count": null,
   "metadata": {},
   "outputs": [],
   "source": []
  }
 ],
 "metadata": {
  "kernelspec": {
   "display_name": "Python 3",
   "language": "python",
   "name": "python3"
  },
  "language_info": {
   "codemirror_mode": {
    "name": "ipython",
    "version": 3
   },
   "file_extension": ".py",
   "mimetype": "text/x-python",
   "name": "python",
   "nbconvert_exporter": "python",
   "pygments_lexer": "ipython3",
   "version": "3.6.7"
  }
 },
 "nbformat": 4,
 "nbformat_minor": 2
}
