{
 "cells": [
  {
   "cell_type": "markdown",
   "metadata": {},
   "source": [
    "# LSTM-CNN\n",
    "\n",
    "Author: ZHANG Yu\n",
    "\n",
    "The code is used to do calsssification of quickdraw dataset with 5 classes using neural network with LSTM encoder and CNN decoder. \n",
    "\n",
    "The model here can achieve 94.74%, 88.54%, 83.97% and 74.86% accuracy for complete dataset, 90% incomplete dataset, 70% incomplete dataset and 50% incomplete dataset respectively\n"
   ]
  },
  {
   "cell_type": "markdown",
   "metadata": {},
   "source": [
    "### The simplified process is:\n",
    "1. Get data\n",
    "2. Convert data to desired formation\n",
    "3. Choose hyperparameters\n",
    "4. Construct LSTM-CNN network\n",
    "5. Train the network\n",
    "6. Evaluate the network \n",
    "\n",
    "### To run the code:\n",
    "1. Change path and parameters\n",
    "2. Run the code"
   ]
  },
  {
   "cell_type": "code",
   "execution_count": 1,
   "metadata": {},
   "outputs": [
    {
     "name": "stderr",
     "output_type": "stream",
     "text": [
      "Using TensorFlow backend.\n"
     ]
    }
   ],
   "source": [
    "import sys\n",
    "import os\n",
    "os.environ[\"CUDA VISIBLE_DEVICES\"]=\"0\"\n",
    "import math\n",
    "import time\n",
    "import pandas as pd\n",
    "import numpy as np\n",
    "import matplotlib.pyplot as plt\n",
    "%matplotlib inline\n",
    "plt.switch_backend('agg')\n",
    "import tensorflow as tf\n",
    "from keras import optimizers\n",
    "from keras.models import Sequential\n",
    "from keras.layers import Dense, Dropout, Activation, Flatten, LSTM, Conv2D, Reshape\n",
    "from keras.callbacks import LearningRateScheduler\n",
    "import keras.backend as K\n",
    "from sklearn.metrics import confusion_matrix\n",
    "import utils_\n",
    "from utils_ import get_dataset, find_max_strok_point, convert_to_zeropad, label_onehot, plot_history\n"
   ]
  },
  {
   "cell_type": "markdown",
   "metadata": {},
   "source": [
    "## Get data\n",
    "test_r1=0.9 means stoke numbers in test_X1 is 90% of original data"
   ]
  },
  {
   "cell_type": "code",
   "execution_count": 2,
   "metadata": {},
   "outputs": [],
   "source": [
    "data_path = '/raid5/liuchang/quick_draw_output' # change path here\n",
    "data_name = '1102_05b633244'\n",
    "\n",
    "train_X,train_Y,test_X,test_Y,test_X1,test_X2,test_X3=get_dataset(data_path,data_name,test_r1=0.9,test_r2=0.7,test_r3=0.5)\n",
    "\n",
    "\n"
   ]
  },
  {
   "cell_type": "markdown",
   "metadata": {},
   "source": [
    "## Preprocess data\n",
    "Zero padding both train data and test data to same length\n",
    "\n",
    "Convert label to onehot form to fit 'mean_squared_error' loss function's requirement\n",
    "\n",
    "#### Normalize data\n",
    "Make sure that mean over entire training data is zero. For testing data, subtract the mean vector of the training data rather than the mean of testing data. Since the mean of testing data at runtime was unknown\n",
    "\n",
    "Normalization makes training less sensitive to the scale of features\n",
    "\n",
    "Normalizing will ensure that a convergence problem does not have a massive variance, making optimization feasible, which accelarates the training process to some degree"
   ]
  },
  {
   "cell_type": "code",
   "execution_count": 3,
   "metadata": {
    "scrolled": false
   },
   "outputs": [
    {
     "name": "stdout",
     "output_type": "stream",
     "text": [
      "max stroke number in train data = 30 \n",
      " max point number in train data = 200\n",
      "training data number = 400000\n",
      "max stroke number in test data = 30 \n",
      " max point number in test data = 200\n",
      "test data number = 126649\n",
      "done\n",
      "done\n",
      "done\n",
      "done\n",
      "done\n"
     ]
    }
   ],
   "source": [
    "\n",
    "max_stroke,max_point=find_max_strok_point(train_X,test_X)\n",
    "train_data = convert_to_zeropad(train_X,max_stroke,max_point)\n",
    "train_label = label_onehot(train_Y)\n",
    "test_label = label_onehot(test_Y)\n",
    "test_data = convert_to_zeropad(test_X,max_stroke,max_point)\n",
    "test_data1 = convert_to_zeropad(test_X1,max_stroke,max_point)\n",
    "test_data2 = convert_to_zeropad(test_X2,max_stroke,max_point)\n",
    "test_data3 = convert_to_zeropad(test_X3,max_stroke,max_point)\n"
   ]
  },
  {
   "cell_type": "code",
   "execution_count": 4,
   "metadata": {},
   "outputs": [],
   "source": [
    "mean= train_data.mean()\n",
    "std= train_data.std()\n",
    "\n",
    "train_data = (train_data - mean)/std\n",
    "test_data = (test_data - mean)/std\n",
    "test_data1 = (test_data1 - mean)/std\n",
    "test_data2 = (test_data2 - mean)/std\n",
    "test_data3 = (test_data3 - mean)/std\n"
   ]
  },
  {
   "cell_type": "markdown",
   "metadata": {},
   "source": [
    "## Setting parameters"
   ]
  },
  {
   "cell_type": "code",
   "execution_count": 5,
   "metadata": {},
   "outputs": [],
   "source": [
    "bs = 128 # batch size, each batch has n images\n",
    "seq_len = max_stroke \n",
    "input_size = 2*max_point \n",
    "hidden_size = 400\n",
    "output_size = 5 # n calsses\n",
    "feature_size = 256\n",
    "filter_num1 = 50\n",
    "filter_num2 = 100\n",
    "dense1 = 80\n",
    "EPOCH = 40 # train the training data n times\n",
    "\n"
   ]
  },
  {
   "cell_type": "markdown",
   "metadata": {},
   "source": [
    "## Build lstm-rnn model\n",
    "My goal is to construct a neural network using lstm as encoder and cnn as decoder.\n",
    "\n",
    "Firstly I construct a lstm network, whose output size is selected as 256, which actually is the feature encoded by the lstm. Then I send the featured I got above to a 2 layer CNN network, which uses the feature learned rather than the raw data information to do the classification \n",
    "\n",
    "The following architecture and parameters are chosen after several trails"
   ]
  },
  {
   "cell_type": "code",
   "execution_count": 6,
   "metadata": {},
   "outputs": [
    {
     "name": "stdout",
     "output_type": "stream",
     "text": [
      "_________________________________________________________________\n",
      "Layer (type)                 Output Shape              Param #   \n",
      "=================================================================\n",
      "lstm_1 (LSTM)                (None, 400)               1281600   \n",
      "_________________________________________________________________\n",
      "dense_1 (Dense)              (None, 256)               102656    \n",
      "_________________________________________________________________\n",
      "reshape_1 (Reshape)          (None, 16, 16, 1)         0         \n",
      "_________________________________________________________________\n",
      "conv2d_1 (Conv2D)            (None, 7, 7, 50)          500       \n",
      "_________________________________________________________________\n",
      "conv2d_2 (Conv2D)            (None, 3, 3, 100)         45100     \n",
      "_________________________________________________________________\n",
      "flatten_1 (Flatten)          (None, 900)               0         \n",
      "_________________________________________________________________\n",
      "dense_2 (Dense)              (None, 80)                72080     \n",
      "_________________________________________________________________\n",
      "dropout_1 (Dropout)          (None, 80)                0         \n",
      "_________________________________________________________________\n",
      "dense_3 (Dense)              (None, 5)                 405       \n",
      "=================================================================\n",
      "Total params: 1,502,341\n",
      "Trainable params: 1,502,341\n",
      "Non-trainable params: 0\n",
      "_________________________________________________________________\n"
     ]
    }
   ],
   "source": [
    "model = Sequential()\n",
    "model.add(LSTM(hidden_size,return_sequences=False,input_shape=(seq_len,input_size))) #bs*seq_len*input_size-->bs*seq_len*hidden_size, select last score\n",
    "model.add(Dense(feature_size, activation='linear')) #bs*hidden_size-->bs*feature_size\n",
    "model.add(Reshape((16,16,1))) #bs*feature_size-->bs*16*16*1\n",
    "model.add(Conv2D(filter_num1,3,strides=(2,2), activation ='relu')) #bs*16*16*1-->bs*7*7*50\n",
    "model.add(Conv2D(filter_num2,3,strides=(2,2), activation ='relu')) #bs*7*7*50-->bs*3*3*100\n",
    "model.add(Flatten()) #bs*3*3*100-->bs*900\n",
    "model.add(Dense(dense1, activation='relu')) #bs*900-->bs*dense1\n",
    "model.add(Dropout(0.2))\n",
    "model.add(Dense(output_size, activation='linear')) #bs*dense1-->bs*output_size\n",
    "\n",
    "model.summary()\n"
   ]
  },
  {
   "cell_type": "markdown",
   "metadata": {},
   "source": [
    "### Reducing learning rate by 0.9 every two epoch"
   ]
  },
  {
   "cell_type": "code",
   "execution_count": 7,
   "metadata": {},
   "outputs": [],
   "source": [
    "def scheduler(epoch):\n",
    "    if epoch%2==0 and epoch!=0:\n",
    "        lr = K.get_value(model.optimizer.lr)\n",
    "        K.set_value(model.optimizer.lr, lr*.9)\n",
    "        print(\"lr changed to {}\".format(lr*.9))\n",
    "    return K.get_value(model.optimizer.lr)\n"
   ]
  },
  {
   "cell_type": "markdown",
   "metadata": {},
   "source": [
    "## Compile model\n",
    "* Loss function: evaluating how well the algorithm models the dataset. mean square error is one of the simplest loss function\n",
    "* Optimizer: Adam is chosen as the oprimizer, it converges a lot faster"
   ]
  },
  {
   "cell_type": "code",
   "execution_count": 8,
   "metadata": {},
   "outputs": [],
   "source": [
    "adam = optimizers.Adam(lr=0.001)\n",
    "\n",
    "model.compile(loss='mean_squared_error',\n",
    "          optimizer='adam',\n",
    "          metrics=['accuracy'])"
   ]
  },
  {
   "cell_type": "markdown",
   "metadata": {},
   "source": [
    "## Train and evaluate the model\n",
    "plot loss and accuracy \n",
    "\n",
    "show test accuracy of complete and imcomplete images\n",
    "\n",
    "#### Learning rate\n",
    "Usually initial learning rate=1e-3,5e-4 for Adam optimizer, decreasing it is essential, here it is decreased by 0.1 every 2 epoches\n",
    "\n",
    "#### Loss vs. epoches\n",
    "Loss increases consistently: (a)learning rate is likely set too high; (b)indicative of other network issues such as incorrect data normalization\n",
    "Loss is flat or decreases very slowly (over a few hundred iterations): (a)learning rate may be too low; (b)having difficulties with optimization\n",
    "#### Accuracy vs. epoches\n",
    "The validation accuracy is higher than the training accuracy in the first several epoches from which shown below. This can happen when the validation set is small and the model is underfitting, usually this phenomenon will go away as trainning more."
   ]
  },
  {
   "cell_type": "code",
   "execution_count": 9,
   "metadata": {
    "scrolled": false
   },
   "outputs": [
    {
     "name": "stdout",
     "output_type": "stream",
     "text": [
      "Train on 320000 samples, validate on 80000 samples\n",
      "Epoch 1/40\n",
      "320000/320000 [==============================] - 1319s 4ms/step - loss: 0.0404 - acc: 0.8772 - val_loss: 0.0267 - val_acc: 0.9104\n",
      "Epoch 2/40\n",
      "320000/320000 [==============================] - 1485s 5ms/step - loss: 0.0271 - acc: 0.9216 - val_loss: 0.0224 - val_acc: 0.9275\n",
      "Epoch 3/40\n",
      "lr changed to 0.0009000000427477062\n",
      "320000/320000 [==============================] - 1502s 5ms/step - loss: 0.0242 - acc: 0.9314 - val_loss: 0.0200 - val_acc: 0.9337\n",
      "Epoch 4/40\n",
      "320000/320000 [==============================] - 1526s 5ms/step - loss: 0.0227 - acc: 0.9367 - val_loss: 0.0209 - val_acc: 0.9324\n",
      "Epoch 5/40\n",
      "lr changed to 0.0008100000384729356\n",
      "320000/320000 [==============================] - 1594s 5ms/step - loss: 0.0213 - acc: 0.9418 - val_loss: 0.0183 - val_acc: 0.9392\n",
      "Epoch 6/40\n",
      "320000/320000 [==============================] - 1574s 5ms/step - loss: 0.0205 - acc: 0.9444 - val_loss: 0.0197 - val_acc: 0.9346\n",
      "Epoch 7/40\n",
      "lr changed to 0.0007290000503417104\n",
      "320000/320000 [==============================] - 1478s 5ms/step - loss: 0.0194 - acc: 0.9482 - val_loss: 0.0175 - val_acc: 0.9419\n",
      "Epoch 8/40\n",
      "320000/320000 [==============================] - 1461s 5ms/step - loss: 0.0187 - acc: 0.9501 - val_loss: 0.0174 - val_acc: 0.9425\n",
      "Epoch 9/40\n",
      "lr changed to 0.0006561000715009868\n",
      "320000/320000 [==============================] - 1475s 5ms/step - loss: 0.0176 - acc: 0.9541 - val_loss: 0.0166 - val_acc: 0.9453\n",
      "Epoch 10/40\n",
      "320000/320000 [==============================] - 1453s 5ms/step - loss: 0.0169 - acc: 0.9564 - val_loss: 0.0162 - val_acc: 0.9474\n",
      "Epoch 11/40\n",
      "lr changed to 0.0005904900433961303\n",
      "320000/320000 [==============================] - 1426s 4ms/step - loss: 0.0159 - acc: 0.9599 - val_loss: 0.0167 - val_acc: 0.9451\n",
      "Epoch 12/40\n",
      "320000/320000 [==============================] - 1438s 4ms/step - loss: 0.0155 - acc: 0.9614 - val_loss: 0.0161 - val_acc: 0.9469\n",
      "Epoch 13/40\n",
      "lr changed to 0.0005314410547725857\n",
      "320000/320000 [==============================] - 1386s 4ms/step - loss: 0.0147 - acc: 0.9640 - val_loss: 0.0160 - val_acc: 0.9474\n",
      "Epoch 14/40\n",
      "320000/320000 [==============================] - 1441s 5ms/step - loss: 0.0142 - acc: 0.9659 - val_loss: 0.0161 - val_acc: 0.9478\n",
      "Epoch 15/40\n",
      "lr changed to 0.00047829695977270604\n",
      "320000/320000 [==============================] - 1368s 4ms/step - loss: 0.0134 - acc: 0.9687 - val_loss: 0.0160 - val_acc: 0.9476\n",
      "Epoch 16/40\n",
      "320000/320000 [==============================] - 1231s 4ms/step - loss: 0.0129 - acc: 0.9701 - val_loss: 0.0159 - val_acc: 0.9478\n",
      "Epoch 17/40\n",
      "lr changed to 0.0004304672533180565\n",
      "320000/320000 [==============================] - 1221s 4ms/step - loss: 0.0122 - acc: 0.9729 - val_loss: 0.0164 - val_acc: 0.9476\n",
      "Epoch 18/40\n",
      "320000/320000 [==============================] - 1226s 4ms/step - loss: 0.0119 - acc: 0.9740 - val_loss: 0.0161 - val_acc: 0.9478\n",
      "Epoch 19/40\n",
      "lr changed to 0.00038742052274756136\n",
      "320000/320000 [==============================] - 1230s 4ms/step - loss: 0.0112 - acc: 0.9763 - val_loss: 0.0165 - val_acc: 0.9479\n",
      "Epoch 20/40\n",
      "320000/320000 [==============================] - 1245s 4ms/step - loss: 0.0110 - acc: 0.9771 - val_loss: 0.0165 - val_acc: 0.9479\n",
      "Epoch 21/40\n",
      "lr changed to 0.0003486784757114947\n",
      "320000/320000 [==============================] - 1287s 4ms/step - loss: 0.0104 - acc: 0.9789 - val_loss: 0.0168 - val_acc: 0.9482\n",
      "Epoch 22/40\n",
      "320000/320000 [==============================] - 1351s 4ms/step - loss: 0.0101 - acc: 0.9799 - val_loss: 0.0165 - val_acc: 0.9482\n",
      "Epoch 23/40\n",
      "lr changed to 0.00031381062290165574\n",
      "320000/320000 [==============================] - 1299s 4ms/step - loss: 0.0096 - acc: 0.9817 - val_loss: 0.0166 - val_acc: 0.9484\n",
      "Epoch 24/40\n",
      "320000/320000 [==============================] - 1293s 4ms/step - loss: 0.0093 - acc: 0.9824 - val_loss: 0.0169 - val_acc: 0.9483\n",
      "Epoch 25/40\n",
      "lr changed to 0.0002824295632308349\n",
      "320000/320000 [==============================] - 1398s 4ms/step - loss: 0.0090 - acc: 0.9838 - val_loss: 0.0171 - val_acc: 0.9475\n",
      "Epoch 26/40\n",
      "320000/320000 [==============================] - 1368s 4ms/step - loss: 0.0088 - acc: 0.9843 - val_loss: 0.0167 - val_acc: 0.9488\n",
      "Epoch 27/40\n",
      "lr changed to 0.00025418660952709616\n",
      "320000/320000 [==============================] - 1289s 4ms/step - loss: 0.0085 - acc: 0.9852 - val_loss: 0.0168 - val_acc: 0.9483\n",
      "Epoch 28/40\n",
      "320000/320000 [==============================] - 1437s 4ms/step - loss: 0.0083 - acc: 0.9859 - val_loss: 0.0170 - val_acc: 0.9480\n",
      "Epoch 29/40\n",
      "lr changed to 0.00022876793809700757\n",
      "320000/320000 [==============================] - 1475s 5ms/step - loss: 0.0080 - acc: 0.9868 - val_loss: 0.0171 - val_acc: 0.9486\n",
      "Epoch 30/40\n",
      "320000/320000 [==============================] - 1356s 4ms/step - loss: 0.0078 - acc: 0.9873 - val_loss: 0.0171 - val_acc: 0.9483\n",
      "Epoch 31/40\n",
      "lr changed to 0.00020589114428730683\n",
      "320000/320000 [==============================] - 1334s 4ms/step - loss: 0.0076 - acc: 0.9880 - val_loss: 0.0173 - val_acc: 0.9479\n",
      "Epoch 32/40\n",
      "320000/320000 [==============================] - 1377s 4ms/step - loss: 0.0074 - acc: 0.9884 - val_loss: 0.0172 - val_acc: 0.9488\n",
      "Epoch 33/40\n",
      "lr changed to 0.00018530203378759326\n",
      "320000/320000 [==============================] - 1423s 4ms/step - loss: 0.0072 - acc: 0.9891 - val_loss: 0.0173 - val_acc: 0.9485\n",
      "Epoch 34/40\n",
      "320000/320000 [==============================] - 1451s 5ms/step - loss: 0.0072 - acc: 0.9893 - val_loss: 0.0174 - val_acc: 0.9482\n",
      "Epoch 35/40\n",
      "lr changed to 0.00016677183302817866\n",
      "320000/320000 [==============================] - 1458s 5ms/step - loss: 0.0070 - acc: 0.9898 - val_loss: 0.0175 - val_acc: 0.9475\n",
      "Epoch 36/40\n",
      "320000/320000 [==============================] - 1540s 5ms/step - loss: 0.0069 - acc: 0.9900 - val_loss: 0.0174 - val_acc: 0.9482\n",
      "Epoch 37/40\n",
      "lr changed to 0.00015009464841568844\n",
      "320000/320000 [==============================] - 1290s 4ms/step - loss: 0.0067 - acc: 0.9905 - val_loss: 0.0175 - val_acc: 0.9479\n",
      "Epoch 38/40\n",
      "320000/320000 [==============================] - 1138s 4ms/step - loss: 0.0066 - acc: 0.9908 - val_loss: 0.0177 - val_acc: 0.9477\n",
      "Epoch 39/40\n",
      "lr changed to 0.0001350851875031367\n",
      "320000/320000 [==============================] - 887s 3ms/step - loss: 0.0064 - acc: 0.9911 - val_loss: 0.0177 - val_acc: 0.9476\n",
      "Epoch 40/40\n",
      "320000/320000 [==============================] - 888s 3ms/step - loss: 0.0064 - acc: 0.9912 - val_loss: 0.0176 - val_acc: 0.9477\n"
     ]
    },
    {
     "data": {
      "image/png": "[encoded data removed]",
      "text/plain": [
       "<Figure size 432x288 with 1 Axes>"
      ]
     },
     "metadata": {
      "needs_background": "light"
     },
     "output_type": "display_data"
    },
    {
     "data": {
      "image/png": "[encoded data removed]",
      "text/plain": [
       "<Figure size 432x288 with 1 Axes>"
      ]
     },
     "metadata": {
      "needs_background": "light"
     },
     "output_type": "display_data"
    }
   ],
   "source": [
    "lr_decay = LearningRateScheduler(scheduler)\n",
    "   \n",
    "\n",
    "history = model.fit(train_data, train_label,\n",
    "          batch_size = bs, epochs=EPOCH , \n",
    "          verbose=1,validation_split=0.2,callbacks=[lr_decay])\n",
    "\n",
    "%matplotlib inline\n",
    "plot_history(history)\n",
    "\n"
   ]
  },
  {
   "cell_type": "code",
   "execution_count": 10,
   "metadata": {},
   "outputs": [
    {
     "name": "stdout",
     "output_type": "stream",
     "text": [
      "126649/126649 [==============================] - 164s 1ms/step\n",
      "complete stroke test score: 0.01772024283732604\n",
      "complete stroke test accuracy: 0.947421614073814\n",
      "126649/126649 [==============================] - 158s 1ms/step\n",
      "90% stroke test score: 0.03408886407999531\n",
      "90% stroke test accuracy: 0.8853761182377176\n",
      "126649/126649 [==============================] - 158s 1ms/step\n",
      "70% stroke test score: 0.049230024420870745\n",
      "70% stroke test accuracy: 0.8397460698357594\n",
      "126649/126649 [==============================] - 167s 1ms/step\n",
      "50% stroke test score: 0.0788282289123791\n",
      "50% stroke test accuracy: 0.7485728272683974\n"
     ]
    }
   ],
   "source": [
    "test_loss, test_acc = model.evaluate(test_data, test_label,\n",
    "                                         batch_size=bs)\n",
    "print('complete stroke test score:', test_loss)\n",
    "print('complete stroke test accuracy:', test_acc)\n",
    "\n",
    "test_loss1, test_acc1 = model.evaluate(test_data1, test_label,\n",
    "                                         batch_size=bs)\n",
    "print('90% stroke test score:', test_loss1)\n",
    "print('90% stroke test accuracy:', test_acc1)\n",
    "test_loss2, test_acc2 = model.evaluate(test_data2, test_label,\n",
    "                                         batch_size=bs)\n",
    "print('70% stroke test score:', test_loss2)\n",
    "print('70% stroke test accuracy:', test_acc2)\n",
    "test_loss3, test_acc3 = model.evaluate(test_data3, test_label,\n",
    "                                         batch_size=bs)\n",
    "print('50% stroke test score:', test_loss3)\n",
    "print('50% stroke test accuracy:', test_acc3)"
   ]
  },
  {
   "cell_type": "markdown",
   "metadata": {},
   "source": [
    "## Plot confusion matrix of test data \n",
    "confusion matrix helps expressing the classification results\n",
    "\n",
    "From the results shown below, it can be seen that the label 0, which is 'calender' class, has relatively lower predict accuracy compared to other 4 classes. This is because that 'calender' class has less training data than other classes"
   ]
  },
  {
   "cell_type": "code",
   "execution_count": 11,
   "metadata": {},
   "outputs": [
    {
     "data": {
      "image/png": "[encoded data removed]",
      "text/plain": [
       "<Figure size 432x288 with 2 Axes>"
      ]
     },
     "metadata": {
      "needs_background": "light"
     },
     "output_type": "display_data"
    },
    {
     "data": {
      "image/png": "[encoded data removed]",
      "text/plain": [
       "<Figure size 432x288 with 2 Axes>"
      ]
     },
     "metadata": {
      "needs_background": "light"
     },
     "output_type": "display_data"
    },
    {
     "data": {
      "image/png": "[encoded data removed]",
      "text/plain": [
       "<Figure size 432x288 with 2 Axes>"
      ]
     },
     "metadata": {
      "needs_background": "light"
     },
     "output_type": "display_data"
    },
    {
     "data": {
      "image/png": "[encoded data removed]",
      "text/plain": [
       "<Figure size 432x288 with 2 Axes>"
      ]
     },
     "metadata": {
      "needs_background": "light"
     },
     "output_type": "display_data"
    }
   ],
   "source": [
    "def test_confusion_matrix(test_data,test_Y):\n",
    "    score_pred = model.predict(test_data)\n",
    "    label_pred = np.argmax(score_pred,1)\n",
    "    c_m = confusion_matrix(test_Y,label_pred)\n",
    "    %matplotlib inline\n",
    "    plt.imshow(c_m)\n",
    "    plt.xlabel(\"Predicted labels\")\n",
    "    plt.ylabel(\"True labels\")\n",
    "    plt.xticks([], [])\n",
    "    plt.yticks([], [])\n",
    "    plt.title('Confusion matrix ')\n",
    "    plt.colorbar()\n",
    "    plt.show()\n",
    "    return \n",
    "\n",
    "test_confusion_matrix(test_data,test_Y)\n",
    "test_confusion_matrix(test_data1,test_Y)\n",
    "test_confusion_matrix(test_data2,test_Y)\n",
    "test_confusion_matrix(test_data3,test_Y)\n",
    "\n",
    "\n"
   ]
  },
  {
   "cell_type": "code",
   "execution_count": 12,
   "metadata": {},
   "outputs": [],
   "source": [
    "model.save('model_lstmcnnall.h5')"
   ]
  },
  {
   "cell_type": "code",
   "execution_count": null,
   "metadata": {},
   "outputs": [],
   "source": []
  }
 ],
 "metadata": {
  "kernelspec": {
   "display_name": "Python 3",
   "language": "python",
   "name": "python3"
  },
  "language_info": {
   "codemirror_mode": {
    "name": "ipython",
    "version": 3
   },
   "file_extension": ".py",
   "mimetype": "text/x-python",
   "name": "python",
   "nbconvert_exporter": "python",
   "pygments_lexer": "ipython3",
   "version": "3.6.6"
  }
 },
 "nbformat": 4,
 "nbformat_minor": 2
}
