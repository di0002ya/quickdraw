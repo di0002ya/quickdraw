{
 "cells": [
  {
   "cell_type": "markdown",
   "metadata": {},
   "source": [
    "# Explanation for CNN "
   ]
  },
  {
   "cell_type": "code",
   "execution_count": 55,
   "metadata": {},
   "outputs": [
    {
     "data": {
      "text/plain": [
       "'\\nAuthor: Ding Shuya\\nDescription: This notebook will give an explanation about CNN network data preprocessing way. \\n'"
      ]
     },
     "execution_count": 55,
     "metadata": {},
     "output_type": "execute_result"
    }
   ],
   "source": [
    "'''\n",
    "Author: Ding Shuya\n",
    "Description: This notebook will give an explanation about CNN network data preprocessing way. \n",
    "'''"
   ]
  },
  {
   "cell_type": "code",
   "execution_count": 56,
   "metadata": {},
   "outputs": [],
   "source": [
    "def feature_engineering_CNN(df, out_data_path, category, sample=60000):\n",
    "    '''\n",
    "    function:\n",
    "    - aggregates 2 user defined functions that prepares dataframe for CNN modeling.\n",
    "    - it also prints out how long it takes to run.\n",
    "\n",
    "    input:\n",
    "    - df = dataframe that was converted from raw_data json file\n",
    "    - category = used to name output pickle file\n",
    "    - sample = number of datapoints included in the final dataframe. \n",
    "\n",
    "\n",
    "    output:\n",
    "    - pickled dataframe that will be used for CNN modeling (1176 features)\n",
    "    - each row represents 42 by 28 pixel image\n",
    "    file name: \"./data/{}.pkl\".format(category)\n",
    "    '''\n",
    "\n",
    "    start_time = time.time()\n",
    "    #runs CNN feature engineering functions\n",
    "    df_1 = CNN_feat_eng_pt1(df)\n",
    "    df_2 = CNN_feat_eng_pt2(df_1)\n",
    "\n",
    "    df_2.index = range(len(df_2))\n",
    "    random_ind = np.random.choice(list(df_2.index), sample, replace=False)\n",
    "    df_2 = df_2.loc[list(random_ind)]\n",
    "\n",
    "    df_2.index = df_2['key_id']\n",
    "    df_2.to_pickle(out_data_path + \"{}.pkl\".format(category))\n",
    "    print(\"--- %s seconds ---\" % (time.time() - start_time))\n",
    "    return df_2\n",
    "def _array_normalizer(array1,Xmin,Xmax,array_min):\n",
    "    '''\n",
    "    function:\n",
    "        - normalize X,Y array by range of X\n",
    "        - used in feature_eng_pt2\n",
    "    input:\n",
    "        array1 = array that you want to normalize (1D array or list)\n",
    "        Xmin = minimum value of your X array (int)\n",
    "        Xmax = maximum value of your X array (int)\n",
    "        array_min = minimum value of array1\n",
    "\n",
    "    output:\n",
    "        normalized array of array1\n",
    "    '''\n",
    "    return (np.array(array1)-np.array([array_min]*len(array1)))/float(Xmax-Xmin)"
   ]
  },
  {
   "cell_type": "markdown",
   "metadata": {},
   "source": [
    "## CNN_feat_eng_pt1"
   ]
  },
  {
   "cell_type": "code",
   "execution_count": 57,
   "metadata": {},
   "outputs": [],
   "source": [
    "import os\n",
    "root_path = '/export/home/di0002ya/quickdraw/cnn_base'\n",
    "data_path = '/export/home/di0002ya/quickdraw/data/sy_data/quick_draw/'\n",
    "out_data_path = '/export/home/di0002ya/quickdraw/data/sy_data/quick_draw_output/'\n",
    "os.chdir(root_path)\n",
    "from feature_engineering_func_ntu import *\n",
    "import pandas as pd\n",
    "from keras.utils import np_utils\n",
    "from sklearn.model_selection import train_test_split\n",
    "import numpy as np\n",
    "np.random.seed(32113)\n",
    "from keras.models import Sequential\n",
    "from keras.layers import Dense, Dropout, Activation, Flatten\n",
    "from keras.layers import Convolution2D, MaxPooling2D\n",
    "from keras.layers.convolutional import ZeroPadding2D\n",
    "from keras.models import load_model\n",
    "class_lists = ['cat', 'dog', 'lion', 'tiger']\n",
    "sample = 6\n",
    "# for classes in class_lists:\n",
    "#     filepath = data_path + classes + '.ndjson'\n",
    "#     df = pd.read_json(filepath, lines=True)\n",
    "#     feature_engineering_CNN(df,out_data_path, classes, sample)"
   ]
  },
  {
   "cell_type": "code",
   "execution_count": 59,
   "metadata": {},
   "outputs": [],
   "source": [
    "filepath = filepath = data_path + 'cat' + '.ndjson'\n",
    "df = pd.read_json(filepath, lines=True)\n"
   ]
  },
  {
   "cell_type": "code",
   "execution_count": 63,
   "metadata": {},
   "outputs": [
    {
     "data": {
      "text/plain": [
       "Index(['countrycode', 'drawing', 'key_id', 'recognized', 'timestamp', 'word'], dtype='object')"
      ]
     },
     "execution_count": 63,
     "metadata": {},
     "output_type": "execute_result"
    }
   ],
   "source": [
    "df.columns"
   ]
  },
  {
   "cell_type": "code",
   "execution_count": 64,
   "metadata": {},
   "outputs": [],
   "source": [
    "#Generation Stroke Number \n",
    "#Convert True and False \n",
    "#Filter Stoke < = 15 & 'Recognized'\n",
    "df['stroke_number']=df['drawing'].str.len()\n",
    "b_loon = {True: 1, False:0}\n",
    "df['recognized'] = df['recognized'].map(b_loon)\n",
    "df_cf = df[(df['recognized']==1) & (df['stroke_number'] <= 15)]"
   ]
  },
  {
   "cell_type": "code",
   "execution_count": 65,
   "metadata": {},
   "outputs": [
    {
     "name": "stderr",
     "output_type": "stream",
     "text": [
      "/export/home/di0002ya/miniconda3/envs/ADV_MM/lib/python3.6/site-packages/ipykernel_launcher.py:2: SettingWithCopyWarning: \n",
      "A value is trying to be set on a copy of a slice from a DataFrame.\n",
      "Try using .loc[row_indexer,col_indexer] = value instead\n",
      "\n",
      "See the caveats in the documentation: http://pandas.pydata.org/pandas-docs/stable/indexing.html#indexing-view-versus-copy\n",
      "  \n"
     ]
    }
   ],
   "source": [
    "# Select ith 'drawing': timeinfo last timestamps of last strokes \n",
    "df_cf['final_time'] = [df_cf.loc[i,'drawing'][df_cf.stroke_number[i]-1][2][-1] for i in df_cf.index]"
   ]
  },
  {
   "cell_type": "code",
   "execution_count": 67,
   "metadata": {},
   "outputs": [],
   "source": [
    "X = {}\n",
    "Y = {}\n",
    "Ymax ={}\n",
    "time = {}\n",
    "ttnum_dp = {}\n",
    "sumtimeps = {}"
   ]
  },
  {
   "cell_type": "code",
   "execution_count": 68,
   "metadata": {},
   "outputs": [],
   "source": [
    "# Before diving into loop, let's see only one drawings. \n",
    "i = 0 \n",
    "num = df_cf.loc[i,'stroke_number']\n",
    "#store X,Y,time of the stroke in a temp list\n",
    "Xt = [df_cf.loc[i,'drawing'][stroke][0] for stroke in range(num)]\n",
    "Yt = [df_cf.loc[i,'drawing'][stroke][1] for stroke in range(num)]\n",
    "tt = [df_cf.loc[i,'drawing'][stroke][2] for stroke in range(num)]"
   ]
  },
  {
   "cell_type": "markdown",
   "metadata": {},
   "source": [
    "We could see that above functions convert drawings into 3 temp lists. \n",
    "If ith drawing has N strokes, then Xt, Yt, tt length will be N lists of list. \n",
    "Xt = [X1,...XN]\n",
    "X1 = [x11,....x1T] if first stroke has T discrete points. "
   ]
  },
  {
   "cell_type": "code",
   "execution_count": 73,
   "metadata": {},
   "outputs": [],
   "source": [
    "# calculate the difference between final and initial time of a stroke\n",
    "Tdifftemp = [(df_cf.loc[i,'drawing'][stroke][2][-1] - df_cf.loc[i,'drawing'][stroke][2][0])\\\n",
    "             for stroke in range(num)]\n",
    "#Tdifftemp[t] = -tt[t][0]+tt[t][-1]"
   ]
  },
  {
   "cell_type": "code",
   "execution_count": 77,
   "metadata": {},
   "outputs": [
    {
     "name": "stdout",
     "output_type": "stream",
     "text": [
      "3095\n"
     ]
    }
   ],
   "source": [
    "print(-tt[0][0]+tt[0][-1])"
   ]
  },
  {
   "cell_type": "code",
   "execution_count": 78,
   "metadata": {},
   "outputs": [
    {
     "name": "stdout",
     "output_type": "stream",
     "text": [
      "3095\n"
     ]
    }
   ],
   "source": [
    "print(Tdifftemp[0])"
   ]
  },
  {
   "cell_type": "code",
   "execution_count": 79,
   "metadata": {},
   "outputs": [],
   "source": [
    "# Xtemp/Ytemp = [item for stroke in Xt for item in stroke] Flatten all the X/Y info into one list\n",
    "Xtemp = [item for stroke in Xt for item in stroke]\n",
    "Ytemp = [item for stroke in Yt for item in stroke]"
   ]
  },
  {
   "cell_type": "code",
   "execution_count": 80,
   "metadata": {},
   "outputs": [
    {
     "data": {
      "text/plain": [
       "190"
      ]
     },
     "execution_count": 80,
     "metadata": {},
     "output_type": "execute_result"
    }
   ],
   "source": [
    "len(Xtemp)"
   ]
  },
  {
   "cell_type": "code",
   "execution_count": 81,
   "metadata": {},
   "outputs": [],
   "source": [
    "# time = [item for stroke in time for item in stroke] Flatten all the time info of ith drawing into one list \n",
    "time[i] = [item for stroke in tt for item in stroke]"
   ]
  },
  {
   "cell_type": "code",
   "execution_count": 38,
   "metadata": {},
   "outputs": [],
   "source": [
    "# Normalize Xtemp&Ytemp for ith drawing\n",
    "Xmintemp = np.min(Xtemp)-10\n",
    "Xmaxtemp = np.max(Xtemp)+10\n",
    "Ymintemp = np.min(Ytemp)-10\n",
    "Xnorm = _array_normalizer(Xtemp, Xmintemp,Xmaxtemp,Xmintemp)\n",
    "Ynorm = _array_normalizer(Ytemp, Xmintemp,Xmaxtemp,Ymintemp)"
   ]
  },
  {
   "cell_type": "code",
   "execution_count": 40,
   "metadata": {},
   "outputs": [],
   "source": [
    "# Store norm value into X/Y which stores all norm value for all drawings. \n",
    "Ymax[i] = np.max(Ynorm)\n",
    "X[i] = Xnorm\n",
    "Y[i] = Ynorm\n"
   ]
  },
  {
   "cell_type": "code",
   "execution_count": 82,
   "metadata": {},
   "outputs": [],
   "source": [
    "ttnum_dp[i] = len(Ynorm)\n",
    "sumtimeps[i] = sum(Tdifftemp)"
   ]
  },
  {
   "cell_type": "markdown",
   "metadata": {},
   "source": [
    "Let us see the overall functions "
   ]
  },
  {
   "cell_type": "code",
   "execution_count": 83,
   "metadata": {},
   "outputs": [
    {
     "name": "stderr",
     "output_type": "stream",
     "text": [
      "/export/home/di0002ya/quickdraw/cnn_base/feature_engineering_func_ntu.py:147: SettingWithCopyWarning: \n",
      "A value is trying to be set on a copy of a slice from a DataFrame.\n",
      "Try using .loc[row_indexer,col_indexer] = value instead\n",
      "\n",
      "See the caveats in the documentation: http://pandas.pydata.org/pandas-docs/stable/indexing.html#indexing-view-versus-copy\n",
      "  df_cf['final_time'] = [df_cf.loc[i,'drawing'][df_cf.stroke_number[i]-1][2][-1] for i in df_cf.index]\n",
      "/export/home/di0002ya/quickdraw/cnn_base/feature_engineering_func_ntu.py:190: SettingWithCopyWarning: \n",
      "A value is trying to be set on a copy of a slice from a DataFrame.\n",
      "Try using .loc[row_indexer,col_indexer] = value instead\n",
      "\n",
      "See the caveats in the documentation: http://pandas.pydata.org/pandas-docs/stable/indexing.html#indexing-view-versus-copy\n",
      "  df_cf['total_number_of_datapoints'] = pd.Series(ttnum_dp)\n",
      "/export/home/di0002ya/quickdraw/cnn_base/feature_engineering_func_ntu.py:191: SettingWithCopyWarning: \n",
      "A value is trying to be set on a copy of a slice from a DataFrame.\n",
      "Try using .loc[row_indexer,col_indexer] = value instead\n",
      "\n",
      "See the caveats in the documentation: http://pandas.pydata.org/pandas-docs/stable/indexing.html#indexing-view-versus-copy\n",
      "  df_cf['Ymax'] = pd.Series(Ymax)\n",
      "/export/home/di0002ya/quickdraw/cnn_base/feature_engineering_func_ntu.py:192: SettingWithCopyWarning: \n",
      "A value is trying to be set on a copy of a slice from a DataFrame.\n",
      "Try using .loc[row_indexer,col_indexer] = value instead\n",
      "\n",
      "See the caveats in the documentation: http://pandas.pydata.org/pandas-docs/stable/indexing.html#indexing-view-versus-copy\n",
      "  df_cf['time'] = pd.Series(time)\n",
      "/export/home/di0002ya/quickdraw/cnn_base/feature_engineering_func_ntu.py:193: SettingWithCopyWarning: \n",
      "A value is trying to be set on a copy of a slice from a DataFrame.\n",
      "Try using .loc[row_indexer,col_indexer] = value instead\n",
      "\n",
      "See the caveats in the documentation: http://pandas.pydata.org/pandas-docs/stable/indexing.html#indexing-view-versus-copy\n",
      "  df_cf['total_time_drawing'] = pd.Series(sumtimeps)\n",
      "/export/home/di0002ya/quickdraw/cnn_base/feature_engineering_func_ntu.py:194: SettingWithCopyWarning: \n",
      "A value is trying to be set on a copy of a slice from a DataFrame.\n",
      "Try using .loc[row_indexer,col_indexer] = value instead\n",
      "\n",
      "See the caveats in the documentation: http://pandas.pydata.org/pandas-docs/stable/indexing.html#indexing-view-versus-copy\n",
      "  df_cf['X'] = pd.Series(X)\n",
      "/export/home/di0002ya/quickdraw/cnn_base/feature_engineering_func_ntu.py:195: SettingWithCopyWarning: \n",
      "A value is trying to be set on a copy of a slice from a DataFrame.\n",
      "Try using .loc[row_indexer,col_indexer] = value instead\n",
      "\n",
      "See the caveats in the documentation: http://pandas.pydata.org/pandas-docs/stable/indexing.html#indexing-view-versus-copy\n",
      "  df_cf['Y'] = pd.Series(Y)\n"
     ]
    }
   ],
   "source": [
    "df_1 = CNN_feat_eng_pt1(df)"
   ]
  },
  {
   "cell_type": "markdown",
   "metadata": {},
   "source": [
    "## CNN_feat_eng_pt2"
   ]
  },
  {
   "cell_type": "code",
   "execution_count": 85,
   "metadata": {},
   "outputs": [],
   "source": [
    "df_cf = df_1"
   ]
  },
  {
   "cell_type": "code",
   "execution_count": 86,
   "metadata": {},
   "outputs": [],
   "source": [
    "orig_index = df_cf.index\n",
    "df_cf.index = range(len(df_cf))\n",
    "image_pile = np.zeros((len(df_cf),1176))"
   ]
  },
  {
   "cell_type": "markdown",
   "metadata": {},
   "source": [
    "Let us see the 1st index of df_cf. "
   ]
  },
  {
   "cell_type": "code",
   "execution_count": 88,
   "metadata": {},
   "outputs": [],
   "source": [
    "ind = df_cf.index[0]"
   ]
  },
  {
   "cell_type": "code",
   "execution_count": 89,
   "metadata": {},
   "outputs": [
    {
     "data": {
      "text/plain": [
       "0"
      ]
     },
     "execution_count": 89,
     "metadata": {},
     "output_type": "execute_result"
    }
   ],
   "source": [
    "ind"
   ]
  },
  {
   "cell_type": "code",
   "execution_count": 92,
   "metadata": {},
   "outputs": [],
   "source": [
    "xarray = np.around(np.array(df_cf.loc[ind,'X'])*28)"
   ]
  },
  {
   "cell_type": "code",
   "execution_count": 93,
   "metadata": {},
   "outputs": [
    {
     "data": {
      "text/plain": [
       "array([14., 14., 14., 13., 13., 13., 12., 12., 12., 12., 11., 11., 11.,\n",
       "       11., 11., 11., 12., 12., 12., 12., 12., 11., 11., 10., 10.,  9.,\n",
       "        9.,  8.,  7.,  7.,  6.,  6.,  6.,  5.,  5.,  6.,  6.,  7.,  8.,\n",
       "        9., 10., 11., 12., 14., 16., 17., 19., 20., 22., 22., 23., 23.,\n",
       "       23., 24., 23., 23., 23., 23., 22., 21., 21., 21., 20., 20., 20.,\n",
       "       20., 20., 20., 20., 20., 20., 20., 20., 20., 19., 19., 19., 19.,\n",
       "       19., 19., 19., 18., 18., 18., 18., 17., 17., 17., 17., 17., 17.,\n",
       "       17., 17., 16., 16., 16., 15., 15., 15., 15., 14.,  8.,  8.,  7.,\n",
       "        5.,  4.,  3.,  3.,  2.,  1.,  1.,  1.,  8.,  8.,  7.,  6.,  5.,\n",
       "        4.,  3.,  2.,  1.,  1.,  0., 10.,  9.,  8.,  7.,  6.,  5.,  5.,\n",
       "        4.,  4., 19., 20., 21., 22., 23., 24., 25., 26., 27., 27., 27.,\n",
       "       27., 19., 20., 21., 23., 24., 26., 27., 28., 28., 19., 19., 20.,\n",
       "       23., 23., 23., 23., 23., 23., 14., 13., 13., 12., 12., 12., 12.,\n",
       "       12., 13., 13., 14., 15., 15., 15., 15., 15., 15., 15., 14., 14.,\n",
       "       14., 14., 13., 13., 12., 12., 12., 12.])"
      ]
     },
     "execution_count": 93,
     "metadata": {},
     "output_type": "execute_result"
    }
   ],
   "source": [
    "xarray"
   ]
  },
  {
   "cell_type": "code",
   "execution_count": 94,
   "metadata": {},
   "outputs": [],
   "source": [
    "yarray = np.around(np.array(df_cf.loc[ind,'Y'])*42/float(df_cf.loc[ind,'Ymax']))"
   ]
  },
  {
   "cell_type": "code",
   "execution_count": 95,
   "metadata": {},
   "outputs": [],
   "source": [
    "        xarray[xarray>=28.] = 27\n",
    "        yarray[yarray>=42.] = 41"
   ]
  },
  {
   "cell_type": "code",
   "execution_count": 97,
   "metadata": {},
   "outputs": [
    {
     "data": {
      "text/plain": [
       "array([15., 15., 13., 12., 11., 10.,  9.,  8.,  7.,  7.,  7.,  6.,  7.,\n",
       "        9., 10., 12., 14., 15., 16., 16., 16., 16., 16., 16., 17., 17.,\n",
       "       17., 18., 18., 19., 21., 23., 24., 26., 27., 31., 32., 33., 35.,\n",
       "       36., 37., 37., 38., 38., 38., 37., 36., 34., 32., 31., 29., 27.,\n",
       "       25., 23., 20., 20., 19., 18., 17., 17., 16., 16., 16., 16., 15.,\n",
       "       14., 14., 13., 12., 11., 10.,  9.,  8.,  6.,  5.,  3.,  3.,  1.,\n",
       "        1.,  1.,  2.,  3.,  4.,  5.,  7.,  9., 11., 11., 12., 12., 13.,\n",
       "       13., 14., 14., 14., 14., 15., 15., 15., 15., 15., 27., 27., 27.,\n",
       "       26., 26., 26., 26., 26., 26., 26., 26., 32., 32., 32., 32., 32.,\n",
       "       33., 33., 34., 34., 35., 35., 35., 36., 37., 38., 38., 40., 40.,\n",
       "       41., 41., 27., 27., 27., 27., 27., 27., 27., 27., 27., 28., 28.,\n",
       "       28., 30., 30., 31., 32., 32., 33., 34., 34., 34., 33., 34., 36.,\n",
       "       40., 40., 41., 41., 41., 41., 26., 27., 27., 27., 28., 28., 29.,\n",
       "       29., 30., 30., 30., 30., 30., 29., 29., 28., 27., 27., 27., 26.,\n",
       "       26., 26., 26., 26., 20., 20., 22., 23.])"
      ]
     },
     "execution_count": 97,
     "metadata": {},
     "output_type": "execute_result"
    }
   ],
   "source": [
    "yarray"
   ]
  },
  {
   "cell_type": "code",
   "execution_count": 104,
   "metadata": {},
   "outputs": [
    {
     "data": {
      "text/plain": [
       "190"
      ]
     },
     "execution_count": 104,
     "metadata": {},
     "output_type": "execute_result"
    }
   ],
   "source": [
    "len(df_cf.loc[ind,'X'])"
   ]
  },
  {
   "cell_type": "code",
   "execution_count": null,
   "metadata": {},
   "outputs": [],
   "source": [
    "df_final = CNN_feat_eng_pt2(df_cf)"
   ]
  },
  {
   "cell_type": "code",
   "execution_count": null,
   "metadata": {},
   "outputs": [],
   "source": []
  }
 ],
 "metadata": {
  "kernelspec": {
   "display_name": "Python (myenv)",
   "language": "python",
   "name": "adv_mm"
  },
  "language_info": {
   "codemirror_mode": {
    "name": "ipython",
    "version": 3
   },
   "file_extension": ".py",
   "mimetype": "text/x-python",
   "name": "python",
   "nbconvert_exporter": "python",
   "pygments_lexer": "ipython3",
   "version": "3.6.6"
  }
 },
 "nbformat": 4,
 "nbformat_minor": 2
}
