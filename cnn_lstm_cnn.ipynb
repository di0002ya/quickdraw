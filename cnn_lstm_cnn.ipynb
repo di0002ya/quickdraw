{
  "nbformat": 4,
  "nbformat_minor": 0,
  "metadata": {
    "colab": {
      "name": "cnn_lstm_cnn.ipynb",
      "version": "0.3.2",
      "provenance": [],
      "collapsed_sections": [
        "TqN5BDW-BWb5",
        "zkaNR3VhBoPw"
      ],
      "toc_visible": true
    },
    "kernelspec": {
      "name": "python3",
      "display_name": "Python 3"
    },
    "accelerator": "GPU"
  },
  "cells": [
    {
      "metadata": {
        "id": "8GrIEHEhAKcZ",
        "colab_type": "text"
      },
      "cell_type": "markdown",
      "source": [
        "Author: Qiu Yang\n",
        "\n",
        "CNN-RNN-CNN\n",
        "\n",
        "**Settings used for current result:**\n",
        "\n",
        "toy_dataset, 20000 training , 4000 testing, [X, Y, 0/1], added 0s, model_2, 87%"
      ]
    },
    {
      "metadata": {
        "colab_type": "code",
        "id": "MtsFQfHzulET",
        "colab": {}
      },
      "cell_type": "code",
      "source": [
        "import torch\n",
        "import torch.nn.functional as F\n",
        "import torch.nn as nn\n",
        "import math\n",
        "import time\n",
        "import numpy as np\n",
        "import random\n",
        "import pickle\n",
        "import os.path as path\n",
        "import matplotlib.pyplot as plt\n",
        "from matplotlib.path import Path\n"
      ],
      "execution_count": 0,
      "outputs": []
    },
    {
      "metadata": {
        "colab_type": "code",
        "id": "ZmsvnbXRulEZ",
        "outputId": "c7333664-6d0a-4e46-d04a-88f15010cfb7",
        "colab": {
          "base_uri": "https://localhost:8080/",
          "height": 51
        }
      },
      "cell_type": "code",
      "source": [
        "device= torch.device(\"cuda\")\n",
        "#device= torch.device(\"cpu\")\n",
        "print(device)\n",
        "torch.cuda.is_available()"
      ],
      "execution_count": 2,
      "outputs": [
        {
          "output_type": "stream",
          "text": [
            "cuda\n"
          ],
          "name": "stdout"
        },
        {
          "output_type": "execute_result",
          "data": {
            "text/plain": [
              "True"
            ]
          },
          "metadata": {
            "tags": []
          },
          "execution_count": 2
        }
      ]
    },
    {
      "metadata": {
        "id": "suS_js-gABnF",
        "colab_type": "text"
      },
      "cell_type": "markdown",
      "source": [
        "# Datasets"
      ]
    },
    {
      "metadata": {
        "id": "ZqIfo7oPm20Y",
        "colab_type": "text"
      },
      "cell_type": "markdown",
      "source": [
        "**unpack dataset**"
      ]
    },
    {
      "metadata": {
        "colab_type": "code",
        "id": "jtkWxu9lulEh",
        "outputId": "6989231b-cbfb-491a-b2dd-a96da3b3f3a3",
        "colab": {
          "base_uri": "https://localhost:8080/",
          "height": 51
        }
      },
      "cell_type": "code",
      "source": [
        "data_path  = ''\n",
        "with open(path.join(data_path,'data_X'),'rb') as f:\n",
        "    X=pickle.load(f)\n",
        "    \n",
        "with open(path.join(data_path,'data_Y'),'rb') as f:\n",
        "    Y=pickle.load(f)\n",
        "    \n",
        "len_train_X=int(len(X)*0.8)\n",
        "\n",
        "train_data_raw=np.array(X[:len_train_X])\n",
        "train_label=np.array(Y[:len_train_X])\n",
        "test_data_raw=np.array(X[len_train_X:])\n",
        "test_label=np.array(Y[len_train_X:])\n",
        "\n",
        "\n",
        "print(len(train_data_raw),len(train_label))\n",
        "\n",
        "print(len(test_data_raw),len(test_label))\n"
      ],
      "execution_count": 3,
      "outputs": [
        {
          "output_type": "stream",
          "text": [
            "35685 35685\n",
            "8922 8922\n"
          ],
          "name": "stdout"
        }
      ]
    },
    {
      "metadata": {
        "id": "aKZzEEoSZPal",
        "colab_type": "code",
        "outputId": "4eb7f584-28f8-480b-f9d9-ec504e660134",
        "colab": {
          "base_uri": "https://localhost:8080/",
          "height": 34
        }
      },
      "cell_type": "code",
      "source": [
        "#check classes\n",
        "a = set(train_label)\n",
        "print(a)"
      ],
      "execution_count": 4,
      "outputs": [
        {
          "output_type": "stream",
          "text": [
            "{'penguin', 'calendar', 'teddy-bear', 'snowman', 'blackberry'}\n"
          ],
          "name": "stdout"
        }
      ]
    },
    {
      "metadata": {
        "id": "kQq4PTdismBO",
        "colab_type": "text"
      },
      "cell_type": "markdown",
      "source": [
        "**A random sample**"
      ]
    },
    {
      "metadata": {
        "colab_type": "code",
        "id": "1QvGLEOiulEn",
        "outputId": "5cdc0120-d351-48da-f56c-e703f4340b00",
        "scrolled": true,
        "colab": {
          "base_uri": "https://localhost:8080/",
          "height": 347
        }
      },
      "cell_type": "code",
      "source": [
        "sketch = random.choice(train_data_raw)\n",
        "for i in range(len(sketch)):\n",
        "    plt.plot(sketch[i][0][:], sketch[i][1][:])\n",
        "    \n",
        "plt.show()"
      ],
      "execution_count": 5,
      "outputs": [
        {
          "output_type": "display_data",
          "data": {
            "image/png": "[encoded data removed]",
            "text/plain": [
              "<matplotlib.figure.Figure at 0x7faddc220ef0>"
            ]
          },
          "metadata": {
            "tags": []
          }
        }
      ]
    },
    {
      "metadata": {
        "id": "FJEk8gg3ASTG",
        "colab_type": "text"
      },
      "cell_type": "markdown",
      "source": [
        "**Sub-sampling(for faster run) and reformat**"
      ]
    },
    {
      "metadata": {
        "colab_type": "code",
        "id": "AsYZrNVwulEt",
        "outputId": "56c238fa-9c0d-4a30-c1e0-02b140dd097e",
        "colab": {
          "base_uri": "https://localhost:8080/",
          "height": 173
        }
      },
      "cell_type": "code",
      "source": [
        "#sub sample for experiment due to memory limit\n",
        "train_size=20000\n",
        "test_size=4000\n",
        "\n",
        "train_sample = train_data_raw[0:train_size]\n",
        "train_label_sample = train_label[0:train_size]\n",
        "\n",
        "test_sample = test_data_raw[0:test_size]\n",
        "test_label_sample = test_label[0:test_size]\n",
        "#train_sample = random.sample(list(train_data_raw),train_size)\n",
        "#test_sample = random.sample(list(test_data_raw),test_size)\n",
        "print(len(train_sample))\n",
        "no_point = 0;\n",
        "\n",
        "\n",
        "def get_max_len(sub_sample):\n",
        "    max_stroke_length = 0\n",
        "    max_point_length = 0\n",
        "    for i in range(len(sub_sample)): #each image\n",
        "        if len(sub_sample[i])> max_stroke_length: \n",
        "            max_stroke_length = len(sub_sample[i])\n",
        "        for j in range(len(sub_sample[i])): #each strokes\n",
        "            if len(sub_sample[i][j][0])> max_point_length:\n",
        "                max_point_length = len(sub_sample[i][j][0])\n",
        "    return max_stroke_length,max_point_length\n",
        "                \n",
        "max_stroke_len,max_point_len = get_max_len(train_sample)    \n",
        "print (max_stroke_len,max_point_len)\n",
        "    \n",
        "# no 0\n",
        "def process_data(sub_sample, append):\n",
        "    stroke_data = []\n",
        "    point_data = []\n",
        "    for i in range(len(sub_sample)): #image\n",
        "        for j in range(len(sub_sample[i])): #strokes\n",
        "            for k in range(len(sub_sample[i][j][0])): #points\n",
        "                if append:\n",
        "                    if k == len(sub_sample[i][j][0])-1:\n",
        "                        temp2 = [sub_sample[i][j][0][k],sub_sample[i][j][1][k],1]\n",
        "                    else:\n",
        "                        temp2 = [sub_sample[i][j][0][k],sub_sample[i][j][1][k],0]\n",
        "                    point_data.append(temp2)\n",
        "                else:\n",
        "                    temp = [sub_sample[i][j][0][k],sub_sample[i][j][1][k]]\n",
        "                    point_data.append(temp)\n",
        "        stroke_data.append(point_data)\n",
        "        point_data = []\n",
        "            \n",
        "    return stroke_data\n",
        "\n",
        "# augment with 0\n",
        "def unpack(x,max_strock,max_len):\n",
        "    x_new=torch.zeros(torch.Size([x.shape[0],max_strock,3,max_len]))\n",
        "    for i,item in enumerate(x):\n",
        "        for j,strock in enumerate(item):\n",
        "            strock=torch.Tensor(strock)\n",
        "            x_new[i,j,0,:len(strock[0])]=strock[0]\n",
        "            x_new[i,j,1,:len(strock[0])]=strock[1]\n",
        "            x_new[i,j,2,:len(strock[0])]=0\n",
        "            x_new[i,j,2,len(strock[0])-1]=1\n",
        "    return x_new\n",
        "\n",
        "# no 0\n",
        "train_data = process_data(train_sample, 1)\n",
        "test_data = process_data(test_sample, 1)\n",
        "\n",
        "print (len(train_data))\n",
        "print (len(test_data))\n",
        "\n",
        "# with 0\n",
        "train_data_amend = unpack(train_sample,max_stroke_len,max_point_len)\n",
        "test_data_amend = unpack(test_sample,max_stroke_len,max_point_len)\n",
        "\n",
        "print (train_data_amend.shape)\n",
        "print (test_data_amend.shape)\n",
        "\n",
        "print(train_data_raw[0])\n",
        "print(train_data[0])\n"
      ],
      "execution_count": 6,
      "outputs": [
        {
          "output_type": "stream",
          "text": [
            "20000\n",
            "61 556\n",
            "20000\n",
            "4000\n",
            "torch.Size([20000, 61, 3, 556])\n",
            "torch.Size([4000, 61, 3, 556])\n",
            "[[[30, 24, 23, 25, 33, 68, 131, 151, 160, 163, 164, 150, 128, 79, 49, 37], [90, 81, 41, 34, 26, 12, 0, 17, 32, 48, 99, 114, 118, 117, 103, 85]], [[58, 43, 21, 10, 1, 0, 14, 27, 158, 166, 193, 193, 189, 183, 173, 133, 62, 56, 50], [243, 241, 234, 225, 210, 168, 145, 140, 132, 135, 180, 220, 233, 240, 247, 255, 251, 250, 241]]]\n",
            "[[30, 90, 0], [24, 81, 0], [23, 41, 0], [25, 34, 0], [33, 26, 0], [68, 12, 0], [131, 0, 0], [151, 17, 0], [160, 32, 0], [163, 48, 0], [164, 99, 0], [150, 114, 0], [128, 118, 0], [79, 117, 0], [49, 103, 0], [37, 85, 1], [58, 243, 0], [43, 241, 0], [21, 234, 0], [10, 225, 0], [1, 210, 0], [0, 168, 0], [14, 145, 0], [27, 140, 0], [158, 132, 0], [166, 135, 0], [193, 180, 0], [193, 220, 0], [189, 233, 0], [183, 240, 0], [173, 247, 0], [133, 255, 0], [62, 251, 0], [56, 250, 0], [50, 241, 1]]\n"
          ],
          "name": "stdout"
        }
      ]
    },
    {
      "metadata": {
        "colab_type": "code",
        "id": "6t9V5ZoNWOZd",
        "outputId": "42b219f3-1540-485b-bf15-28362967f581",
        "colab": {
          "base_uri": "https://localhost:8080/",
          "height": 51
        }
      },
      "cell_type": "code",
      "source": [
        "#string to int label\n",
        "label_set = set(train_label_sample)\n",
        "label_list = list(label_set)\n",
        "train_label_tensor = []\n",
        "for i in range(len(train_label_sample)):\n",
        "    train_label_tensor.append(label_list.index(train_label_sample[i]))\n",
        "test_label_set = set(test_label)\n",
        "test_label_list = list(test_label_set)\n",
        "test_label_tensor = []\n",
        "for i in range(len(test_label_sample)):\n",
        "    test_label_tensor.append(test_label_list.index(test_label_sample[i]))  \n",
        "print (len(train_label_tensor),train_label_tensor[0],len(test_label_tensor))\n",
        "print(set(train_label_tensor),set(test_label_tensor))"
      ],
      "execution_count": 7,
      "outputs": [
        {
          "output_type": "stream",
          "text": [
            "20000 3 4000\n",
            "{0, 1, 2, 3, 4} {0, 1, 2, 3, 4}\n"
          ],
          "name": "stdout"
        }
      ]
    },
    {
      "metadata": {
        "id": "RD3rLfs9I33W",
        "colab_type": "text"
      },
      "cell_type": "markdown",
      "source": [
        "# Other data format (not used)"
      ]
    },
    {
      "metadata": {
        "id": "nwdeNv6U_L-H",
        "colab_type": "code",
        "outputId": "d35e74ef-bb7b-4b98-a175-d7e71f29a4b2",
        "colab": {
          "base_uri": "https://localhost:8080/",
          "height": 51
        }
      },
      "cell_type": "code",
      "source": [
        "#append labels to match no.points\n",
        "total_train_label = []\n",
        "total_test_label = []\n",
        "\n",
        "for i in range(len(train_data)):\n",
        "    for j in range(len(train_data[i])):\n",
        "        total_train_label.append(train_label_tensor[i])\n",
        "        \n",
        "for i in range(len(test_data)):\n",
        "    for j in range(len(test_data[i])):\n",
        "        total_test_label.append(test_label_tensor[i])\n",
        "        \n",
        "print(len(total_train_label),total_train_label[0])\n",
        "print(len(total_test_label))"
      ],
      "execution_count": 45,
      "outputs": [
        {
          "output_type": "stream",
          "text": [
            "637360 3\n",
            "130487\n"
          ],
          "name": "stdout"
        }
      ]
    },
    {
      "metadata": {
        "id": "3CvVRG6i_L-L",
        "colab_type": "code",
        "colab": {}
      },
      "cell_type": "code",
      "source": [
        "#a list of all points\n",
        "train_data_points =[]\n",
        "test_data_points = []\n",
        "\n",
        "for i in range(len(train_data)):\n",
        "    train_data_points.extend(train_data[i])\n",
        "    \n",
        "for i in range(len(test_data)):\n",
        "    test_data_points.extend(test_data[i])\n",
        "\n",
        "print (len(train_data_points),train_data_points[0])\n",
        "print (len(test_data_points))\n",
        "\n",
        "# define manually according to factorization of the total no.points\n",
        "point_bs = 19\n",
        "point_len = 16777\n",
        "\n",
        "\n",
        "train_data_points = torch.LongTensor(train_data_points)\n",
        "total_train_label_tensor = torch.LongTensor(total_train_label)\n",
        "\n",
        "\n",
        "# lstm batch_first = true\n",
        "train_data_shaped = torch.zeros(point_bs,point_len,3)\n",
        "train_label_shaped = torch.zeros(point_bs,point_len)\n",
        "\n",
        "for i in range(point_bs):\n",
        "    train_data_shaped[i,:,:] = train_data_points[i*point_len:(i+1)*point_len]\n",
        "    train_label_shaped[i,:] = total_train_label_tensor[i*point_len:(i+1)*point_len]\n",
        "    \n",
        "#train_data_shaped = torch.transpose(train_data_shaped,0,1)\n",
        "print(train_data_shaped.shape,train_label_shaped.shape,train_data_shaped[:,0,:])"
      ],
      "execution_count": 0,
      "outputs": []
    },
    {
      "metadata": {
        "id": "t5AZJyDtA7UZ",
        "colab_type": "text"
      },
      "cell_type": "markdown",
      "source": [
        "# Model"
      ]
    },
    {
      "metadata": {
        "id": "qAwd4QPWbj50",
        "colab_type": "text"
      },
      "cell_type": "markdown",
      "source": [
        "**Model_2: one score for each stroke**"
      ]
    },
    {
      "metadata": {
        "id": "4e15zafUJXmY",
        "colab_type": "code",
        "outputId": "05e01e38-9afd-40e2-8013-98eac843b191",
        "colab": {
          "base_uri": "https://localhost:8080/",
          "height": 119
        }
      },
      "cell_type": "code",
      "source": [
        "#determine/adjust parameters\n",
        "m = nn.Conv1d(3, 6, 3,padding = 1)\n",
        "m2 = nn.Conv1d(1,3,3, padding = 1)\n",
        "l = nn.LSTM(3336, 40)\n",
        "p = nn.MaxPool2d(2,2)\n",
        "input = torch.randn(61, 3, 556)\n",
        "output = m(input)\n",
        "print('c1',output.shape)\n",
        "output = F.relu(output)\n",
        "output = output.view(61,1,-1)\n",
        "print('v1',output.shape)\n",
        "output,_ = l(output)\n",
        "print('l',output.shape)\n",
        "output = m2(output)\n",
        "print('c2',output.shape)\n",
        "output = p(output)\n",
        "print('mp',output.shape)\n",
        "output = output.view(-1,1220)\n",
        "print('v2',output.shape)"
      ],
      "execution_count": 23,
      "outputs": [
        {
          "output_type": "stream",
          "text": [
            "c1 torch.Size([61, 6, 556])\n",
            "v1 torch.Size([61, 1, 3336])\n",
            "l torch.Size([61, 1, 40])\n",
            "c2 torch.Size([61, 3, 40])\n",
            "mp torch.Size([61, 1, 20])\n",
            "v2 torch.Size([1, 1220])\n"
          ],
          "name": "stdout"
        }
      ]
    },
    {
      "metadata": {
        "id": "oHA03dprbkEv",
        "colab_type": "code",
        "colab": {}
      },
      "cell_type": "code",
      "source": [
        "class lstm_cnn (nn.Module):\n",
        "\n",
        "    def __init__(self):\n",
        "        super(lstm_cnn, self).__init__()\n",
        "        \n",
        "        self.conv1 = nn.Conv1d(3,6,3,padding = 1) #2 output channel for 1 input channel\n",
        "        self.lstm = nn.LSTM(3336, 40) # input_size = No. points in 1 stroke.\n",
        "        self.conv2 = nn.Conv1d(1,3,3, padding = 1) #3 channels for 1 h_seq\n",
        "        self.pool = nn.MaxPool2d(2, 2)\n",
        "        self.linear = nn.Linear(1220  , 100)\n",
        "        self.output = nn.Linear(100, 5)\n",
        "\n",
        "        \n",
        "    def forward(self, input_data, h_init, c_init ):\n",
        "        temp = self.conv1(input_data)\n",
        "        #print(temp.shape)\n",
        "        temp = F.relu(temp)\n",
        "        #print(temp.shape)\n",
        "        temp = temp.view(61,1,-1)\n",
        "        #print(temp.shape)\n",
        "        h_seq , (h_final,c_final)  =   self.lstm( temp , (h_init,c_init) )\n",
        "        temp = self.conv2(h_seq)\n",
        "        temp = F.relu(temp)\n",
        "        temp = self.pool(temp)\n",
        "        temp = temp.view(-1,1220)\n",
        "        temp = self.linear(temp)\n",
        "        temp = F.relu(temp) \n",
        "        score = self.output(temp)\n",
        "        \n",
        "        return score"
      ],
      "execution_count": 0,
      "outputs": []
    },
    {
      "metadata": {
        "id": "3rxaHZ9fhNZw",
        "colab_type": "text"
      },
      "cell_type": "markdown",
      "source": [
        "**Build the net**"
      ]
    },
    {
      "metadata": {
        "colab_type": "code",
        "id": "Jio9zcAJulE1",
        "outputId": "28bca06e-c916-46cb-d712-ba7058ea01af",
        "colab": {
          "base_uri": "https://localhost:8080/",
          "height": 170
        }
      },
      "cell_type": "code",
      "source": [
        "def display_num_param(net):\n",
        "    nb_param = 0\n",
        "    for param in net.parameters():\n",
        "        nb_param += param.numel()\n",
        "    print('There are {} ({:.2f} million) parameters in this neural network'.format(\n",
        "        nb_param, nb_param/1e6)\n",
        "         )\n",
        "\n",
        "net = lstm_cnn()\n",
        "\n",
        "print(net)\n",
        "\n",
        "display_num_param(net)"
      ],
      "execution_count": 27,
      "outputs": [
        {
          "output_type": "stream",
          "text": [
            "lstm_cnn(\n",
            "  (conv1): Conv1d(3, 6, kernel_size=(3,), stride=(1,), padding=(1,))\n",
            "  (lstm): LSTM(3336, 40)\n",
            "  (conv2): Conv1d(1, 3, kernel_size=(3,), stride=(1,), padding=(1,))\n",
            "  (pool): MaxPool2d(kernel_size=2, stride=2, padding=0, dilation=1, ceil_mode=False)\n",
            "  (linear): Linear(in_features=1220, out_features=100, bias=True)\n",
            "  (output): Linear(in_features=100, out_features=5, bias=True)\n",
            ")\n",
            "There are 663157 (0.66 million) parameters in this neural network\n"
          ],
          "name": "stdout"
        }
      ]
    },
    {
      "metadata": {
        "colab_type": "code",
        "id": "Lt68k2gSulE5",
        "outputId": "6653d033-1a76-4264-894c-fd8aa1ba848c",
        "scrolled": false,
        "colab": {
          "base_uri": "https://localhost:8080/",
          "height": 1122
        }
      },
      "cell_type": "code",
      "source": [
        "net = net.to(device)\n",
        "\n",
        "net.linear.weight.data.uniform_(-0.1, 0.1)\n",
        "#net.linear1.weight.data.uniform_(-0.1, 0.1)\n",
        "#net.linear2.weight.data.uniform_(-0.1, 0.1)\n",
        "net.output.weight.data.uniform_(-0.1, 0.1)"
      ],
      "execution_count": 20,
      "outputs": [
        {
          "output_type": "execute_result",
          "data": {
            "text/plain": [
              "tensor([[ 0.0406,  0.0544, -0.0308,  0.0666,  0.0921, -0.0778, -0.0989, -0.0212,\n",
              "          0.0200,  0.0492, -0.0372,  0.0864, -0.0569,  0.0007,  0.0205,  0.0601,\n",
              "          0.0789,  0.0890,  0.0390,  0.0603, -0.0874,  0.0478,  0.0789, -0.0727,\n",
              "          0.0524, -0.0302, -0.0386,  0.0174,  0.0748,  0.0889, -0.0292,  0.0594,\n",
              "         -0.0185,  0.0675,  0.0096,  0.0220,  0.0812,  0.0713,  0.0132, -0.0182,\n",
              "          0.0837,  0.0235,  0.0161,  0.0600, -0.0060,  0.0281,  0.0144, -0.0933,\n",
              "          0.0595,  0.0112, -0.0103,  0.0397, -0.0790, -0.0032,  0.0673, -0.0106,\n",
              "          0.0427,  0.0806,  0.0092, -0.0520,  0.0977, -0.0670, -0.0366, -0.0299,\n",
              "          0.0236, -0.0315,  0.0594,  0.0473, -0.0854, -0.0349, -0.0826, -0.0476,\n",
              "         -0.0284, -0.0172,  0.0854,  0.0061, -0.0284, -0.0776, -0.0599,  0.0644,\n",
              "          0.0157,  0.0500, -0.0403,  0.0934, -0.0577, -0.0025, -0.0730,  0.0388,\n",
              "         -0.0348,  0.0723, -0.0607, -0.0849, -0.0812,  0.0964,  0.0006,  0.0147,\n",
              "         -0.0910, -0.0965,  0.0629,  0.0166],\n",
              "        [-0.0523, -0.0042, -0.0324,  0.0010, -0.0907, -0.0323, -0.0827,  0.0454,\n",
              "         -0.0887,  0.0170, -0.0021, -0.0731, -0.0885, -0.0867,  0.0157,  0.0150,\n",
              "         -0.0298,  0.0088, -0.0986,  0.0773, -0.0837, -0.0024, -0.0342, -0.0721,\n",
              "         -0.0199, -0.0645,  0.0125, -0.0964,  0.0232,  0.0317, -0.0246,  0.0852,\n",
              "          0.0005,  0.0856, -0.0749, -0.0820,  0.0976, -0.0108, -0.0517, -0.0101,\n",
              "          0.0758,  0.0379,  0.0204,  0.0641,  0.0899,  0.0135,  0.0113,  0.0995,\n",
              "          0.0240, -0.0523,  0.0244,  0.0705, -0.0284, -0.0897,  0.0608, -0.0662,\n",
              "         -0.0888, -0.0409,  0.0079, -0.0354, -0.0064, -0.0719, -0.0063, -0.0157,\n",
              "         -0.0981, -0.0074,  0.0837, -0.0134, -0.0236,  0.0283, -0.0537, -0.0160,\n",
              "          0.0661,  0.0626, -0.0116, -0.0031, -0.0288, -0.0557, -0.0651, -0.0811,\n",
              "         -0.0095,  0.0060,  0.0922, -0.0506, -0.0498, -0.0862,  0.0843, -0.0891,\n",
              "         -0.0191, -0.0097, -0.0393,  0.0098,  0.0357, -0.0775,  0.0533,  0.0611,\n",
              "          0.0620, -0.0353, -0.0249,  0.0862],\n",
              "        [ 0.0352, -0.0180, -0.0520, -0.0980, -0.0263, -0.0854, -0.0584,  0.0469,\n",
              "          0.0183, -0.0755,  0.0631,  0.0056, -0.0080, -0.0760,  0.0614,  0.0443,\n",
              "         -0.0280,  0.0505, -0.0283,  0.0086,  0.0503, -0.0359, -0.0106, -0.0038,\n",
              "         -0.0546,  0.0494, -0.0326, -0.0874, -0.0274, -0.0050, -0.0445,  0.0164,\n",
              "          0.0366,  0.0578,  0.0235,  0.0295,  0.0457,  0.0040, -0.0956,  0.0527,\n",
              "         -0.0104, -0.0357,  0.0963,  0.0317,  0.0072, -0.0736, -0.0151,  0.0429,\n",
              "         -0.0149,  0.0794,  0.0450, -0.0870,  0.0979,  0.0527,  0.0932, -0.0986,\n",
              "          0.0842, -0.0217, -0.0114,  0.0854,  0.0750, -0.0141, -0.0398,  0.0032,\n",
              "          0.0223,  0.0191,  0.0858,  0.0321, -0.0903,  0.0367, -0.0882,  0.0703,\n",
              "          0.0521,  0.0268, -0.0923,  0.0205,  0.0914, -0.0756,  0.0049, -0.0311,\n",
              "          0.0720,  0.0435, -0.0878,  0.0263, -0.0246, -0.0480,  0.0869, -0.0126,\n",
              "         -0.0007, -0.0063, -0.0402,  0.0819,  0.0107,  0.0393, -0.0267,  0.0603,\n",
              "         -0.0546,  0.0383,  0.0326,  0.0138],\n",
              "        [ 0.0696,  0.0903,  0.0877,  0.0923, -0.0325,  0.0128,  0.0580,  0.0382,\n",
              "          0.0352, -0.0925,  0.0256, -0.0891,  0.0584,  0.0928, -0.0773, -0.0297,\n",
              "         -0.0359, -0.0291,  0.0735, -0.0056,  0.0993, -0.0398,  0.0718,  0.0047,\n",
              "         -0.0252,  0.0818, -0.0756,  0.0358,  0.0501,  0.0054,  0.0138,  0.0653,\n",
              "          0.0844,  0.0421, -0.0863,  0.0072, -0.0161, -0.0806, -0.0509, -0.0855,\n",
              "         -0.0908, -0.0859, -0.0820,  0.0452,  0.0733, -0.0434,  0.0114, -0.0951,\n",
              "          0.0269, -0.0519, -0.0047,  0.0374,  0.0243,  0.0348,  0.0065,  0.0600,\n",
              "         -0.0704, -0.0862, -0.0956,  0.0591,  0.0315, -0.0958, -0.0490,  0.0054,\n",
              "          0.0779, -0.0479,  0.0543, -0.0611,  0.0397, -0.0171,  0.0399, -0.0952,\n",
              "         -0.0378, -0.0383,  0.0987, -0.0214, -0.0261,  0.0475, -0.0619,  0.0864,\n",
              "          0.0787,  0.0386,  0.0832,  0.0178,  0.0436,  0.0755,  0.0690,  0.0625,\n",
              "         -0.0247, -0.0295, -0.0004,  0.0784, -0.0782,  0.0425,  0.0253, -0.0919,\n",
              "          0.0431, -0.0777,  0.0550,  0.0693],\n",
              "        [-0.0960, -0.0531, -0.0511,  0.0783, -0.0259, -0.0633,  0.0877, -0.0734,\n",
              "          0.0670,  0.0335,  0.0154,  0.0119,  0.0300,  0.0247, -0.0961,  0.0062,\n",
              "          0.0416, -0.0478,  0.0856, -0.0088,  0.0829, -0.0705, -0.0628, -0.0868,\n",
              "         -0.0400, -0.0481, -0.0724,  0.0017,  0.0394, -0.0441,  0.0214,  0.0321,\n",
              "          0.0596,  0.0545, -0.0256, -0.0095,  0.0332,  0.0217,  0.0316, -0.0825,\n",
              "          0.0558, -0.0924, -0.0390,  0.0579, -0.0364,  0.0042,  0.0487, -0.0918,\n",
              "          0.0615, -0.0629, -0.0648,  0.0839,  0.0521, -0.0418,  0.0191,  0.0073,\n",
              "          0.0643, -0.0222,  0.0030, -0.0429, -0.0326,  0.0848,  0.0495, -0.0583,\n",
              "          0.0192, -0.0639,  0.0128,  0.0565, -0.0341, -0.0213, -0.0286, -0.0196,\n",
              "          0.0852, -0.0991,  0.0622, -0.0967, -0.0746,  0.0024,  0.0010, -0.0672,\n",
              "         -0.0010, -0.0211, -0.0524, -0.0731,  0.0547, -0.0849,  0.0575, -0.0952,\n",
              "         -0.0381, -0.0276,  0.0583,  0.0457, -0.0191,  0.0456,  0.0828,  0.0367,\n",
              "         -0.0669,  0.0793, -0.0278, -0.0074]], device='cuda:0')"
            ]
          },
          "metadata": {
            "tags": []
          },
          "execution_count": 20
        }
      ]
    },
    {
      "metadata": {
        "id": "zQkjsvH7BRuB",
        "colab_type": "text"
      },
      "cell_type": "markdown",
      "source": [
        "**Loss function**"
      ]
    },
    {
      "metadata": {
        "colab_type": "code",
        "id": "q6WAiVnzulE7",
        "colab": {}
      },
      "cell_type": "code",
      "source": [
        "criterion = nn.CrossEntropyLoss()\n"
      ],
      "execution_count": 0,
      "outputs": []
    },
    {
      "metadata": {
        "id": "TqN5BDW-BWb5",
        "colab_type": "text"
      },
      "cell_type": "markdown",
      "source": [
        "# Training and evaluation"
      ]
    },
    {
      "metadata": {
        "id": "Bud9NH2IDsvD",
        "colab_type": "text"
      },
      "cell_type": "markdown",
      "source": [
        "DONE:\n",
        "\n",
        "reduced learning capacity\n",
        "\n",
        "reduced learning rate\n",
        "\n",
        "doubled training and testing dataset\n",
        "\n",
        "TODO:\n",
        "\n",
        "keep tuning \n",
        "\n",
        "wasserstein for loss\n",
        "\n",
        "weighted cross-entropy:\n",
        "loss = nn.CrossEntropyLoss(weight = weight.type(dtypeFloat))(y,y_target)\n",
        "\n",
        "train loss okay, test loss fluctuating:  overfitting? try dropout/L1 L2 regularization on weights or activations"
      ]
    },
    {
      "metadata": {
        "id": "5ImFwAMNKpFc",
        "colab_type": "text"
      },
      "cell_type": "markdown",
      "source": [
        " **Training by image**"
      ]
    },
    {
      "metadata": {
        "id": "UrxsI3tth4sp",
        "colab_type": "code",
        "colab": {}
      },
      "cell_type": "code",
      "source": [
        "def eval_on_test_set():\n",
        "\n",
        "    running_loss=0\n",
        "    num_batches=0    \n",
        "    \n",
        "    correct = 0\n",
        "    \n",
        "    correct_0 = 0\n",
        "    correct_1 = 0\n",
        "    correct_2 = 0\n",
        "    correct_3 = 0\n",
        "    correct_4 = 0\n",
        "    \n",
        "    h = torch.zeros(1, 1, 40)\n",
        "    c = torch.zeros(1, 1, 40)\n",
        "   \n",
        "    h=h.to(device)\n",
        "    c=c.to(device)\n",
        "       \n",
        "    for count in range( len(test_data_amend)) :\n",
        "               \n",
        "        minibatch_data =  test_data_amend[ count  ]\n",
        "        minibatch_label = test_label_tensor[ count  ]\n",
        "        minibatch_label = torch.LongTensor([minibatch_label]).view(-1)\n",
        "        \n",
        "        minibatch_data=minibatch_data.to(device)\n",
        "        minibatch_label=minibatch_label.to(device)\n",
        "                                  \n",
        "        scores = net( minibatch_data, h , c)\n",
        "        \n",
        "        loss = criterion(  scores ,  minibatch_label )    \n",
        "        \n",
        "        h=h.detach()\n",
        "        c=c.detach()\n",
        "            \n",
        "        running_loss += loss.item()\n",
        "        num_batches += 1        \n",
        "\n",
        "        _, predicted = torch.max(scores,1)\n",
        "        #print(predicted,scores,minibatch_label)\n",
        "        #total += minibatch_label.size(0)\n",
        "        if predicted == minibatch_label:\n",
        "            correct+=1\n",
        "            if predicted == 0:\n",
        "                correct_0+=1\n",
        "            elif predicted == 1:\n",
        "                correct_1+=1\n",
        "            elif predicted == 2:\n",
        "                correct_2+=1                \n",
        "            elif predicted == 3:\n",
        "                correct_3+=1        \n",
        "            elif predicted == 4:\n",
        "                correct_4+=1                    \n",
        "        #print([predicted, minibatch_label[0], minibatch_label])\n",
        "    \n",
        "    total_loss = running_loss/num_batches \n",
        "    print('test: exp(loss) = ', math.exp(total_loss)  )\n",
        "    print ('correct', correct, 'correcr_0', correct_0,'correct_1',correct_1,'correcr_2', correct_2,'correct_3',correct_3,'correct_4',correct_4)\n",
        "    print ('Test accuracy:{}%'.format(100 * correct / len(test_data_amend)))"
      ],
      "execution_count": 0,
      "outputs": []
    },
    {
      "metadata": {
        "colab_type": "code",
        "id": "ApWfPoXvulE_",
        "outputId": "54941c68-7310-4a03-ff09-5ccbda29f1f1",
        "colab": {
          "base_uri": "https://localhost:8080/",
          "height": 2985
        }
      },
      "cell_type": "code",
      "source": [
        "start=time.time()\n",
        "lr = 0.001 #default for adam\n",
        "\n",
        "for epoch in range(100):\n",
        " \n",
        "    if epoch > 5:\n",
        "        lr = lr / 2\n",
        "    \n",
        "    if lr < 0.0001:\n",
        "        lr = 0.0001\n",
        "        \n",
        "    optimizer=torch.optim.Adam( net.parameters(),lr = lr)\n",
        "        \n",
        "    running_loss=0\n",
        "    num_batches=0    \n",
        "       \n",
        "    h = torch.zeros( 1, 1, 40)\n",
        "    c = torch.zeros( 1, 1, 40)\n",
        "    \n",
        "    h=h.to(device)\n",
        "    c=c.to(device)\n",
        "    \n",
        "    for count in range( len(train_data_amend)):\n",
        "        \n",
        "        optimizer.zero_grad()\n",
        "        \n",
        "        minibatch_data = train_data_amend[ count]\n",
        "        minibatch_label = train_label_tensor[count]\n",
        "        minibatch_label = torch.LongTensor([minibatch_label]).view(-1)\n",
        "        #print (minibatch_data.shape)\n",
        "        #print (minibatch_label)\n",
        "\n",
        "        minibatch_data=minibatch_data.to(device)\n",
        "        minibatch_label=minibatch_label.to(device)\n",
        "        \n",
        "        h=h.detach()\n",
        "        c=c.detach()\n",
        "        h=h.requires_grad_()\n",
        "        c=c.requires_grad_()\n",
        "                       \n",
        "        # forward the minibatch through the net        \n",
        "        scores = net( minibatch_data, h , c )\n",
        "        \n",
        "        # Compute the average of the losses of the data points in this huge batch\n",
        "        loss = criterion(  scores ,  minibatch_label )\n",
        "        \n",
        "        # backward pass to compute dL/dR, dL/dV and dL/dW\n",
        "        loss.backward()\n",
        "\n",
        "        optimizer.step()\n",
        "                    \n",
        "        # update the running loss  \n",
        "        running_loss += loss.item()\n",
        "        num_batches += 1\n",
        "                \n",
        "    # compute stats for the full training set\n",
        "    total_loss = running_loss/num_batches\n",
        "    elapsed = time.time()-start\n",
        "    \n",
        "    print('')\n",
        "    print('epoch=',epoch, '\\t time=', elapsed, '\\t exp(loss)=',  math.exp(total_loss))\n",
        "    \n",
        "    eval_on_test_set()\n"
      ],
      "execution_count": 22,
      "outputs": [
        {
          "output_type": "stream",
          "text": [
            "\n",
            "epoch= 0 \t time= 371.83787536621094 \t exp(loss)= 2.2207724025692888\n",
            "test: exp(loss) =  1.852122313788179\n",
            "correct 3135 correcr_0 576 correct_1 886 correcr_2 485 correct_3 915 correct_4 273\n",
            "Test accuracy:78.375%\n",
            "\n",
            "epoch= 1 \t time= 771.8687386512756 \t exp(loss)= 1.8060085159950163\n",
            "test: exp(loss) =  1.689108645482406\n",
            "correct 3280 correcr_0 622 correct_1 908 correcr_2 526 correct_3 937 correct_4 287\n",
            "Test accuracy:82.0%\n",
            "\n",
            "epoch= 2 \t time= 1225.363130569458 \t exp(loss)= 1.7392011626571986\n",
            "test: exp(loss) =  1.7134471482558267\n",
            "correct 3250 correcr_0 655 correct_1 898 correcr_2 505 correct_3 926 correct_4 266\n",
            "Test accuracy:81.25%\n",
            "\n",
            "epoch= 3 \t time= 1651.7655174732208 \t exp(loss)= 1.6953867877652469\n",
            "test: exp(loss) =  1.6634108130258214\n",
            "correct 3291 correcr_0 664 correct_1 890 correcr_2 526 correct_3 921 correct_4 290\n",
            "Test accuracy:82.275%\n",
            "\n",
            "epoch= 4 \t time= 2092.6755650043488 \t exp(loss)= 1.6652030207688964\n",
            "test: exp(loss) =  1.6392482907393584\n",
            "correct 3323 correcr_0 658 correct_1 921 correcr_2 546 correct_3 905 correct_4 293\n",
            "Test accuracy:83.075%\n",
            "\n",
            "epoch= 5 \t time= 2528.183450937271 \t exp(loss)= 1.6436653362026536\n",
            "test: exp(loss) =  1.7260662375773754\n",
            "correct 3243 correcr_0 541 correct_1 917 correcr_2 553 correct_3 944 correct_4 288\n",
            "Test accuracy:81.075%\n",
            "\n",
            "epoch= 6 \t time= 2966.4680473804474 \t exp(loss)= 1.5547479783365492\n",
            "test: exp(loss) =  1.540296754040085\n",
            "correct 3401 correcr_0 692 correct_1 915 correcr_2 527 correct_3 947 correct_4 320\n",
            "Test accuracy:85.025%\n",
            "\n",
            "epoch= 7 \t time= 3382.9185769557953 \t exp(loss)= 1.4836823591345183\n",
            "test: exp(loss) =  1.5044687071978045\n",
            "correct 3422 correcr_0 712 correct_1 912 correcr_2 537 correct_3 938 correct_4 323\n",
            "Test accuracy:85.55%\n",
            "\n",
            "epoch= 8 \t time= 3828.070792198181 \t exp(loss)= 1.4383259975410292\n",
            "test: exp(loss) =  1.4846484284897554\n",
            "correct 3442 correcr_0 737 correct_1 918 correcr_2 523 correct_3 932 correct_4 332\n",
            "Test accuracy:86.05%\n",
            "\n",
            "epoch= 9 \t time= 4258.950209140778 \t exp(loss)= 1.4233946735022822\n",
            "test: exp(loss) =  1.4713671441635499\n",
            "correct 3478 correcr_0 753 correct_1 924 correcr_2 520 correct_3 944 correct_4 337\n",
            "Test accuracy:86.95%\n",
            "\n",
            "epoch= 10 \t time= 4659.965521097183 \t exp(loss)= 1.4074693558839497\n",
            "test: exp(loss) =  1.467596830228095\n",
            "correct 3494 correcr_0 763 correct_1 921 correcr_2 522 correct_3 944 correct_4 344\n",
            "Test accuracy:87.35%\n",
            "\n",
            "epoch= 11 \t time= 5056.324677944183 \t exp(loss)= 1.395461811061707\n",
            "test: exp(loss) =  1.472543778799305\n",
            "correct 3486 correcr_0 750 correct_1 924 correcr_2 526 correct_3 951 correct_4 335\n",
            "Test accuracy:87.15%\n",
            "\n",
            "epoch= 12 \t time= 5451.8662095069885 \t exp(loss)= 1.3881914774843385\n",
            "test: exp(loss) =  1.4792839411631271\n",
            "correct 3460 correcr_0 736 correct_1 923 correcr_2 524 correct_3 938 correct_4 339\n",
            "Test accuracy:86.5%\n",
            "\n",
            "epoch= 13 \t time= 5851.356017589569 \t exp(loss)= 1.3830494236362498\n",
            "test: exp(loss) =  1.468963307790004\n",
            "correct 3476 correcr_0 753 correct_1 922 correcr_2 523 correct_3 940 correct_4 338\n",
            "Test accuracy:86.9%\n",
            "\n",
            "epoch= 14 \t time= 6211.236490011215 \t exp(loss)= 1.3749344662653924\n",
            "test: exp(loss) =  1.477019180693615\n",
            "correct 3479 correcr_0 750 correct_1 922 correcr_2 530 correct_3 945 correct_4 332\n",
            "Test accuracy:86.975%\n",
            "\n",
            "epoch= 15 \t time= 6572.878668546677 \t exp(loss)= 1.366265318904624\n",
            "test: exp(loss) =  1.4641040029804997\n",
            "correct 3475 correcr_0 758 correct_1 917 correcr_2 525 correct_3 943 correct_4 332\n",
            "Test accuracy:86.875%\n",
            "\n",
            "epoch= 16 \t time= 6933.989001750946 \t exp(loss)= 1.3553517144364147\n",
            "test: exp(loss) =  1.4635723792411397\n",
            "correct 3485 correcr_0 763 correct_1 920 correcr_2 515 correct_3 944 correct_4 343\n",
            "Test accuracy:87.125%\n",
            "\n",
            "epoch= 17 \t time= 7296.053114652634 \t exp(loss)= 1.3501982262255494\n",
            "test: exp(loss) =  1.4732952421689098\n",
            "correct 3485 correcr_0 758 correct_1 923 correcr_2 521 correct_3 944 correct_4 339\n",
            "Test accuracy:87.125%\n",
            "\n",
            "epoch= 18 \t time= 7658.003756046295 \t exp(loss)= 1.3408615852579022\n",
            "test: exp(loss) =  1.4685654256963054\n",
            "correct 3495 correcr_0 758 correct_1 922 correcr_2 520 correct_3 956 correct_4 339\n",
            "Test accuracy:87.375%\n",
            "\n",
            "epoch= 19 \t time= 8016.341433763504 \t exp(loss)= 1.3332051650089747\n",
            "test: exp(loss) =  1.4710556825380428\n",
            "correct 3496 correcr_0 757 correct_1 923 correcr_2 537 correct_3 944 correct_4 335\n",
            "Test accuracy:87.4%\n",
            "\n",
            "epoch= 20 \t time= 8403.130312204361 \t exp(loss)= 1.3280111341332068\n",
            "test: exp(loss) =  1.4755292725591627\n",
            "correct 3485 correcr_0 753 correct_1 917 correcr_2 529 correct_3 948 correct_4 338\n",
            "Test accuracy:87.125%\n",
            "\n",
            "epoch= 21 \t time= 8797.856326580048 \t exp(loss)= 1.3193974345503359\n",
            "test: exp(loss) =  1.479731575446849\n",
            "correct 3481 correcr_0 753 correct_1 913 correcr_2 533 correct_3 943 correct_4 339\n",
            "Test accuracy:87.025%\n",
            "\n",
            "epoch= 22 \t time= 9165.697852134705 \t exp(loss)= 1.3146231833113984\n",
            "test: exp(loss) =  1.4829213653196822\n",
            "correct 3480 correcr_0 749 correct_1 922 correcr_2 527 correct_3 942 correct_4 340\n",
            "Test accuracy:87.0%\n",
            "\n",
            "epoch= 23 \t time= 9528.139253377914 \t exp(loss)= 1.3064387434832834\n",
            "test: exp(loss) =  1.4764514948095575\n",
            "correct 3516 correcr_0 763 correct_1 920 correcr_2 541 correct_3 951 correct_4 341\n",
            "Test accuracy:87.9%\n",
            "\n",
            "epoch= 24 \t time= 9895.982473611832 \t exp(loss)= 1.3063432638218677\n",
            "test: exp(loss) =  1.4813505892517385\n",
            "correct 3489 correcr_0 758 correct_1 917 correcr_2 530 correct_3 948 correct_4 336\n",
            "Test accuracy:87.225%\n",
            "\n",
            "epoch= 25 \t time= 10257.263849496841 \t exp(loss)= 1.2935341556746731\n",
            "test: exp(loss) =  1.4802116540583425\n",
            "correct 3492 correcr_0 754 correct_1 915 correcr_2 529 correct_3 951 correct_4 343\n",
            "Test accuracy:87.3%\n",
            "\n",
            "epoch= 26 \t time= 10617.622632026672 \t exp(loss)= 1.2887331938289026\n",
            "test: exp(loss) =  1.493799460291\n",
            "correct 3483 correcr_0 762 correct_1 920 correcr_2 520 correct_3 943 correct_4 338\n",
            "Test accuracy:87.075%\n",
            "\n",
            "epoch= 27 \t time= 10985.111024856567 \t exp(loss)= 1.2879192130830797\n",
            "test: exp(loss) =  1.4810280369512678\n",
            "correct 3503 correcr_0 765 correct_1 919 correcr_2 523 correct_3 947 correct_4 349\n",
            "Test accuracy:87.575%\n",
            "\n",
            "epoch= 28 \t time= 11349.74022603035 \t exp(loss)= 1.28088550981567\n",
            "test: exp(loss) =  1.4839143460728932\n",
            "correct 3495 correcr_0 752 correct_1 919 correcr_2 529 correct_3 949 correct_4 346\n",
            "Test accuracy:87.375%\n",
            "\n",
            "epoch= 29 \t time= 11716.137433290482 \t exp(loss)= 1.2730987257378008\n",
            "test: exp(loss) =  1.495070411793796\n",
            "correct 3501 correcr_0 749 correct_1 930 correcr_2 528 correct_3 946 correct_4 348\n",
            "Test accuracy:87.525%\n",
            "\n",
            "epoch= 30 \t time= 12079.921563148499 \t exp(loss)= 1.2690881647540777\n",
            "test: exp(loss) =  1.4954294277992786\n",
            "correct 3495 correcr_0 759 correct_1 924 correcr_2 530 correct_3 945 correct_4 337\n",
            "Test accuracy:87.375%\n"
          ],
          "name": "stdout"
        },
        {
          "output_type": "error",
          "ename": "KeyboardInterrupt",
          "evalue": "ignored",
          "traceback": [
            "\u001b[0;31m---------------------------------------------------------------------------\u001b[0m",
            "\u001b[0;31mKeyboardInterrupt\u001b[0m                         Traceback (most recent call last)",
            "\u001b[0;32m<ipython-input-22-51f8f4ee0c85>\u001b[0m in \u001b[0;36m<module>\u001b[0;34m()\u001b[0m\n\u001b[1;32m     48\u001b[0m         \u001b[0mloss\u001b[0m\u001b[0;34m.\u001b[0m\u001b[0mbackward\u001b[0m\u001b[0;34m(\u001b[0m\u001b[0;34m)\u001b[0m\u001b[0;34m\u001b[0m\u001b[0m\n\u001b[1;32m     49\u001b[0m \u001b[0;34m\u001b[0m\u001b[0m\n\u001b[0;32m---> 50\u001b[0;31m         \u001b[0moptimizer\u001b[0m\u001b[0;34m.\u001b[0m\u001b[0mstep\u001b[0m\u001b[0;34m(\u001b[0m\u001b[0;34m)\u001b[0m\u001b[0;34m\u001b[0m\u001b[0m\n\u001b[0m\u001b[1;32m     51\u001b[0m \u001b[0;34m\u001b[0m\u001b[0m\n\u001b[1;32m     52\u001b[0m         \u001b[0;31m# update the running loss\u001b[0m\u001b[0;34m\u001b[0m\u001b[0;34m\u001b[0m\u001b[0m\n",
            "\u001b[0;32m/usr/local/lib/python3.6/dist-packages/torch/optim/adam.py\u001b[0m in \u001b[0;36mstep\u001b[0;34m(self, closure)\u001b[0m\n\u001b[1;32m     98\u001b[0m                     \u001b[0mdenom\u001b[0m \u001b[0;34m=\u001b[0m \u001b[0mmax_exp_avg_sq\u001b[0m\u001b[0;34m.\u001b[0m\u001b[0msqrt\u001b[0m\u001b[0;34m(\u001b[0m\u001b[0;34m)\u001b[0m\u001b[0;34m.\u001b[0m\u001b[0madd_\u001b[0m\u001b[0;34m(\u001b[0m\u001b[0mgroup\u001b[0m\u001b[0;34m[\u001b[0m\u001b[0;34m'eps'\u001b[0m\u001b[0;34m]\u001b[0m\u001b[0;34m)\u001b[0m\u001b[0;34m\u001b[0m\u001b[0m\n\u001b[1;32m     99\u001b[0m                 \u001b[0;32melse\u001b[0m\u001b[0;34m:\u001b[0m\u001b[0;34m\u001b[0m\u001b[0m\n\u001b[0;32m--> 100\u001b[0;31m                     \u001b[0mdenom\u001b[0m \u001b[0;34m=\u001b[0m \u001b[0mexp_avg_sq\u001b[0m\u001b[0;34m.\u001b[0m\u001b[0msqrt\u001b[0m\u001b[0;34m(\u001b[0m\u001b[0;34m)\u001b[0m\u001b[0;34m.\u001b[0m\u001b[0madd_\u001b[0m\u001b[0;34m(\u001b[0m\u001b[0mgroup\u001b[0m\u001b[0;34m[\u001b[0m\u001b[0;34m'eps'\u001b[0m\u001b[0;34m]\u001b[0m\u001b[0;34m)\u001b[0m\u001b[0;34m\u001b[0m\u001b[0m\n\u001b[0m\u001b[1;32m    101\u001b[0m \u001b[0;34m\u001b[0m\u001b[0m\n\u001b[1;32m    102\u001b[0m                 \u001b[0mbias_correction1\u001b[0m \u001b[0;34m=\u001b[0m \u001b[0;36m1\u001b[0m \u001b[0;34m-\u001b[0m \u001b[0mbeta1\u001b[0m \u001b[0;34m**\u001b[0m \u001b[0mstate\u001b[0m\u001b[0;34m[\u001b[0m\u001b[0;34m'step'\u001b[0m\u001b[0;34m]\u001b[0m\u001b[0;34m\u001b[0m\u001b[0m\n",
            "\u001b[0;31mKeyboardInterrupt\u001b[0m: "
          ]
        }
      ]
    }
  ]
}