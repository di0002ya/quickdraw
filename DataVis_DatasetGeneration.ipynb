{
 "cells": [
  {
   "cell_type": "code",
   "execution_count": 1,
   "metadata": {},
   "outputs": [
    {
     "name": "stdout",
     "output_type": "stream",
     "text": [
      "readding data from /raid5/liuchang/quick_draw/penguin.ndjson\n",
      "Now found 253791 avaliable data.\n",
      "readding data from /raid5/liuchang/quick_draw/teddy-bear.ndjson\n",
      "Now found 179568 avaliable data.\n",
      "readding data from /raid5/liuchang/quick_draw/calendar.ndjson\n",
      "Now found 321981 avaliable data.\n",
      "readding data from /raid5/liuchang/quick_draw/snowman.ndjson\n",
      "Now found 340029 avaliable data.\n",
      "readding data from /raid5/liuchang/quick_draw/blackberry.ndjson\n",
      "Now found 128153 avaliable data.\n"
     ]
    }
   ],
   "source": [
    "\n",
    "import glob\n",
    "import os.path as path\n",
    "\n",
    "import ndjson\n",
    "\n",
    "dataset_path='/raid5/liuchang/quick_draw'\n",
    "class_name = ['calendar', 'snowman', 'penguin', 'blackberry', 'teddy-bear']  # class_name=-1 means all class\n",
    "country_code = -1  # country_code=-1 means all countries\n",
    "output_path='/raid5/liuchang/quick_draw_output'\n",
    "\n",
    "\n",
    "import numpy as np\n",
    "def split_data(data):\n",
    "    return [(i['recognized'],i['drawing'],i['word']) for i in data]\n",
    "\n",
    "splitted=[]\n",
    "i =0\n",
    "min_len=np.inf\n",
    "for file_path in glob.iglob(path.join(dataset_path,'*.ndjson')):\n",
    "    i += 1\n",
    "    label=file_path.split('/')[-1].split('.')[0]\n",
    "    if class_name!=-1 and label not in class_name:\n",
    "        continue\n",
    "    print('readding data from {}'.format(file_path))\n",
    "    with open(file_path) as f:\n",
    "        data = ndjson.load(f)\n",
    "    print('Now found {} avaliable data.'.format(len(data)))\n",
    "    splitted.append(split_data(data))\n",
    "    min_len=min(min_len,len(data))\n",
    "\n",
    "\n",
    "import random\n",
    "dataset=[]\n",
    "for i,data in enumerate(splitted):\n",
    "    dataset+=random.sample(data,min_len)"
   ]
  },
  {
   "cell_type": "code",
   "execution_count": 4,
   "metadata": {},
   "outputs": [],
   "source": [
    "def get_max_len_stroke(x):\n",
    "    l_len=[]\n",
    "    l_stroke=[]\n",
    "    for i,item in enumerate(x):\n",
    "        item=item[1]\n",
    "        l_stroke.append(len(item))\n",
    "        max_len=0\n",
    "        for j,stroke in enumerate(item):\n",
    "            max_len=max(max_len,len(stroke[0])) \n",
    "        l_len.append(max_len)\n",
    "    return l_len,l_stroke\n",
    "l_len,l_strock=get_max_len_stroke(dataset)"
   ]
  },
  {
   "cell_type": "code",
   "execution_count": 5,
   "metadata": {},
   "outputs": [],
   "source": [
    "def count(l):\n",
    "    x=list(range(0,max(l)))\n",
    "    y=[l.count(i) for i in x]\n",
    "    return x,y"
   ]
  },
  {
   "cell_type": "code",
   "execution_count": 105,
   "metadata": {},
   "outputs": [
    {
     "data": {
      "image/png": "[encoded data removed]",
      "text/plain": [
       "<Figure size 432x288 with 1 Axes>"
      ]
     },
     "metadata": {
      "needs_background": "light"
     },
     "output_type": "display_data"
    }
   ],
   "source": [
    "import matplotlib.pyplot as plt\n",
    "%matplotlib inline\n",
    "x,y=count(l_strock)\n",
    "plt.figure()\n",
    "plt.plot(x,y)\n",
    "plt.show()"
   ]
  },
  {
   "cell_type": "code",
   "execution_count": 106,
   "metadata": {},
   "outputs": [],
   "source": [
    "max_stroke_cut=30\n",
    "to_cut=np.sum(y[max_stroke_cut:])"
   ]
  },
  {
   "cell_type": "code",
   "execution_count": 107,
   "metadata": {},
   "outputs": [
    {
     "data": {
      "image/png": "[encoded data removed]",
      "text/plain": [
       "<Figure size 432x288 with 1 Axes>"
      ]
     },
     "metadata": {
      "needs_background": "light"
     },
     "output_type": "display_data"
    }
   ],
   "source": [
    "x,y=count(l_len)\n",
    "plt.figure()\n",
    "plt.plot(x,y)\n",
    "plt.show()"
   ]
  },
  {
   "cell_type": "code",
   "execution_count": 108,
   "metadata": {},
   "outputs": [],
   "source": [
    "max_len_cut=200\n",
    "to_cut+=np.sum(y[max_len_cut:])\n"
   ]
  },
  {
   "cell_type": "code",
   "execution_count": 109,
   "metadata": {},
   "outputs": [
    {
     "name": "stdout",
     "output_type": "stream",
     "text": [
      "To cut 32346 paintings\n",
      "It is about 0.051079836524309745\n"
     ]
    }
   ],
   "source": [
    "print(\"To cut\",to_cut,\"paintings\")\n",
    "print(\"It is about\",to_cut/(len(dataset)))"
   ]
  },
  {
   "cell_type": "code",
   "execution_count": 87,
   "metadata": {},
   "outputs": [],
   "source": [
    "#cut down dataset\n",
    "def cut_large_paint(x,max_stroke_cut,max_len_cut):\n",
    "    new_dataset=[]\n",
    "    for i,item in enumerate(x):\n",
    "        item=item[1]\n",
    "        if len(item)>max_stroke_cut:\n",
    "            continue\n",
    "        max_len=0\n",
    "        for j,stroke in enumerate(item):\n",
    "            max_len=max(max_len,len(stroke[0])) \n",
    "        if max_len>max_len_cut:\n",
    "            continue\n",
    "        new_dataset.append(x[i])\n",
    "    return new_dataset\n",
    "new_dataset=cut_large_paint(dataset,max_stroke_cut,max_len_cut)"
   ]
  },
  {
   "cell_type": "code",
   "execution_count": 92,
   "metadata": {},
   "outputs": [],
   "source": [
    "dataset=new_dataset"
   ]
  },
  {
   "cell_type": "code",
   "execution_count": 93,
   "metadata": {},
   "outputs": [
    {
     "name": "stdout",
     "output_type": "stream",
     "text": [
      "128153 633244\n"
     ]
    }
   ],
   "source": [
    "random.shuffle(dataset)\n",
    "print(min_len,len(dataset))\n",
    "Recognized=[i[0] for i in dataset]\n",
    "X=[i[1] for i in dataset]\n",
    "Y=[i[2] for i in dataset]\n",
    "\n",
    "Yu = set(Y)\n",
    "dict = {}\n",
    "for index, label in enumerate(Yu):\n",
    "    dict[label] = index\n",
    "\n",
    "Yc = []\n",
    "for i in Y:\n",
    "    Yc.append(dict[i])\n",
    "\n",
    "r=int(0.8*len(X))\n",
    "train_Recognized=Recognized[:r]\n",
    "train_X=X[:r]\n",
    "train_Y=Yc[:r]\n",
    "test_Recognized=Recognized[r:]\n",
    "test_X=X[r:]\n",
    "test_Y=Yc[r:]"
   ]
  },
  {
   "cell_type": "code",
   "execution_count": 94,
   "metadata": {},
   "outputs": [],
   "source": [
    "import pickle\n",
    "import os\n",
    "with open(os.path.join(output_path,'1102_05b'+str(len(X))),'wb') as f:\n",
    "    pickle.dump((train_Recognized,train_X,train_Y,test_Recognized,test_X,test_Y),f)"
   ]
  },
  {
   "cell_type": "code",
   "execution_count": 95,
   "metadata": {},
   "outputs": [
    {
     "data": {
      "text/plain": [
       "633244"
      ]
     },
     "execution_count": 95,
     "metadata": {},
     "output_type": "execute_result"
    }
   ],
   "source": [
    "len(train_X)+len(test_X)"
   ]
  },
  {
   "cell_type": "code",
   "execution_count": null,
   "metadata": {},
   "outputs": [],
   "source": []
  }
 ],
 "metadata": {
  "kernelspec": {
   "display_name": "Python 3",
   "language": "python",
   "name": "python3"
  },
  "language_info": {
   "codemirror_mode": {
    "name": "ipython",
    "version": 3
   },
   "file_extension": ".py",
   "mimetype": "text/x-python",
   "name": "python",
   "nbconvert_exporter": "python",
   "pygments_lexer": "ipython3",
   "version": "3.6.5"
  }
 },
 "nbformat": 4,
 "nbformat_minor": 2
}
